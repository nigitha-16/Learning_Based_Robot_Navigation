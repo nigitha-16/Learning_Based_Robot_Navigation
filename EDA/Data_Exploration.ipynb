{
 "cells": [
  {
   "cell_type": "code",
   "execution_count": 7,
   "metadata": {},
   "outputs": [
    {
     "name": "stderr",
     "output_type": "stream",
     "text": [
      "[INFO] [1724829035.644594046] [rosbag2_storage]: Opened database '/home/nigitha/ros2_ws_rnd/src/Data/hall_01/hall_01.db3' for READ_ONLY.\n"
     ]
    },
    {
     "ename": "NameError",
     "evalue": "name 'PointCloudToLaserScan' is not defined",
     "output_type": "error",
     "traceback": [
      "\u001b[0;31m---------------------------------------------------------------------------\u001b[0m",
      "\u001b[0;31mNameError\u001b[0m                                 Traceback (most recent call last)",
      "Cell \u001b[0;32mIn[7], line 43\u001b[0m\n\u001b[1;32m     39\u001b[0m             \u001b[38;5;28;01mbreak\u001b[39;00m\n\u001b[1;32m     42\u001b[0m \u001b[38;5;28;01mif\u001b[39;00m \u001b[38;5;18m__name__\u001b[39m \u001b[38;5;241m==\u001b[39m \u001b[38;5;124m\"\u001b[39m\u001b[38;5;124m__main__\u001b[39m\u001b[38;5;124m\"\u001b[39m:\n\u001b[0;32m---> 43\u001b[0m     \u001b[43mread_rosbag2\u001b[49m\u001b[43m(\u001b[49m\u001b[38;5;124;43m\"\u001b[39;49m\u001b[38;5;124;43m/home/nigitha/ros2_ws_rnd/src/Data/hall_01\u001b[39;49m\u001b[38;5;124;43m\"\u001b[39;49m\u001b[43m)\u001b[49m\n",
      "Cell \u001b[0;32mIn[7], line 20\u001b[0m, in \u001b[0;36mread_rosbag2\u001b[0;34m(bag_file)\u001b[0m\n\u001b[1;32m     17\u001b[0m bridge\u001b[38;5;241m=\u001b[39mCvBridge()\n\u001b[1;32m     18\u001b[0m data_dict \u001b[38;5;241m=\u001b[39m {}\n\u001b[0;32m---> 20\u001b[0m pcl2ls \u001b[38;5;241m=\u001b[39m \u001b[43mPointCloudToLaserScan\u001b[49m()\n\u001b[1;32m     21\u001b[0m \u001b[38;5;66;03m# Read and print messages\u001b[39;00m\n\u001b[1;32m     22\u001b[0m \u001b[38;5;28;01mwhile\u001b[39;00m reader\u001b[38;5;241m.\u001b[39mhas_next():\n",
      "\u001b[0;31mNameError\u001b[0m: name 'PointCloudToLaserScan' is not defined"
     ]
    }
   ],
   "source": [
    "import rclpy\n",
    "import os\n",
    "import cv2\n",
    "from rosbag2_py import SequentialReader, StorageOptions, ConverterOptions\n",
    "from cv_bridge import CvBridge\n",
    "from sensor_msgs.msg import CompressedImage, PointCloud2\n",
    "from rclpy.serialization import deserialize_message\n",
    "import numpy as np\n",
    "\n",
    "def read_rosbag2(bag_file):\n",
    "\n",
    "    # Create a SequentialReader instance\n",
    "    storage_options = StorageOptions(uri=bag_file)\n",
    "    converter_options = ConverterOptions(input_serialization_format=\"cdr\", output_serialization_format=\"cdr\")\n",
    "    reader = SequentialReader()\n",
    "    reader.open(storage_options, converter_options)\n",
    "    bridge=CvBridge()\n",
    "    data_dict = {}\n",
    "\n",
    "    pcl2ls = PointCloudToLaserScan()\n",
    "    # Read and print messages\n",
    "    while reader.has_next():\n",
    "        topic, msg, t = reader.read_next()\n",
    "        t = int(t/1e09)\n",
    "        \n",
    "        data_dict[t] = {}\n",
    "        if topic == '/camera/color/image_raw/compressed':\n",
    "            m = deserialize_message(msg, CompressedImage)\n",
    "            cv_image=bridge.compressed_imgmsg_to_cv2(m, desired_encoding='bgr8')\n",
    "            # cv2.imshow(\"Compressed Image\"+ , cv_image)\n",
    "            # cv2.waitKey(2)\n",
    "            data_dic[t]['image'] = cv_image\n",
    "            break\n",
    "            \n",
    "        if topic == '/velodyne_points':\n",
    "            m = deserialize_message(msg, PointCloud2)\n",
    "            ls = pcl2ls.point_cloud_callback(m)\n",
    "            data_dict[t]['laser_scan'] = ls\n",
    "            break\n",
    "\n",
    "\n",
    "if __name__ == \"__main__\":\n",
    "    read_rosbag2(\"/home/nigitha/ros2_ws_rnd/src/Data/hall_01\")"
   ]
  },
  {
   "cell_type": "code",
   "execution_count": null,
   "metadata": {},
   "outputs": [
    {
     "name": "stdout",
     "output_type": "stream",
     "text": [
      "Collecting numpy==1.21.6\n",
      "\u001b[33m  WARNING: Retrying (Retry(total=4, connect=None, read=None, redirect=None, status=None)) after connection broken by 'NewConnectionError('<pip._vendor.urllib3.connection.HTTPSConnection object at 0x75adf732f190>: Failed to establish a new connection: [Errno -3] Temporary failure in name resolution')': /packages/6f/7b/036000a55680e6c7eb81502b0aa27ce0ed65d4d8805613909967d9f8baf6/numpy-1.21.6-cp310-cp310-manylinux_2_17_x86_64.manylinux2014_x86_64.whl.metadata\u001b[0m\u001b[33m\n",
      "\u001b[0m  Downloading numpy-1.21.6-cp310-cp310-manylinux_2_17_x86_64.manylinux2014_x86_64.whl.metadata (2.1 kB)\n",
      "Downloading numpy-1.21.6-cp310-cp310-manylinux_2_17_x86_64.manylinux2014_x86_64.whl (15.9 MB)\n",
      "\u001b[2K   \u001b[38;2;114;156;31m━━━━━━━━━━━━━━━━━━━━━━━━━━━━━━━━━━━━━━━━\u001b[0m \u001b[32m15.9/15.9 MB\u001b[0m \u001b[31m7.0 MB/s\u001b[0m eta \u001b[36m0:00:00\u001b[0m[31m7.1 MB/s\u001b[0m eta \u001b[36m0:00:01\u001b[0m\n",
      "\u001b[?25hInstalling collected packages: numpy\n",
      "  Attempting uninstall: numpy\n",
      "    Found existing installation: numpy 2.1.0\n",
      "    Uninstalling numpy-2.1.0:\n",
      "      Successfully uninstalled numpy-2.1.0\n",
      "Successfully installed numpy-1.21.6\n",
      "Note: you may need to restart the kernel to use updated packages.\n"
     ]
    }
   ],
   "source": [
    "pip install numpy==1.21.6"
   ]
  },
  {
   "cell_type": "code",
   "execution_count": null,
   "metadata": {},
   "outputs": [],
   "source": [
    "import rclpy\n",
    "from sensor_msgs.msg import PointCloud2, LaserScan\n",
    "import numpy as np\n",
    "import sensor_msgs_py.point_cloud2 as point_cloud2\n",
    "class PointCloudToLaserScan():\n",
    "    def __init__(self):\n",
    "        self.angle_min =  -np.pi / 2\n",
    "        self.angle_max = np.pi / 2\n",
    "        self.angle_increment = 0.01\n",
    "        self.range_min = 0.0\n",
    "        self.range_max = 10.0\n",
    "        self.scan_time = 0.1\n",
    "        self.min_height = -0.1\n",
    "        self.max_height = 0.1\n",
    "\n",
    "    \n",
    "    def point_cloud_callback(self, msg):\n",
    "        points = list(point_cloud2.read_points(msg, field_names=(\"x\", \"y\", \"z\"), skip_nans=True))\n",
    "        \n",
    "        ranges = np.full(int((self.angle_max - self.angle_min) / self.angle_increment), np.inf)\n",
    "        \n",
    "        for point in points:\n",
    "            x, y, z = point\n",
    "            \n",
    "            if z < self.min_height or z > self.max_height:\n",
    "                continue\n",
    "            \n",
    "            range_val = np.sqrt(x**2 + y**2)\n",
    "            if range_val < self.range_min or range_val > self.range_max:\n",
    "                continue\n",
    "            \n",
    "            angle = np.arctan2(y, x)\n",
    "            if angle < self.angle_min or angle > self.angle_max:\n",
    "                continue\n",
    "            \n",
    "            bin_index = int((angle - self.angle_min) / self.angle_increment)\n",
    "            if 0 <= bin_index < len(ranges):\n",
    "                ranges[bin_index] = min(ranges[bin_index], range_val)\n",
    "        \n",
    "        scan = LaserScan()\n",
    "        scan.header = msg.header\n",
    "        scan.angle_min = self.angle_min\n",
    "        scan.angle_max = self.angle_max\n",
    "        scan.angle_increment = self.angle_increment\n",
    "        scan.time_increment = 0.0\n",
    "        scan.scan_time = self.scan_time\n",
    "        scan.range_min = self.range_min\n",
    "        scan.range_max = self.range_max\n",
    "        scan.ranges = ranges.tolist()\n",
    "        return scan\n"
   ]
  },
  {
   "cell_type": "code",
   "execution_count": null,
   "metadata": {},
   "outputs": [],
   "source": []
  }
 ],
 "metadata": {
  "kernelspec": {
   "display_name": "Python 3 (ipykernel)",
   "language": "python",
   "name": "python3"
  },
  "language_info": {
   "codemirror_mode": {
    "name": "ipython",
    "version": 3
   },
   "file_extension": ".py",
   "mimetype": "text/x-python",
   "name": "python",
   "nbconvert_exporter": "python",
   "pygments_lexer": "ipython3",
   "version": "3.10.12"
  }
 },
 "nbformat": 4,
 "nbformat_minor": 4
}
