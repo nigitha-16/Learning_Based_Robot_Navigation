{
 "cells": [
  {
   "cell_type": "code",
   "execution_count": 6,
   "id": "5b3ce2aa-2759-4fa7-873b-2dc5a25a549c",
   "metadata": {},
   "outputs": [],
   "source": [
    "import tensorboard\n",
    "%load_ext tensorboard"
   ]
  },
  {
   "cell_type": "code",
   "execution_count": 35,
   "id": "51289341-adfa-482c-baf2-358eed9c11e6",
   "metadata": {},
   "outputs": [
    {
     "data": {
      "text/html": [
       "\n",
       "      <iframe id=\"tensorboard-frame-396a8e6f6a956b6b\" width=\"100%\" height=\"800\" frameborder=\"0\">\n",
       "      </iframe>\n",
       "      <script>\n",
       "        (function() {\n",
       "          const frame = document.getElementById(\"tensorboard-frame-396a8e6f6a956b6b\");\n",
       "          const url = new URL(\"/\", window.location);\n",
       "          const port = 6009;\n",
       "          if (port) {\n",
       "            url.port = port;\n",
       "          }\n",
       "          frame.src = url;\n",
       "        })();\n",
       "      </script>\n",
       "    "
      ],
      "text/plain": [
       "<IPython.core.display.HTML object>"
      ]
     },
     "metadata": {},
     "output_type": "display_data"
    }
   ],
   "source": [
    "%tensorboard --logdir=ros2_rnd_ws/src  --port=6009"
   ]
  },
  {
   "cell_type": "code",
   "execution_count": 34,
   "id": "37a47ad6-e9e0-4cfe-9c20-ecbcd47b94b3",
   "metadata": {},
   "outputs": [],
   "source": [
    "!pkill -f tensorboard"
   ]
  },
  {
   "cell_type": "code",
   "execution_count": null,
   "id": "e3474574-541c-4834-9430-d792eb572716",
   "metadata": {},
   "outputs": [],
   "source": []
  }
 ],
 "metadata": {
  "kernelspec": {
   "display_name": "Python 3 (ipykernel)",
   "language": "python",
   "name": "python3"
  },
  "language_info": {
   "codemirror_mode": {
    "name": "ipython",
    "version": 3
   },
   "file_extension": ".py",
   "mimetype": "text/x-python",
   "name": "python",
   "nbconvert_exporter": "python",
   "pygments_lexer": "ipython3",
   "version": "3.10.12"
  }
 },
 "nbformat": 4,
 "nbformat_minor": 5
}
