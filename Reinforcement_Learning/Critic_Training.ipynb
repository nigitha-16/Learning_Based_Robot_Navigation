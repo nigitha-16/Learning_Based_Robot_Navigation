{
 "cells": [
  {
   "cell_type": "code",
   "execution_count": 17,
   "id": "55ac7daf-0aaa-416e-a448-e1d040bd2438",
   "metadata": {},
   "outputs": [
    {
     "name": "stdout",
     "output_type": "stream",
     "text": [
      "432516\n",
      "Training, validation, and test datasets created and preprocessed.\n"
     ]
    }
   ],
   "source": [
    "from sklearn.model_selection import train_test_split\n",
    "import pickle\n",
    "import os\n",
    "import h5py\n",
    "from PIL import Image\n",
    "import numpy as np\n",
    "import datetime\n",
    "import math\n",
    "import random\n",
    "import yaml\n",
    "import argparse\n",
    "import transforms3d\n",
    "from tensorflow.keras.models import Model\n",
    "import tensorflow as tf\n",
    "import matplotlib.pyplot as plt\n",
    "from tensorflow.keras.callbacks import Callback\n",
    "from tensorflow.keras.layers import BatchNormalization, LeakyReLU, Add, Flatten, Dense, concatenate, Rescaling, Normalization, Conv2D, MaxPooling2D, Dropout\n",
    "from tensorflow.keras.initializers import HeNormal\n",
    "from tensorflow.keras import Model, Input, regularizers\n",
    "from tensorflow.keras.applications import MobileNetV2\n",
    "from tensorflow.keras.optimizers.schedules import ExponentialDecay\n",
    "from sklearn.model_selection import train_test_split\n",
    "\n",
    "\n",
    "class DatasetLoader:\n",
    "    def __init__(self, tfrecord_file, image_shape=[224, 224, 3], lasers_shape=513, goal_shape=2, motion_command_shape=3, reward_shape = 1):\n",
    "        self.tfrecord_file = tfrecord_file\n",
    "        self.image_shape = image_shape\n",
    "        self.lasers_shape = lasers_shape\n",
    "        self.goal_shape = goal_shape\n",
    "        self.motion_command_shape = motion_command_shape\n",
    "        self.reward_shape = reward_shape\n",
    "        self.dataset_length = self._get_dataset_length()\n",
    "        print(self.dataset_length)\n",
    "\n",
    "    def _parse_with_lasers_function(self,proto):\n",
    "        features = {\n",
    "            'laser': tf.io.FixedLenFeature([self.lasers_shape], tf.float32),\n",
    "            'goal': tf.io.FixedLenFeature([self.goal_shape], tf.float32),\n",
    "            'motion_command': tf.io.FixedLenFeature([self.motion_command_shape], tf.float32),\n",
    "            'reward': tf.io.FixedLenFeature([self.reward_shape], tf.float32),\n",
    "        }\n",
    "        parsed_features = tf.io.parse_single_example(proto, features)\n",
    "        return  (parsed_features['laser'], parsed_features['goal'], parsed_features['motion_command']), parsed_features['reward']\n",
    "\n",
    "    def _get_dataset_length(self):\n",
    "        dataset = tf.data.TFRecordDataset(self.tfrecord_file)\n",
    "        metadata_features = {\n",
    "            'metadata': tf.io.FixedLenFeature([], tf.string, default_value=''),\n",
    "            'length': tf.io.FixedLenFeature([], tf.int64, default_value=-1)\n",
    "        }\n",
    "        \n",
    "        for record in dataset.take(1):\n",
    "            parsed_features = tf.io.parse_single_example(record, metadata_features)\n",
    "            dataset_length = parsed_features['length'].numpy()\n",
    "            return dataset_length\n",
    "        \n",
    "        print(\"Metadata not found. Setting length to None.\")\n",
    "        return None\n",
    "\n",
    "    def load_dataset(self):\n",
    "        dataset = tf.data.TFRecordDataset(self.tfrecord_file)\n",
    "        dataset = dataset.skip(1).map(self._parse_with_lasers_function, num_parallel_calls=tf.data.AUTOTUNE)\n",
    "        return dataset\n",
    "\n",
    "\n",
    "    def split_dataset(self, dataset, train_size=0.7, val_size=0.2):\n",
    "        num_elements = self.dataset_length\n",
    "        if num_elements is None:\n",
    "            raise ValueError(\"Dataset length is not set. Ensure the metadata is properly included in the TFRecord.\")\n",
    "        \n",
    "        train_end = int(train_size * num_elements)\n",
    "        val_end = int((train_size + val_size) * num_elements)\n",
    "        \n",
    "        train_dataset = dataset.take(train_end)\n",
    "        val_dataset = dataset.skip(train_end).take(val_end - train_end)\n",
    "        test_dataset = dataset.skip(val_end).take(num_elements - val_end)\n",
    "        \n",
    "        return train_dataset, val_dataset, test_dataset\n",
    "\n",
    "    def preprocess_and_augment(self, dataset_, batch_size=128):\n",
    "        dataset_= dataset_.shuffle(buffer_size=10000).batch(batch_size)\n",
    "        dataset_ = dataset_.prefetch(tf.data.AUTOTUNE)\n",
    "        return dataset_\n",
    "\n",
    "    def get_prepared_datasets(self, train_size=0.7, val_size=0.2, batch_size=128):\n",
    "        dataset = self.load_dataset()\n",
    "        \n",
    "        train_dataset, val_dataset, test_dataset = self.split_dataset(dataset, train_size, val_size)\n",
    "        del dataset\n",
    "        train_dataset = self.preprocess_and_augment(train_dataset, batch_size)\n",
    "        val_dataset = self.preprocess_and_augment(val_dataset, batch_size)\n",
    "        test_dataset = self.preprocess_and_augment(test_dataset, batch_size)\n",
    "        \n",
    "        return train_dataset, val_dataset, test_dataset\n",
    "\n",
    "\n",
    "class CustomExponentialDecay(tf.keras.optimizers.schedules.LearningRateSchedule):\n",
    "    def __init__(self, initial_learning_rate, decay_steps, decay_rate, minimum_learning_rate, staircase=True):\n",
    "        self.initial_learning_rate = initial_learning_rate\n",
    "        self.decay_steps = decay_steps\n",
    "        self.decay_rate = decay_rate\n",
    "        self.minimum_learning_rate = minimum_learning_rate\n",
    "        self.staircase = staircase\n",
    "        self.base_schedule = tf.keras.optimizers.schedules.ExponentialDecay(\n",
    "            initial_learning_rate=initial_learning_rate,\n",
    "            decay_steps=decay_steps,\n",
    "            decay_rate=decay_rate,\n",
    "            staircase=staircase\n",
    "        )\n",
    "\n",
    "    def __call__(self, step):\n",
    "        lr = self.base_schedule(step)\n",
    "        return tf.maximum(lr, self.minimum_learning_rate)\n",
    "\n",
    "    def get_config(self):\n",
    "        return {\n",
    "            'initial_learning_rate': self.initial_learning_rate,\n",
    "            'decay_steps': self.decay_steps,\n",
    "            'decay_rate': self.decay_rate,\n",
    "            'minimum_learning_rate': self.minimum_learning_rate,\n",
    "            'staircase': self.staircase\n",
    "        }\n",
    "\n",
    "class ModelCheckpointEveryN(Callback):\n",
    "    def __init__(self, save_dir, model_name, save_freq=25):\n",
    "        \"\"\"\n",
    "        A custom callback that saves the model every 'save_freq' epochs.\n",
    "        \n",
    "        :param save_dir: Directory to save the model.\n",
    "        :param save_freq: Number of epochs between each save.\n",
    "        \"\"\"\n",
    "        super(ModelCheckpointEveryN, self).__init__()\n",
    "        self.save_dir = save_dir\n",
    "        self.save_freq = save_freq\n",
    "        self.model_name = model_name\n",
    "\n",
    "    def on_epoch_end(self, epoch, logs=None):\n",
    "        # Save the model every 'save_freq' epochs\n",
    "        if (epoch + 1) % self.save_freq == 0:\n",
    "            model_save_path = os.path.join(self.save_dir, f\"{self.model_name}_model_epoch_{epoch+1}.keras\")\n",
    "            print(f\"\\nEpoch {epoch+1}: Saving model to {model_save_path}\")\n",
    "            self.model.save(model_save_path)\n",
    "            \n",
    "class CriticModel_withLaser:\n",
    "    def __init__(self, laser_shape, goal_shape, motion_command_shape, reward_shape, log_dir):\n",
    "        self.laser_shape = laser_shape\n",
    "        self.goal_shape = goal_shape\n",
    "        self.motion_command_shape = motion_command_shape\n",
    "        self.reward_shape = reward_shape\n",
    "        self.log_dir = log_dir\n",
    "\n",
    "        # Define normalization layers\n",
    "        self.laser_normalization = Normalization()\n",
    "        self.goal_normalization = Normalization()\n",
    "        self.reward_normalization = Normalization()\n",
    "\n",
    "        # Initialize the model\n",
    "        self.model = self._create_model()\n",
    "        \n",
    "        \n",
    "    \n",
    "    def _create_model(self):\n",
    "        \"\"\"\n",
    "        Creates a TensorFlow model for processing laser scans, goals, motion commands, and predicting rewards.\n",
    "        \n",
    "        :return: tf.keras.Model\n",
    "        \"\"\"\n",
    "        # Define inputs\n",
    "        laser_input = Input(shape=(self.laser_shape,), name='laser_input')\n",
    "        goal_input = Input(shape=(self.goal_shape,), name='goal_input')\n",
    "        motion_command_input = Input(shape=(self.motion_command_shape,), name='motion_command_input')\n",
    "    \n",
    "        # Optional normalization\n",
    "        laser_normalized = self.laser_normalization(laser_input)\n",
    "        goal_normalized = self.goal_normalization(goal_input)\n",
    "        motion_command_normalized = self.reward_normalization(motion_command_input)\n",
    "    \n",
    "        # Laser processing\n",
    "        laser_hidden = Dense(64, kernel_initializer=HeNormal(), kernel_regularizer=regularizers.l2(1e-4))(laser_normalized)\n",
    "        laser_hidden = BatchNormalization()(laser_hidden)\n",
    "        laser_hidden = LeakyReLU()(laser_hidden)\n",
    "        laser_hidden = Dropout(0.2)(laser_hidden)\n",
    "        laser_hidden = Dense(32, kernel_initializer=HeNormal(), kernel_regularizer=regularizers.l2(1e-4))(laser_hidden)\n",
    "        laser_hidden = BatchNormalization()(laser_hidden)\n",
    "        laser_hidden = LeakyReLU()(laser_hidden)\n",
    "    \n",
    "        # Goal processing\n",
    "        goal_hidden = Dense(16, kernel_initializer=HeNormal(), kernel_regularizer=regularizers.l2(1e-4))(goal_normalized)\n",
    "        goal_hidden = BatchNormalization()(goal_hidden)\n",
    "        goal_hidden = LeakyReLU()(goal_hidden)\n",
    "        goal_hidden = Dropout(0.2)(goal_hidden)\n",
    "        goal_hidden = Dense(32, kernel_initializer=HeNormal(), kernel_regularizer=regularizers.l2(1e-4))(goal_hidden)\n",
    "        goal_hidden = BatchNormalization()(goal_hidden)\n",
    "        goal_hidden = LeakyReLU()(goal_hidden)\n",
    "    \n",
    "        # Motion command processing\n",
    "        motion_command_hidden = Dense(8, kernel_initializer=HeNormal(), kernel_regularizer=regularizers.l2(1e-4))(motion_command_normalized)\n",
    "        motion_command_hidden = BatchNormalization()(motion_command_hidden)\n",
    "        motion_command_hidden = LeakyReLU()(motion_command_hidden)\n",
    "        motion_command_hidden = Dropout(0.2)(motion_command_hidden)\n",
    "        motion_command_hidden = Dense(32, kernel_initializer=HeNormal(), kernel_regularizer=regularizers.l2(1e-4))(motion_command_hidden)\n",
    "        motion_command_hidden = BatchNormalization()(motion_command_hidden)\n",
    "        motion_command_hidden = LeakyReLU()(motion_command_hidden)\n",
    "    \n",
    "        # Concatenate processed features\n",
    "        concatenated = concatenate([laser_hidden, goal_hidden, motion_command_hidden])\n",
    "    \n",
    "        # Fully connected layers after concatenation\n",
    "        hidden = Dense(32, kernel_initializer=HeNormal(), kernel_regularizer=regularizers.l2(1e-4))(concatenated)\n",
    "        hidden = BatchNormalization()(hidden)\n",
    "        hidden = LeakyReLU()(hidden)\n",
    "        hidden = Dropout(0.2)(hidden)\n",
    "        hidden = Dense(16, kernel_initializer=HeNormal(), kernel_regularizer=regularizers.l2(1e-4))(hidden)\n",
    "        hidden = BatchNormalization()(hidden)\n",
    "        hidden = LeakyReLU()(hidden)\n",
    "        hidden = Dropout(0.2)(hidden)\n",
    "    \n",
    "        # Output layer for reward\n",
    "        output = Dense(1, activation='linear', name='reward_output')(hidden)\n",
    "    \n",
    "        # Create and return the model\n",
    "        model = Model(inputs=[laser_input, goal_input, motion_command_input], outputs=output)\n",
    "        return model\n",
    "\n",
    "   \n",
    "\n",
    "\n",
    "    def compile_model(self, initial_learning_rate=0.005, decay_steps=5000, decay_rate=0.96, minimum_learning_rate=0.001):\n",
    "        lr_schedule = CustomExponentialDecay(\n",
    "            initial_learning_rate=initial_learning_rate,\n",
    "            decay_steps=decay_steps,\n",
    "            decay_rate=decay_rate,\n",
    "            minimum_learning_rate=minimum_learning_rate)\n",
    "        \n",
    "        optimizer = tf.keras.optimizers.Adam(learning_rate=lr_schedule)\n",
    "        self.model.compile(optimizer=optimizer, loss='mse', metrics=['mae'])\n",
    "\n",
    "    class PrintLearningRateCallback(Callback):\n",
    "        def on_epoch_end(self, epoch, logs=None):\n",
    "            lr = self.model.optimizer.learning_rate\n",
    "            if isinstance(lr, tf.keras.optimizers.schedules.LearningRateSchedule):\n",
    "                lr = lr(self.model.optimizer.iterations)\n",
    "            print(f\"\\nEpoch {epoch+1}: Learning rate is {tf.keras.backend.eval(lr)}\")\n",
    "    \n",
    "\n",
    "    def train_model(self, train_dataset, val_dataset, epochs, train_steps, val_steps, initial_learning_rate, decay_steps,\n",
    "                    decay_rate, minimum_learning_rate, model_save_path, model_name):\n",
    "        tensorboard_callback = tf.keras.callbacks.TensorBoard(log_dir=self.log_dir, histogram_freq=1)\n",
    "        model_checkpoint_callback = ModelCheckpointEveryN(save_dir=model_save_path, model_name=model_name, save_freq=25)\n",
    "        self.compile_model(initial_learning_rate, decay_steps, decay_rate, minimum_learning_rate)\n",
    "        history = self.model.fit(\n",
    "            train_dataset,\n",
    "            epochs=epochs,\n",
    "            validation_data=val_dataset,\n",
    "            steps_per_epoch=train_steps,  # Specify steps per epoch for training\n",
    "            validation_steps=val_steps,\n",
    "            verbose=1,\n",
    "            callbacks=[self.PrintLearningRateCallback(), tensorboard_callback, model_checkpoint_callback]\n",
    "        )\n",
    "        return history\n",
    "\n",
    "\n",
    "def load_config(config_path):\n",
    "    with open(config_path, 'r') as file:\n",
    "        config = yaml.safe_load(file)\n",
    "    return config\n",
    "\n",
    "\n",
    "    \n",
    "# Load the configuration\n",
    "config = load_config('/work/nselva2s/rnd/repo/src/Reinforcement_Learning/config_critic_laser.yaml')\n",
    "\n",
    "root_dir = config['root_dir']\n",
    "tf_file = os.path.join(root_dir, config['tfrecord_file'])\n",
    "log_dir = config['log_dir'] +datetime.datetime.now().strftime(\"%Y%m%d-%H%M%S\")\n",
    "log_dir = os.path.join(root_dir, log_dir)\n",
    "model_save_path = os.path.join(root_dir, config['model_save_path'])\n",
    "model_name = config['model_name']\n",
    "\n",
    "loader = DatasetLoader(tf_file)\n",
    "train_dataset, val_dataset, test_dataset = loader.get_prepared_datasets(train_size = config['train_size'], val_size = config['val_size'],\n",
    "                                                                       batch_size = config['batch_size'])\n",
    "\n",
    "print('Training, validation, and test datasets created and preprocessed.')\n",
    "\n",
    "\n",
    "\n",
    "\n",
    "\n",
    "\n"
   ]
  },
  {
   "cell_type": "code",
   "execution_count": 18,
   "id": "1f23d385-7a78-47d7-b837-e58c6f3ff84e",
   "metadata": {},
   "outputs": [
    {
     "name": "stdout",
     "output_type": "stream",
     "text": [
      "Epoch 1/50\n",
      "\u001b[1m2296/2300\u001b[0m \u001b[32m━━━━━━━━━━━━━━━━━━━\u001b[0m\u001b[37m━\u001b[0m \u001b[1m0s\u001b[0m 11ms/step - loss: 29.9493 - mae: 4.3119 "
     ]
    },
    {
     "name": "stderr",
     "output_type": "stream",
     "text": [
      "2025-01-15 13:29:25.979129: I tensorflow/core/kernels/data/shuffle_dataset_op.cc:450] ShuffleDatasetV3:174: Filling up shuffle buffer (this may take a while): 1 of 10000\n",
      "2025-01-15 13:29:26.684557: I tensorflow/core/kernels/data/shuffle_dataset_op.cc:480] Shuffle buffer filled.\n"
     ]
    },
    {
     "name": "stdout",
     "output_type": "stream",
     "text": [
      "\n",
      "Epoch 1: Learning rate is 9.999999747378752e-05\n",
      "\u001b[1m2300/2300\u001b[0m \u001b[32m━━━━━━━━━━━━━━━━━━━━\u001b[0m\u001b[37m\u001b[0m \u001b[1m59s\u001b[0m 24ms/step - loss: 29.9388 - mae: 4.3110 - val_loss: 16.6304 - val_mae: 3.1293\n",
      "Epoch 2/50\n",
      "\u001b[1m  61/2300\u001b[0m \u001b[37m━━━━━━━━━━━━━━━━━━━━\u001b[0m \u001b[1m7s\u001b[0m 3ms/step - loss: 19.4968 - mae: 3.3902 \n",
      "Epoch 2: Learning rate is 9.999999747378752e-05\n",
      "\u001b[1m2300/2300\u001b[0m \u001b[32m━━━━━━━━━━━━━━━━━━━━\u001b[0m\u001b[37m\u001b[0m \u001b[1m1s\u001b[0m 253us/step - loss: 19.8691 - mae: 3.4111 - val_loss: 16.5125 - val_mae: 3.0850\n",
      "Epoch 3/50\n",
      "\u001b[1m2294/2300\u001b[0m \u001b[32m━━━━━━━━━━━━━━━━━━━\u001b[0m\u001b[37m━\u001b[0m \u001b[1m0s\u001b[0m 11ms/step - loss: 18.8083 - mae: 3.3060 "
     ]
    },
    {
     "name": "stderr",
     "output_type": "stream",
     "text": [
      "2025-01-15 13:30:21.629494: I tensorflow/core/kernels/data/shuffle_dataset_op.cc:450] ShuffleDatasetV3:174: Filling up shuffle buffer (this may take a while): 1 of 10000\n",
      "2025-01-15 13:30:22.353675: I tensorflow/core/kernels/data/shuffle_dataset_op.cc:480] Shuffle buffer filled.\n"
     ]
    },
    {
     "name": "stdout",
     "output_type": "stream",
     "text": [
      "\n",
      "Epoch 3: Learning rate is 8.999999408842996e-05\n",
      "\u001b[1m2300/2300\u001b[0m \u001b[32m━━━━━━━━━━━━━━━━━━━━\u001b[0m\u001b[37m\u001b[0m \u001b[1m55s\u001b[0m 24ms/step - loss: 18.8064 - mae: 3.3058 - val_loss: 13.9732 - val_mae: 2.7801\n",
      "Epoch 4/50\n",
      "\u001b[1m  59/2300\u001b[0m \u001b[37m━━━━━━━━━━━━━━━━━━━━\u001b[0m \u001b[1m7s\u001b[0m 3ms/step - loss: 17.4499 - mae: 3.1464 \n",
      "Epoch 4: Learning rate is 8.999999408842996e-05\n",
      "\u001b[1m2300/2300\u001b[0m \u001b[32m━━━━━━━━━━━━━━━━━━━━\u001b[0m\u001b[37m\u001b[0m \u001b[1m1s\u001b[0m 244us/step - loss: 17.9736 - mae: 3.1979 - val_loss: 13.9298 - val_mae: 2.8020\n",
      "Epoch 5/50\n",
      "\u001b[1m2288/2300\u001b[0m \u001b[32m━━━━━━━━━━━━━━━━━━━\u001b[0m\u001b[37m━\u001b[0m \u001b[1m0s\u001b[0m 11ms/step - loss: 16.6412 - mae: 3.0760 "
     ]
    },
    {
     "name": "stderr",
     "output_type": "stream",
     "text": [
      "2025-01-15 13:31:17.045144: I tensorflow/core/kernels/data/shuffle_dataset_op.cc:450] ShuffleDatasetV3:174: Filling up shuffle buffer (this may take a while): 1 of 10000\n",
      "2025-01-15 13:31:17.761765: I tensorflow/core/kernels/data/shuffle_dataset_op.cc:480] Shuffle buffer filled.\n"
     ]
    },
    {
     "name": "stdout",
     "output_type": "stream",
     "text": [
      "\n",
      "Epoch 5: Learning rate is 8.999999408842996e-05\n",
      "\u001b[1m2300/2300\u001b[0m \u001b[32m━━━━━━━━━━━━━━━━━━━━\u001b[0m\u001b[37m\u001b[0m \u001b[1m55s\u001b[0m 23ms/step - loss: 16.6391 - mae: 3.0758 - val_loss: 12.9709 - val_mae: 2.6455\n",
      "Epoch 6/50\n",
      "\u001b[1m  58/2300\u001b[0m \u001b[37m━━━━━━━━━━━━━━━━━━━━\u001b[0m \u001b[1m8s\u001b[0m 4ms/step - loss: 16.2061 - mae: 3.0267 \n",
      "Epoch 6: Learning rate is 8.999999408842996e-05\n",
      "\u001b[1m2300/2300\u001b[0m \u001b[32m━━━━━━━━━━━━━━━━━━━━\u001b[0m\u001b[37m\u001b[0m \u001b[1m1s\u001b[0m 250us/step - loss: 15.5815 - mae: 2.9742 - val_loss: 12.9945 - val_mae: 2.6268\n",
      "Epoch 7/50\n",
      "\u001b[1m2299/2300\u001b[0m \u001b[32m━━━━━━━━━━━━━━━━━━━\u001b[0m\u001b[37m━\u001b[0m \u001b[1m0s\u001b[0m 10ms/step - loss: 15.3860 - mae: 2.9364 "
     ]
    },
    {
     "name": "stderr",
     "output_type": "stream",
     "text": [
      "2025-01-15 13:32:12.680935: I tensorflow/core/kernels/data/shuffle_dataset_op.cc:450] ShuffleDatasetV3:174: Filling up shuffle buffer (this may take a while): 1 of 10000\n",
      "2025-01-15 13:32:13.394498: I tensorflow/core/kernels/data/shuffle_dataset_op.cc:480] Shuffle buffer filled.\n"
     ]
    },
    {
     "name": "stdout",
     "output_type": "stream",
     "text": [
      "\n",
      "Epoch 7: Learning rate is 8.099999104160815e-05\n",
      "\u001b[1m2300/2300\u001b[0m \u001b[32m━━━━━━━━━━━━━━━━━━━━\u001b[0m\u001b[37m\u001b[0m \u001b[1m55s\u001b[0m 24ms/step - loss: 15.3858 - mae: 2.9364 - val_loss: 11.9554 - val_mae: 2.5122\n",
      "Epoch 8/50\n",
      "\u001b[1m  58/2300\u001b[0m \u001b[37m━━━━━━━━━━━━━━━━━━━━\u001b[0m \u001b[1m8s\u001b[0m 4ms/step - loss: 15.6265 - mae: 2.9519 \n",
      "Epoch 8: Learning rate is 8.099999104160815e-05\n",
      "\u001b[1m2300/2300\u001b[0m \u001b[32m━━━━━━━━━━━━━━━━━━━━\u001b[0m\u001b[37m\u001b[0m \u001b[1m1s\u001b[0m 267us/step - loss: 14.9108 - mae: 2.8948 - val_loss: 12.1131 - val_mae: 2.5473\n",
      "Epoch 9/50\n",
      "\u001b[1m2288/2300\u001b[0m \u001b[32m━━━━━━━━━━━━━━━━━━━\u001b[0m\u001b[37m━\u001b[0m \u001b[1m0s\u001b[0m 11ms/step - loss: 14.5798 - mae: 2.8441 "
     ]
    },
    {
     "name": "stderr",
     "output_type": "stream",
     "text": [
      "2025-01-15 13:33:07.124726: I tensorflow/core/kernels/data/shuffle_dataset_op.cc:450] ShuffleDatasetV3:174: Filling up shuffle buffer (this may take a while): 1 of 10000\n",
      "2025-01-15 13:33:07.791725: I tensorflow/core/kernels/data/shuffle_dataset_op.cc:480] Shuffle buffer filled.\n"
     ]
    },
    {
     "name": "stdout",
     "output_type": "stream",
     "text": [
      "\n",
      "Epoch 9: Learning rate is 8.099999104160815e-05\n",
      "\u001b[1m2300/2300\u001b[0m \u001b[32m━━━━━━━━━━━━━━━━━━━━\u001b[0m\u001b[37m\u001b[0m \u001b[1m53s\u001b[0m 23ms/step - loss: 14.5787 - mae: 2.8440 - val_loss: 11.8332 - val_mae: 2.4665\n",
      "Epoch 10/50\n",
      "\u001b[1m  61/2300\u001b[0m \u001b[37m━━━━━━━━━━━━━━━━━━━━\u001b[0m \u001b[1m7s\u001b[0m 3ms/step - loss: 14.3777 - mae: 2.8251 \n",
      "Epoch 10: Learning rate is 8.099999104160815e-05\n",
      "\u001b[1m2300/2300\u001b[0m \u001b[32m━━━━━━━━━━━━━━━━━━━━\u001b[0m\u001b[37m\u001b[0m \u001b[1m1s\u001b[0m 262us/step - loss: 14.2800 - mae: 2.8144 - val_loss: 11.4915 - val_mae: 2.4238\n",
      "Epoch 11/50\n",
      "\u001b[1m2287/2300\u001b[0m \u001b[32m━━━━━━━━━━━━━━━━━━━\u001b[0m\u001b[37m━\u001b[0m \u001b[1m0s\u001b[0m 11ms/step - loss: 13.8225 - mae: 2.7614 "
     ]
    },
    {
     "name": "stderr",
     "output_type": "stream",
     "text": [
      "2025-01-15 13:34:02.480929: I tensorflow/core/kernels/data/shuffle_dataset_op.cc:450] ShuffleDatasetV3:174: Filling up shuffle buffer (this may take a while): 1 of 10000\n",
      "2025-01-15 13:34:03.197160: I tensorflow/core/kernels/data/shuffle_dataset_op.cc:480] Shuffle buffer filled.\n"
     ]
    },
    {
     "name": "stdout",
     "output_type": "stream",
     "text": [
      "\n",
      "Epoch 11: Learning rate is 7.289998757187277e-05\n",
      "\u001b[1m2300/2300\u001b[0m \u001b[32m━━━━━━━━━━━━━━━━━━━━\u001b[0m\u001b[37m\u001b[0m \u001b[1m55s\u001b[0m 24ms/step - loss: 13.8219 - mae: 2.7613 - val_loss: 10.9779 - val_mae: 2.3588\n",
      "Epoch 12/50\n",
      "\u001b[1m  53/2300\u001b[0m \u001b[37m━━━━━━━━━━━━━━━━━━━━\u001b[0m \u001b[1m9s\u001b[0m 4ms/step - loss: 14.0484 - mae: 2.7834  \n",
      "Epoch 12: Learning rate is 7.289998757187277e-05\n",
      "\u001b[1m2300/2300\u001b[0m \u001b[32m━━━━━━━━━━━━━━━━━━━━\u001b[0m\u001b[37m\u001b[0m \u001b[1m1s\u001b[0m 261us/step - loss: 13.8094 - mae: 2.7644 - val_loss: 11.3886 - val_mae: 2.4135\n",
      "Epoch 13/50\n",
      "\u001b[1m2288/2300\u001b[0m \u001b[32m━━━━━━━━━━━━━━━━━━━\u001b[0m\u001b[37m━\u001b[0m \u001b[1m0s\u001b[0m 10ms/step - loss: 13.3988 - mae: 2.7085 "
     ]
    },
    {
     "name": "stderr",
     "output_type": "stream",
     "text": [
      "2025-01-15 13:34:56.496118: I tensorflow/core/kernels/data/shuffle_dataset_op.cc:450] ShuffleDatasetV3:174: Filling up shuffle buffer (this may take a while): 1 of 10000\n",
      "2025-01-15 13:34:57.174996: I tensorflow/core/kernels/data/shuffle_dataset_op.cc:480] Shuffle buffer filled.\n"
     ]
    },
    {
     "name": "stdout",
     "output_type": "stream",
     "text": [
      "\n",
      "Epoch 13: Learning rate is 7.289998757187277e-05\n",
      "\u001b[1m2300/2300\u001b[0m \u001b[32m━━━━━━━━━━━━━━━━━━━━\u001b[0m\u001b[37m\u001b[0m \u001b[1m53s\u001b[0m 23ms/step - loss: 13.3981 - mae: 2.7084 - val_loss: 10.6238 - val_mae: 2.3008\n",
      "Epoch 14/50\n",
      "\u001b[1m  61/2300\u001b[0m \u001b[37m━━━━━━━━━━━━━━━━━━━━\u001b[0m \u001b[1m7s\u001b[0m 4ms/step - loss: 13.6290 - mae: 2.7094 \n",
      "Epoch 14: Learning rate is 7.289998757187277e-05\n",
      "\u001b[1m2300/2300\u001b[0m \u001b[32m━━━━━━━━━━━━━━━━━━━━\u001b[0m\u001b[37m\u001b[0m \u001b[1m1s\u001b[0m 248us/step - loss: 13.0742 - mae: 2.6653 - val_loss: 10.7423 - val_mae: 2.3161\n",
      "Epoch 15/50\n",
      "\u001b[1m2287/2300\u001b[0m \u001b[32m━━━━━━━━━━━━━━━━━━━\u001b[0m\u001b[37m━\u001b[0m \u001b[1m0s\u001b[0m 10ms/step - loss: 12.9001 - mae: 2.6451 "
     ]
    },
    {
     "name": "stderr",
     "output_type": "stream",
     "text": [
      "2025-01-15 13:35:50.870056: I tensorflow/core/kernels/data/shuffle_dataset_op.cc:450] ShuffleDatasetV3:174: Filling up shuffle buffer (this may take a while): 1 of 10000\n",
      "2025-01-15 13:35:51.570191: I tensorflow/core/kernels/data/shuffle_dataset_op.cc:480] Shuffle buffer filled.\n"
     ]
    },
    {
     "name": "stdout",
     "output_type": "stream",
     "text": [
      "\n",
      "Epoch 15: Learning rate is 6.560998735949397e-05\n",
      "\u001b[1m2300/2300\u001b[0m \u001b[32m━━━━━━━━━━━━━━━━━━━━\u001b[0m\u001b[37m\u001b[0m \u001b[1m54s\u001b[0m 23ms/step - loss: 12.8998 - mae: 2.6451 - val_loss: 10.4437 - val_mae: 2.2633\n",
      "Epoch 16/50\n",
      "\u001b[1m  60/2300\u001b[0m \u001b[37m━━━━━━━━━━━━━━━━━━━━\u001b[0m \u001b[1m7s\u001b[0m 4ms/step - loss: 12.5161 - mae: 2.5980 \n",
      "Epoch 16: Learning rate is 6.560998735949397e-05\n",
      "\u001b[1m2300/2300\u001b[0m \u001b[32m━━━━━━━━━━━━━━━━━━━━\u001b[0m\u001b[37m\u001b[0m \u001b[1m1s\u001b[0m 265us/step - loss: 12.6394 - mae: 2.6158 - val_loss: 10.9923 - val_mae: 2.3214\n",
      "Epoch 17/50\n",
      "\u001b[1m2287/2300\u001b[0m \u001b[32m━━━━━━━━━━━━━━━━━━━\u001b[0m\u001b[37m━\u001b[0m \u001b[1m0s\u001b[0m 10ms/step - loss: 12.6145 - mae: 2.6125 "
     ]
    },
    {
     "name": "stderr",
     "output_type": "stream",
     "text": [
      "2025-01-15 13:36:45.769895: I tensorflow/core/kernels/data/shuffle_dataset_op.cc:450] ShuffleDatasetV3:174: Filling up shuffle buffer (this may take a while): 1 of 10000\n",
      "2025-01-15 13:36:46.485016: I tensorflow/core/kernels/data/shuffle_dataset_op.cc:480] Shuffle buffer filled.\n"
     ]
    },
    {
     "name": "stdout",
     "output_type": "stream",
     "text": [
      "\n",
      "Epoch 17: Learning rate is 6.560998735949397e-05\n",
      "\u001b[1m2300/2300\u001b[0m \u001b[32m━━━━━━━━━━━━━━━━━━━━\u001b[0m\u001b[37m\u001b[0m \u001b[1m54s\u001b[0m 23ms/step - loss: 12.6138 - mae: 2.6124 - val_loss: 10.1801 - val_mae: 2.2221\n",
      "Epoch 18/50\n",
      "\u001b[1m  59/2300\u001b[0m \u001b[37m━━━━━━━━━━━━━━━━━━━━\u001b[0m \u001b[1m7s\u001b[0m 4ms/step - loss: 12.2398 - mae: 2.5853 \n",
      "Epoch 18: Learning rate is 6.560998735949397e-05\n",
      "\u001b[1m2300/2300\u001b[0m \u001b[32m━━━━━━━━━━━━━━━━━━━━\u001b[0m\u001b[37m\u001b[0m \u001b[1m1s\u001b[0m 245us/step - loss: 12.5538 - mae: 2.6117 - val_loss: 10.2905 - val_mae: 2.2242\n",
      "Epoch 19/50\n",
      "\u001b[1m2296/2300\u001b[0m \u001b[32m━━━━━━━━━━━━━━━━━━━\u001b[0m\u001b[37m━\u001b[0m \u001b[1m0s\u001b[0m 10ms/step - loss: 12.2526 - mae: 2.5675 "
     ]
    },
    {
     "name": "stderr",
     "output_type": "stream",
     "text": [
      "2025-01-15 13:37:41.013457: I tensorflow/core/kernels/data/shuffle_dataset_op.cc:450] ShuffleDatasetV3:174: Filling up shuffle buffer (this may take a while): 1 of 10000\n",
      "2025-01-15 13:37:41.738672: I tensorflow/core/kernels/data/shuffle_dataset_op.cc:480] Shuffle buffer filled.\n"
     ]
    },
    {
     "name": "stdout",
     "output_type": "stream",
     "text": [
      "\n",
      "Epoch 19: Learning rate is 5.904899080633186e-05\n",
      "\u001b[1m2300/2300\u001b[0m \u001b[32m━━━━━━━━━━━━━━━━━━━━\u001b[0m\u001b[37m\u001b[0m \u001b[1m55s\u001b[0m 24ms/step - loss: 12.2525 - mae: 2.5675 - val_loss: 10.3022 - val_mae: 2.2245\n",
      "Epoch 20/50\n",
      "\u001b[1m  56/2300\u001b[0m \u001b[37m━━━━━━━━━━━━━━━━━━━━\u001b[0m \u001b[1m8s\u001b[0m 4ms/step - loss: 12.0152 - mae: 2.5659 \n",
      "Epoch 20: Learning rate is 5.904899080633186e-05\n",
      "\u001b[1m2300/2300\u001b[0m \u001b[32m━━━━━━━━━━━━━━━━━━━━\u001b[0m\u001b[37m\u001b[0m \u001b[1m1s\u001b[0m 265us/step - loss: 12.0595 - mae: 2.5666 - val_loss: 9.8993 - val_mae: 2.1928\n",
      "Epoch 21/50\n",
      "\u001b[1m2293/2300\u001b[0m \u001b[32m━━━━━━━━━━━━━━━━━━━\u001b[0m\u001b[37m━\u001b[0m \u001b[1m0s\u001b[0m 10ms/step - loss: 11.9737 - mae: 2.5339 "
     ]
    },
    {
     "name": "stderr",
     "output_type": "stream",
     "text": [
      "2025-01-15 13:38:36.443127: I tensorflow/core/kernels/data/shuffle_dataset_op.cc:450] ShuffleDatasetV3:174: Filling up shuffle buffer (this may take a while): 1 of 10000\n",
      "2025-01-15 13:38:37.161976: I tensorflow/core/kernels/data/shuffle_dataset_op.cc:480] Shuffle buffer filled.\n"
     ]
    },
    {
     "name": "stdout",
     "output_type": "stream",
     "text": [
      "\n",
      "Epoch 21: Learning rate is 5.904899080633186e-05\n",
      "\u001b[1m2300/2300\u001b[0m \u001b[32m━━━━━━━━━━━━━━━━━━━━\u001b[0m\u001b[37m\u001b[0m \u001b[1m55s\u001b[0m 24ms/step - loss: 11.9736 - mae: 2.5338 - val_loss: 9.5945 - val_mae: 2.1309\n",
      "Epoch 22/50\n",
      "\u001b[1m  56/2300\u001b[0m \u001b[37m━━━━━━━━━━━━━━━━━━━━\u001b[0m \u001b[1m8s\u001b[0m 4ms/step - loss: 11.6284 - mae: 2.4999 \n",
      "Epoch 22: Learning rate is 5.904899080633186e-05\n",
      "\u001b[1m2300/2300\u001b[0m \u001b[32m━━━━━━━━━━━━━━━━━━━━\u001b[0m\u001b[37m\u001b[0m \u001b[1m1s\u001b[0m 254us/step - loss: 11.9170 - mae: 2.5216 - val_loss: 10.2177 - val_mae: 2.1923\n",
      "Epoch 23/50\n",
      "\u001b[1m2297/2300\u001b[0m \u001b[32m━━━━━━━━━━━━━━━━━━━\u001b[0m\u001b[37m━\u001b[0m \u001b[1m0s\u001b[0m 10ms/step - loss: 11.7625 - mae: 2.5029 "
     ]
    },
    {
     "name": "stderr",
     "output_type": "stream",
     "text": [
      "2025-01-15 13:39:32.579468: I tensorflow/core/kernels/data/shuffle_dataset_op.cc:450] ShuffleDatasetV3:174: Filling up shuffle buffer (this may take a while): 1 of 10000\n",
      "2025-01-15 13:39:33.294772: I tensorflow/core/kernels/data/shuffle_dataset_op.cc:480] Shuffle buffer filled.\n"
     ]
    },
    {
     "name": "stdout",
     "output_type": "stream",
     "text": [
      "\n",
      "Epoch 23: Learning rate is 5.314408917911351e-05\n",
      "\u001b[1m2300/2300\u001b[0m \u001b[32m━━━━━━━━━━━━━━━━━━━━\u001b[0m\u001b[37m\u001b[0m \u001b[1m55s\u001b[0m 24ms/step - loss: 11.7625 - mae: 2.5029 - val_loss: 9.7652 - val_mae: 2.1437\n",
      "Epoch 24/50\n",
      "\u001b[1m  59/2300\u001b[0m \u001b[37m━━━━━━━━━━━━━━━━━━━━\u001b[0m \u001b[1m8s\u001b[0m 4ms/step - loss: 11.4391 - mae: 2.4549 \n",
      "Epoch 24: Learning rate is 5.314408917911351e-05\n",
      "\u001b[1m2300/2300\u001b[0m \u001b[32m━━━━━━━━━━━━━━━━━━━━\u001b[0m\u001b[37m\u001b[0m \u001b[1m1s\u001b[0m 257us/step - loss: 11.5324 - mae: 2.4776 - val_loss: 10.0501 - val_mae: 2.1651\n",
      "Epoch 25/50\n",
      "\u001b[1m2287/2300\u001b[0m \u001b[32m━━━━━━━━━━━━━━━━━━━\u001b[0m\u001b[37m━\u001b[0m \u001b[1m0s\u001b[0m 10ms/step - loss: 11.6100 - mae: 2.4833 "
     ]
    },
    {
     "name": "stderr",
     "output_type": "stream",
     "text": [
      "2025-01-15 13:40:26.531854: I tensorflow/core/kernels/data/shuffle_dataset_op.cc:450] ShuffleDatasetV3:174: Filling up shuffle buffer (this may take a while): 1 of 10000\n",
      "2025-01-15 13:40:27.214694: I tensorflow/core/kernels/data/shuffle_dataset_op.cc:480] Shuffle buffer filled.\n"
     ]
    },
    {
     "name": "stdout",
     "output_type": "stream",
     "text": [
      "\n",
      "Epoch 25: Learning rate is 5.314408917911351e-05\n",
      "\n",
      "Epoch 25: Saving model to /work/nselva2s/rnd/ReinforcementLearning_models/critic_laser_corr07112024_a_model_epoch_25.keras\n",
      "\u001b[1m2300/2300\u001b[0m \u001b[32m━━━━━━━━━━━━━━━━━━━━\u001b[0m\u001b[37m\u001b[0m \u001b[1m53s\u001b[0m 23ms/step - loss: 11.6098 - mae: 2.4832 - val_loss: 9.7276 - val_mae: 2.1379\n",
      "Epoch 26/50\n",
      "\u001b[1m  53/2300\u001b[0m \u001b[37m━━━━━━━━━━━━━━━━━━━━\u001b[0m \u001b[1m8s\u001b[0m 4ms/step - loss: 11.2570 - mae: 2.4500 \n",
      "Epoch 26: Learning rate is 5.314408917911351e-05\n",
      "\u001b[1m2300/2300\u001b[0m \u001b[32m━━━━━━━━━━━━━━━━━━━━\u001b[0m\u001b[37m\u001b[0m \u001b[1m1s\u001b[0m 262us/step - loss: 11.4297 - mae: 2.4719 - val_loss: 9.7286 - val_mae: 2.1347\n",
      "Epoch 27/50\n",
      "\u001b[1m2287/2300\u001b[0m \u001b[32m━━━━━━━━━━━━━━━━━━━\u001b[0m\u001b[37m━\u001b[0m \u001b[1m0s\u001b[0m 10ms/step - loss: 11.3547 - mae: 2.4511 "
     ]
    },
    {
     "name": "stderr",
     "output_type": "stream",
     "text": [
      "2025-01-15 13:41:21.215388: I tensorflow/core/kernels/data/shuffle_dataset_op.cc:450] ShuffleDatasetV3:174: Filling up shuffle buffer (this may take a while): 1 of 10000\n",
      "2025-01-15 13:41:21.918942: I tensorflow/core/kernels/data/shuffle_dataset_op.cc:480] Shuffle buffer filled.\n"
     ]
    },
    {
     "name": "stdout",
     "output_type": "stream",
     "text": [
      "\n",
      "Epoch 27: Learning rate is 4.999999873689376e-05\n",
      "\u001b[1m2300/2300\u001b[0m \u001b[32m━━━━━━━━━━━━━━━━━━━━\u001b[0m\u001b[37m\u001b[0m \u001b[1m54s\u001b[0m 23ms/step - loss: 11.3549 - mae: 2.4511 - val_loss: 9.2027 - val_mae: 2.0699\n",
      "Epoch 28/50\n",
      "\u001b[1m  58/2300\u001b[0m \u001b[37m━━━━━━━━━━━━━━━━━━━━\u001b[0m \u001b[1m7s\u001b[0m 4ms/step - loss: 11.4099 - mae: 2.4649 \n",
      "Epoch 28: Learning rate is 4.999999873689376e-05\n",
      "\u001b[1m2300/2300\u001b[0m \u001b[32m━━━━━━━━━━━━━━━━━━━━\u001b[0m\u001b[37m\u001b[0m \u001b[1m1s\u001b[0m 251us/step - loss: 11.4434 - mae: 2.4727 - val_loss: 10.1162 - val_mae: 2.1507\n",
      "Epoch 29/50\n",
      "\u001b[1m2289/2300\u001b[0m \u001b[32m━━━━━━━━━━━━━━━━━━━\u001b[0m\u001b[37m━\u001b[0m \u001b[1m0s\u001b[0m 10ms/step - loss: 11.2632 - mae: 2.4354 "
     ]
    },
    {
     "name": "stderr",
     "output_type": "stream",
     "text": [
      "2025-01-15 13:42:15.545390: I tensorflow/core/kernels/data/shuffle_dataset_op.cc:450] ShuffleDatasetV3:174: Filling up shuffle buffer (this may take a while): 1 of 10000\n",
      "2025-01-15 13:42:16.248988: I tensorflow/core/kernels/data/shuffle_dataset_op.cc:480] Shuffle buffer filled.\n"
     ]
    },
    {
     "name": "stdout",
     "output_type": "stream",
     "text": [
      "\n",
      "Epoch 29: Learning rate is 4.999999873689376e-05\n",
      "\u001b[1m2300/2300\u001b[0m \u001b[32m━━━━━━━━━━━━━━━━━━━━\u001b[0m\u001b[37m\u001b[0m \u001b[1m54s\u001b[0m 23ms/step - loss: 11.2631 - mae: 2.4354 - val_loss: 9.3052 - val_mae: 2.0654\n",
      "Epoch 30/50\n",
      "\u001b[1m  57/2300\u001b[0m \u001b[37m━━━━━━━━━━━━━━━━━━━━\u001b[0m \u001b[1m8s\u001b[0m 4ms/step - loss: 11.2647 - mae: 2.4508 \n",
      "Epoch 30: Learning rate is 4.999999873689376e-05\n",
      "\u001b[1m2300/2300\u001b[0m \u001b[32m━━━━━━━━━━━━━━━━━━━━\u001b[0m\u001b[37m\u001b[0m \u001b[1m1s\u001b[0m 269us/step - loss: 11.4028 - mae: 2.4601 - val_loss: 9.4080 - val_mae: 2.0659\n",
      "Epoch 31/50\n",
      "\u001b[1m2298/2300\u001b[0m \u001b[32m━━━━━━━━━━━━━━━━━━━\u001b[0m\u001b[37m━\u001b[0m \u001b[1m0s\u001b[0m 10ms/step - loss: 11.0639 - mae: 2.4131 "
     ]
    },
    {
     "name": "stderr",
     "output_type": "stream",
     "text": [
      "2025-01-15 13:43:10.433029: I tensorflow/core/kernels/data/shuffle_dataset_op.cc:450] ShuffleDatasetV3:174: Filling up shuffle buffer (this may take a while): 1 of 10000\n",
      "2025-01-15 13:43:11.134089: I tensorflow/core/kernels/data/shuffle_dataset_op.cc:480] Shuffle buffer filled.\n"
     ]
    },
    {
     "name": "stdout",
     "output_type": "stream",
     "text": [
      "\n",
      "Epoch 31: Learning rate is 4.999999873689376e-05\n",
      "\u001b[1m2300/2300\u001b[0m \u001b[32m━━━━━━━━━━━━━━━━━━━━\u001b[0m\u001b[37m\u001b[0m \u001b[1m54s\u001b[0m 23ms/step - loss: 11.0640 - mae: 2.4131 - val_loss: 9.0760 - val_mae: 2.0428\n",
      "Epoch 32/50\n",
      "\u001b[1m  58/2300\u001b[0m \u001b[37m━━━━━━━━━━━━━━━━━━━━\u001b[0m \u001b[1m8s\u001b[0m 4ms/step - loss: 10.6899 - mae: 2.3820 \n",
      "Epoch 32: Learning rate is 4.999999873689376e-05\n",
      "\u001b[1m2300/2300\u001b[0m \u001b[32m━━━━━━━━━━━━━━━━━━━━\u001b[0m\u001b[37m\u001b[0m \u001b[1m1s\u001b[0m 256us/step - loss: 10.6696 - mae: 2.3746 - val_loss: 8.9940 - val_mae: 2.0291\n",
      "Epoch 33/50\n",
      "\u001b[1m2290/2300\u001b[0m \u001b[32m━━━━━━━━━━━━━━━━━━━\u001b[0m\u001b[37m━\u001b[0m \u001b[1m0s\u001b[0m 10ms/step - loss: 10.9521 - mae: 2.3966 "
     ]
    },
    {
     "name": "stderr",
     "output_type": "stream",
     "text": [
      "2025-01-15 13:44:04.705188: I tensorflow/core/kernels/data/shuffle_dataset_op.cc:450] ShuffleDatasetV3:174: Filling up shuffle buffer (this may take a while): 1 of 10000\n",
      "2025-01-15 13:44:05.410699: I tensorflow/core/kernels/data/shuffle_dataset_op.cc:480] Shuffle buffer filled.\n"
     ]
    },
    {
     "name": "stdout",
     "output_type": "stream",
     "text": [
      "\n",
      "Epoch 33: Learning rate is 4.999999873689376e-05\n",
      "\u001b[1m2300/2300\u001b[0m \u001b[32m━━━━━━━━━━━━━━━━━━━━\u001b[0m\u001b[37m\u001b[0m \u001b[1m54s\u001b[0m 23ms/step - loss: 10.9521 - mae: 2.3965 - val_loss: 8.9811 - val_mae: 2.0192\n",
      "Epoch 34/50\n",
      "\u001b[1m  60/2300\u001b[0m \u001b[37m━━━━━━━━━━━━━━━━━━━━\u001b[0m \u001b[1m7s\u001b[0m 4ms/step - loss: 11.1225 - mae: 2.4248 \n",
      "Epoch 34: Learning rate is 4.999999873689376e-05\n",
      "\u001b[1m2300/2300\u001b[0m \u001b[32m━━━━━━━━━━━━━━━━━━━━\u001b[0m\u001b[37m\u001b[0m \u001b[1m1s\u001b[0m 266us/step - loss: 10.7741 - mae: 2.3864 - val_loss: 9.0980 - val_mae: 2.0254\n",
      "Epoch 35/50\n",
      "\u001b[1m2299/2300\u001b[0m \u001b[32m━━━━━━━━━━━━━━━━━━━\u001b[0m\u001b[37m━\u001b[0m \u001b[1m0s\u001b[0m 10ms/step - loss: 10.7940 - mae: 2.3736 "
     ]
    },
    {
     "name": "stderr",
     "output_type": "stream",
     "text": [
      "2025-01-15 13:44:59.846186: I tensorflow/core/kernels/data/shuffle_dataset_op.cc:450] ShuffleDatasetV3:174: Filling up shuffle buffer (this may take a while): 1 of 10000\n",
      "2025-01-15 13:45:00.566767: I tensorflow/core/kernels/data/shuffle_dataset_op.cc:480] Shuffle buffer filled.\n"
     ]
    },
    {
     "name": "stdout",
     "output_type": "stream",
     "text": [
      "\n",
      "Epoch 35: Learning rate is 4.999999873689376e-05\n",
      "\u001b[1m2300/2300\u001b[0m \u001b[32m━━━━━━━━━━━━━━━━━━━━\u001b[0m\u001b[37m\u001b[0m \u001b[1m54s\u001b[0m 23ms/step - loss: 10.7940 - mae: 2.3736 - val_loss: 9.2010 - val_mae: 2.0373\n",
      "Epoch 36/50\n",
      "\u001b[1m  61/2300\u001b[0m \u001b[37m━━━━━━━━━━━━━━━━━━━━\u001b[0m \u001b[1m7s\u001b[0m 3ms/step - loss: 10.5623 - mae: 2.3569\n",
      "Epoch 36: Learning rate is 4.999999873689376e-05\n",
      "\u001b[1m2300/2300\u001b[0m \u001b[32m━━━━━━━━━━━━━━━━━━━━\u001b[0m\u001b[37m\u001b[0m \u001b[1m1s\u001b[0m 257us/step - loss: 10.9620 - mae: 2.3935 - val_loss: 8.9864 - val_mae: 2.0214\n",
      "Epoch 37/50\n",
      "\u001b[1m2293/2300\u001b[0m \u001b[32m━━━━━━━━━━━━━━━━━━━\u001b[0m\u001b[37m━\u001b[0m \u001b[1m0s\u001b[0m 10ms/step - loss: 10.6844 - mae: 2.3613 "
     ]
    },
    {
     "name": "stderr",
     "output_type": "stream",
     "text": [
      "2025-01-15 13:45:54.458740: I tensorflow/core/kernels/data/shuffle_dataset_op.cc:450] ShuffleDatasetV3:174: Filling up shuffle buffer (this may take a while): 1 of 10000\n",
      "2025-01-15 13:45:55.150684: I tensorflow/core/kernels/data/shuffle_dataset_op.cc:480] Shuffle buffer filled.\n"
     ]
    },
    {
     "name": "stdout",
     "output_type": "stream",
     "text": [
      "\n",
      "Epoch 37: Learning rate is 4.999999873689376e-05\n",
      "\u001b[1m2300/2300\u001b[0m \u001b[32m━━━━━━━━━━━━━━━━━━━━\u001b[0m\u001b[37m\u001b[0m \u001b[1m54s\u001b[0m 23ms/step - loss: 10.6844 - mae: 2.3613 - val_loss: 8.9322 - val_mae: 2.0081\n",
      "Epoch 38/50\n",
      "\u001b[1m  59/2300\u001b[0m \u001b[37m━━━━━━━━━━━━━━━━━━━━\u001b[0m \u001b[1m7s\u001b[0m 4ms/step - loss: 10.7747 - mae: 2.3590 \n",
      "Epoch 38: Learning rate is 4.999999873689376e-05\n",
      "\u001b[1m2300/2300\u001b[0m \u001b[32m━━━━━━━━━━━━━━━━━━━━\u001b[0m\u001b[37m\u001b[0m \u001b[1m1s\u001b[0m 262us/step - loss: 10.7942 - mae: 2.3649 - val_loss: 8.5837 - val_mae: 1.9634\n",
      "Epoch 39/50\n",
      "\u001b[1m2292/2300\u001b[0m \u001b[32m━━━━━━━━━━━━━━━━━━━\u001b[0m\u001b[37m━\u001b[0m \u001b[1m0s\u001b[0m 10ms/step - loss: 10.5913 - mae: 2.3445 "
     ]
    },
    {
     "name": "stderr",
     "output_type": "stream",
     "text": [
      "2025-01-15 13:46:49.470390: I tensorflow/core/kernels/data/shuffle_dataset_op.cc:450] ShuffleDatasetV3:174: Filling up shuffle buffer (this may take a while): 1 of 10000\n",
      "2025-01-15 13:46:50.183973: I tensorflow/core/kernels/data/shuffle_dataset_op.cc:480] Shuffle buffer filled.\n"
     ]
    },
    {
     "name": "stdout",
     "output_type": "stream",
     "text": [
      "\n",
      "Epoch 39: Learning rate is 4.999999873689376e-05\n",
      "\u001b[1m2300/2300\u001b[0m \u001b[32m━━━━━━━━━━━━━━━━━━━━\u001b[0m\u001b[37m\u001b[0m \u001b[1m55s\u001b[0m 23ms/step - loss: 10.5911 - mae: 2.3444 - val_loss: 8.8030 - val_mae: 1.9768\n",
      "Epoch 40/50\n",
      "\u001b[1m  60/2300\u001b[0m \u001b[37m━━━━━━━━━━━━━━━━━━━━\u001b[0m \u001b[1m7s\u001b[0m 3ms/step - loss: 10.6907 - mae: 2.3673 \n",
      "Epoch 40: Learning rate is 4.999999873689376e-05\n",
      "\u001b[1m2300/2300\u001b[0m \u001b[32m━━━━━━━━━━━━━━━━━━━━\u001b[0m\u001b[37m\u001b[0m \u001b[1m1s\u001b[0m 261us/step - loss: 10.4814 - mae: 2.3423 - val_loss: 8.9156 - val_mae: 1.9836\n",
      "Epoch 41/50\n",
      "\u001b[1m2293/2300\u001b[0m \u001b[32m━━━━━━━━━━━━━━━━━━━\u001b[0m\u001b[37m━\u001b[0m \u001b[1m0s\u001b[0m 10ms/step - loss: 10.4027 - mae: 2.3206 "
     ]
    },
    {
     "name": "stderr",
     "output_type": "stream",
     "text": [
      "2025-01-15 13:47:45.460380: I tensorflow/core/kernels/data/shuffle_dataset_op.cc:450] ShuffleDatasetV3:174: Filling up shuffle buffer (this may take a while): 1 of 10000\n",
      "2025-01-15 13:47:46.179925: I tensorflow/core/kernels/data/shuffle_dataset_op.cc:480] Shuffle buffer filled.\n"
     ]
    },
    {
     "name": "stdout",
     "output_type": "stream",
     "text": [
      "\n",
      "Epoch 41: Learning rate is 4.999999873689376e-05\n",
      "\u001b[1m2300/2300\u001b[0m \u001b[32m━━━━━━━━━━━━━━━━━━━━\u001b[0m\u001b[37m\u001b[0m \u001b[1m55s\u001b[0m 24ms/step - loss: 10.4029 - mae: 2.3206 - val_loss: 8.4194 - val_mae: 1.9321\n",
      "Epoch 42/50\n",
      "\u001b[1m  60/2300\u001b[0m \u001b[37m━━━━━━━━━━━━━━━━━━━━\u001b[0m \u001b[1m7s\u001b[0m 4ms/step - loss: 11.2171 - mae: 2.4082 \n",
      "Epoch 42: Learning rate is 4.999999873689376e-05\n",
      "\u001b[1m2300/2300\u001b[0m \u001b[32m━━━━━━━━━━━━━━━━━━━━\u001b[0m\u001b[37m\u001b[0m \u001b[1m1s\u001b[0m 255us/step - loss: 10.8412 - mae: 2.3623 - val_loss: 8.7767 - val_mae: 1.9632\n",
      "Epoch 43/50\n",
      "\u001b[1m2289/2300\u001b[0m \u001b[32m━━━━━━━━━━━━━━━━━━━\u001b[0m\u001b[37m━\u001b[0m \u001b[1m0s\u001b[0m 10ms/step - loss: 10.3331 - mae: 2.3095 "
     ]
    },
    {
     "name": "stderr",
     "output_type": "stream",
     "text": [
      "2025-01-15 13:48:41.017701: I tensorflow/core/kernels/data/shuffle_dataset_op.cc:450] ShuffleDatasetV3:174: Filling up shuffle buffer (this may take a while): 1 of 10000\n",
      "2025-01-15 13:48:41.722386: I tensorflow/core/kernels/data/shuffle_dataset_op.cc:480] Shuffle buffer filled.\n"
     ]
    },
    {
     "name": "stdout",
     "output_type": "stream",
     "text": [
      "\n",
      "Epoch 43: Learning rate is 4.999999873689376e-05\n",
      "\u001b[1m2300/2300\u001b[0m \u001b[32m━━━━━━━━━━━━━━━━━━━━\u001b[0m\u001b[37m\u001b[0m \u001b[1m55s\u001b[0m 24ms/step - loss: 10.3333 - mae: 2.3095 - val_loss: 8.3746 - val_mae: 1.9199\n",
      "Epoch 44/50\n",
      "\u001b[1m  59/2300\u001b[0m \u001b[37m━━━━━━━━━━━━━━━━━━━━\u001b[0m \u001b[1m7s\u001b[0m 4ms/step - loss: 10.3101 - mae: 2.3174 \n",
      "Epoch 44: Learning rate is 4.999999873689376e-05\n",
      "\u001b[1m2300/2300\u001b[0m \u001b[32m━━━━━━━━━━━━━━━━━━━━\u001b[0m\u001b[37m\u001b[0m \u001b[1m1s\u001b[0m 267us/step - loss: 10.3139 - mae: 2.2994 - val_loss: 8.8355 - val_mae: 1.9791\n",
      "Epoch 45/50\n",
      "\u001b[1m2294/2300\u001b[0m \u001b[32m━━━━━━━━━━━━━━━━━━━\u001b[0m\u001b[37m━\u001b[0m \u001b[1m0s\u001b[0m 10ms/step - loss: 10.2189 - mae: 2.2903 "
     ]
    },
    {
     "name": "stderr",
     "output_type": "stream",
     "text": [
      "2025-01-15 13:49:37.221053: I tensorflow/core/kernels/data/shuffle_dataset_op.cc:450] ShuffleDatasetV3:174: Filling up shuffle buffer (this may take a while): 1 of 10000\n",
      "2025-01-15 13:49:37.945606: I tensorflow/core/kernels/data/shuffle_dataset_op.cc:480] Shuffle buffer filled.\n"
     ]
    },
    {
     "name": "stdout",
     "output_type": "stream",
     "text": [
      "\n",
      "Epoch 45: Learning rate is 4.999999873689376e-05\n",
      "\u001b[1m2300/2300\u001b[0m \u001b[32m━━━━━━━━━━━━━━━━━━━━\u001b[0m\u001b[37m\u001b[0m \u001b[1m56s\u001b[0m 24ms/step - loss: 10.2189 - mae: 2.2903 - val_loss: 8.4270 - val_mae: 1.9262\n",
      "Epoch 46/50\n",
      "\u001b[1m  61/2300\u001b[0m \u001b[37m━━━━━━━━━━━━━━━━━━━━\u001b[0m \u001b[1m7s\u001b[0m 3ms/step - loss: 10.6152 - mae: 2.3376\n",
      "Epoch 46: Learning rate is 4.999999873689376e-05\n",
      "\u001b[1m2300/2300\u001b[0m \u001b[32m━━━━━━━━━━━━━━━━━━━━\u001b[0m\u001b[37m\u001b[0m \u001b[1m1s\u001b[0m 261us/step - loss: 10.4163 - mae: 2.3228 - val_loss: 8.5683 - val_mae: 1.9334\n",
      "Epoch 47/50\n",
      "\u001b[1m2292/2300\u001b[0m \u001b[32m━━━━━━━━━━━━━━━━━━━\u001b[0m\u001b[37m━\u001b[0m \u001b[1m0s\u001b[0m 10ms/step - loss: 10.1389 - mae: 2.2814 "
     ]
    },
    {
     "name": "stderr",
     "output_type": "stream",
     "text": [
      "2025-01-15 13:50:32.756916: I tensorflow/core/kernels/data/shuffle_dataset_op.cc:450] ShuffleDatasetV3:174: Filling up shuffle buffer (this may take a while): 1 of 10000\n",
      "2025-01-15 13:50:33.477099: I tensorflow/core/kernels/data/shuffle_dataset_op.cc:480] Shuffle buffer filled.\n"
     ]
    },
    {
     "name": "stdout",
     "output_type": "stream",
     "text": [
      "\n",
      "Epoch 47: Learning rate is 4.999999873689376e-05\n",
      "\u001b[1m2300/2300\u001b[0m \u001b[32m━━━━━━━━━━━━━━━━━━━━\u001b[0m\u001b[37m\u001b[0m \u001b[1m55s\u001b[0m 24ms/step - loss: 10.1389 - mae: 2.2814 - val_loss: 7.8252 - val_mae: 1.8483\n",
      "Epoch 48/50\n",
      "\u001b[1m  61/2300\u001b[0m \u001b[37m━━━━━━━━━━━━━━━━━━━━\u001b[0m \u001b[1m7s\u001b[0m 3ms/step - loss: 10.3370 - mae: 2.2875 \n",
      "Epoch 48: Learning rate is 4.999999873689376e-05\n",
      "\u001b[1m2300/2300\u001b[0m \u001b[32m━━━━━━━━━━━━━━━━━━━━\u001b[0m\u001b[37m\u001b[0m \u001b[1m1s\u001b[0m 245us/step - loss: 10.1590 - mae: 2.2646 - val_loss: 8.1493 - val_mae: 1.8768\n",
      "Epoch 49/50\n",
      "\u001b[1m2287/2300\u001b[0m \u001b[32m━━━━━━━━━━━━━━━━━━━\u001b[0m\u001b[37m━\u001b[0m \u001b[1m0s\u001b[0m 11ms/step - loss: 10.0204 - mae: 2.2628 "
     ]
    },
    {
     "name": "stderr",
     "output_type": "stream",
     "text": [
      "2025-01-15 13:51:28.921288: I tensorflow/core/kernels/data/shuffle_dataset_op.cc:450] ShuffleDatasetV3:174: Filling up shuffle buffer (this may take a while): 1 of 10000\n",
      "2025-01-15 13:51:29.624453: I tensorflow/core/kernels/data/shuffle_dataset_op.cc:480] Shuffle buffer filled.\n"
     ]
    },
    {
     "name": "stdout",
     "output_type": "stream",
     "text": [
      "\n",
      "Epoch 49: Learning rate is 4.999999873689376e-05\n",
      "\u001b[1m2300/2300\u001b[0m \u001b[32m━━━━━━━━━━━━━━━━━━━━\u001b[0m\u001b[37m\u001b[0m \u001b[1m55s\u001b[0m 24ms/step - loss: 10.0206 - mae: 2.2629 - val_loss: 8.4053 - val_mae: 1.9159\n",
      "Epoch 50/50\n",
      "\u001b[1m  57/2300\u001b[0m \u001b[37m━━━━━━━━━━━━━━━━━━━━\u001b[0m \u001b[1m8s\u001b[0m 4ms/step - loss: 10.6114 - mae: 2.3101 \n",
      "Epoch 50: Learning rate is 4.999999873689376e-05\n",
      "\n",
      "Epoch 50: Saving model to /work/nselva2s/rnd/ReinforcementLearning_models/critic_laser_corr07112024_a_model_epoch_50.keras\n",
      "\u001b[1m2300/2300\u001b[0m \u001b[32m━━━━━━━━━━━━━━━━━━━━\u001b[0m\u001b[37m\u001b[0m \u001b[1m1s\u001b[0m 292us/step - loss: 10.2324 - mae: 2.2737 - val_loss: 8.5877 - val_mae: 1.9236\n",
      "Model training complete.\n"
     ]
    }
   ],
   "source": [
    "laser_shape = 513\n",
    "goal_shape = 2\n",
    "motion_command_shape = 3\n",
    "reward_shape = 1\n",
    "\n",
    "model_instance = CriticModel_withLaser(laser_shape, goal_shape, motion_command_shape, reward_shape, log_dir)\n",
    "history = model_instance.train_model(train_dataset, val_dataset, epochs=config['epochs'],\n",
    "                                     train_steps = config['train_steps'], val_steps = config['val_steps'],\n",
    "                                    initial_learning_rate = config['initial_learning_rate'], decay_steps = config['decay_steps'],\n",
    "                                     decay_rate = config['decay_rate'], minimum_learning_rate = config['minimum_learning_rate'],\n",
    "                                    model_save_path = model_save_path, model_name = model_name)\n",
    "\n",
    "print(\"Model training complete.\")"
   ]
  },
  {
   "cell_type": "code",
   "execution_count": 19,
   "id": "32e78b06-909a-45dd-9c88-7b384e0095fb",
   "metadata": {},
   "outputs": [
    {
     "data": {
      "text/plain": [
       "<matplotlib.legend.Legend at 0x7fb6c0348f70>"
      ]
     },
     "execution_count": 19,
     "metadata": {},
     "output_type": "execute_result"
    },
    {
     "data": {
      "image/png": "[encoded data removed]",
      "text/plain": [
       "<Figure size 1200x600 with 1 Axes>"
      ]
     },
     "metadata": {},
     "output_type": "display_data"
    }
   ],
   "source": [
    "plt.figure(figsize=(12, 6))\n",
    "            \n",
    "# Plot Loss\n",
    "plt.subplot(1, 2, 1)\n",
    "plt.plot(history.history['loss'], label='Training Loss')\n",
    "if 'val_loss' in history.history:\n",
    "    plt.plot(history.history['val_loss'], label='Validation Loss')\n",
    "plt.title('Loss Over Epochs')\n",
    "plt.xlabel('Epochs')\n",
    "plt.ylabel('Loss')\n",
    "plt.legend()"
   ]
  },
  {
   "cell_type": "code",
   "execution_count": 20,
   "id": "8a5cd5bc-60ba-4a4f-ab42-73f170cf8071",
   "metadata": {},
   "outputs": [
    {
     "name": "stderr",
     "output_type": "stream",
     "text": [
      "2025-01-15 13:52:05.806585: I tensorflow/core/kernels/data/shuffle_dataset_op.cc:450] ShuffleDatasetV3:177: Filling up shuffle buffer (this may take a while): 1 of 10000\n"
     ]
    },
    {
     "name": "stdout",
     "output_type": "stream",
     "text": [
      "     19/Unknown \u001b[1m31s\u001b[0m 10ms/step - loss: 8.1383 - mae: 1.8727"
     ]
    },
    {
     "name": "stderr",
     "output_type": "stream",
     "text": [
      "2025-01-15 13:52:06.660859: I tensorflow/core/kernels/data/shuffle_dataset_op.cc:480] Shuffle buffer filled.\n"
     ]
    },
    {
     "name": "stdout",
     "output_type": "stream",
     "text": [
      "\u001b[1m338/338\u001b[0m \u001b[32m━━━━━━━━━━━━━━━━━━━━\u001b[0m\u001b[37m\u001b[0m \u001b[1m33s\u001b[0m 8ms/step - loss: 8.1820 - mae: 1.8852\n"
     ]
    },
    {
     "data": {
      "text/plain": [
       "[8.270221710205078, 1.8954498767852783]"
      ]
     },
     "execution_count": 20,
     "metadata": {},
     "output_type": "execute_result"
    }
   ],
   "source": [
    "model_instance.model.evaluate(test_dataset)"
   ]
  },
  {
   "cell_type": "code",
   "execution_count": 21,
   "id": "493afdcd-6399-4d17-9045-c988343a53ba",
   "metadata": {},
   "outputs": [
    {
     "name": "stderr",
     "output_type": "stream",
     "text": [
      "2025-01-15 13:52:38.347034: I tensorflow/core/kernels/data/shuffle_dataset_op.cc:450] ShuffleDatasetV3:177: Filling up shuffle buffer (this may take a while): 1 of 10000\n"
     ]
    },
    {
     "name": "stdout",
     "output_type": "stream",
     "text": [
      "\u001b[1m1/1\u001b[0m \u001b[32m━━━━━━━━━━━━━━━━━━━━\u001b[0m\u001b[37m\u001b[0m \u001b[1m30s\u001b[0m 30s/step\n"
     ]
    },
    {
     "name": "stderr",
     "output_type": "stream",
     "text": [
      "2025-01-15 13:52:39.084476: I tensorflow/core/kernels/data/shuffle_dataset_op.cc:480] Shuffle buffer filled.\n"
     ]
    },
    {
     "data": {
      "text/plain": [
       "array([[  4.433696  ],\n",
       "       [  0.321082  ],\n",
       "       [ -0.75123817],\n",
       "       [  2.59642   ],\n",
       "       [  2.384208  ],\n",
       "       [  4.2870617 ],\n",
       "       [-11.425433  ],\n",
       "       [ -1.1228578 ],\n",
       "       [-10.394135  ],\n",
       "       [ -1.8157618 ],\n",
       "       [  0.87029344],\n",
       "       [  4.791887  ],\n",
       "       [  3.7342956 ],\n",
       "       [ -3.0285933 ],\n",
       "       [ -2.4419835 ],\n",
       "       [-16.850103  ],\n",
       "       [  3.8386917 ],\n",
       "       [  3.2029197 ],\n",
       "       [  4.38576   ],\n",
       "       [  2.8069556 ],\n",
       "       [ -4.290981  ],\n",
       "       [ -1.8873291 ],\n",
       "       [  4.1744766 ],\n",
       "       [ -0.70655996],\n",
       "       [  0.97594786],\n",
       "       [ -1.8157618 ],\n",
       "       [  4.383082  ],\n",
       "       [ -2.5893528 ],\n",
       "       [ -9.565497  ],\n",
       "       [  1.3902547 ],\n",
       "       [  1.1069243 ],\n",
       "       [ -9.195109  ],\n",
       "       [-11.289326  ],\n",
       "       [  3.4819803 ],\n",
       "       [ -1.0458578 ],\n",
       "       [-10.884254  ],\n",
       "       [  3.6354873 ],\n",
       "       [ -4.518933  ],\n",
       "       [  4.2395444 ],\n",
       "       [  3.800515  ],\n",
       "       [ -5.965018  ],\n",
       "       [  3.0223258 ],\n",
       "       [  2.177088  ],\n",
       "       [  2.3994787 ],\n",
       "       [  2.4222243 ],\n",
       "       [  7.439121  ],\n",
       "       [  4.1540294 ],\n",
       "       [ 12.481929  ],\n",
       "       [  2.5328724 ],\n",
       "       [  3.7709148 ],\n",
       "       [ -3.68737   ],\n",
       "       [  3.4819803 ],\n",
       "       [  4.8496356 ],\n",
       "       [ -3.7954273 ],\n",
       "       [  3.5989985 ],\n",
       "       [ -1.102382  ],\n",
       "       [  0.36617693],\n",
       "       [  1.7709982 ],\n",
       "       [  3.0354972 ],\n",
       "       [-10.766992  ],\n",
       "       [ -5.222822  ],\n",
       "       [ -0.19190353],\n",
       "       [ 16.580963  ],\n",
       "       [ 12.409646  ],\n",
       "       [ -3.0285933 ],\n",
       "       [ -1.4200602 ],\n",
       "       [  3.9285772 ],\n",
       "       [  0.38462773],\n",
       "       [-10.397872  ],\n",
       "       [  3.2355406 ],\n",
       "       [  2.6227376 ],\n",
       "       [  1.8129091 ],\n",
       "       [  2.9166863 ],\n",
       "       [ -4.6996713 ],\n",
       "       [ -1.3798616 ],\n",
       "       [  2.8269122 ],\n",
       "       [  3.1689699 ],\n",
       "       [  4.874533  ],\n",
       "       [  4.4192033 ],\n",
       "       [ -4.6817894 ],\n",
       "       [  3.2148895 ],\n",
       "       [ -3.7660341 ],\n",
       "       [  2.512107  ],\n",
       "       [ -4.267177  ],\n",
       "       [-13.734336  ],\n",
       "       [  3.0205328 ],\n",
       "       [  3.6284504 ],\n",
       "       [  7.2366395 ],\n",
       "       [ -3.0487673 ],\n",
       "       [ -5.340965  ],\n",
       "       [  2.1376908 ],\n",
       "       [  3.5127895 ],\n",
       "       [  3.407726  ],\n",
       "       [ -2.4295013 ],\n",
       "       [  1.3734368 ],\n",
       "       [  3.9672186 ],\n",
       "       [  4.9196877 ],\n",
       "       [  4.933247  ],\n",
       "       [  0.6449514 ],\n",
       "       [  3.4177697 ],\n",
       "       [  3.2578616 ],\n",
       "       [  2.794448  ],\n",
       "       [  3.5164266 ],\n",
       "       [-11.262489  ],\n",
       "       [  1.1092246 ],\n",
       "       [ -2.5799663 ],\n",
       "       [  4.0992403 ],\n",
       "       [  3.8199692 ],\n",
       "       [  1.532575  ],\n",
       "       [  4.776092  ],\n",
       "       [ -2.7867258 ],\n",
       "       [ -2.7891824 ],\n",
       "       [  2.8199854 ],\n",
       "       [ -1.7794163 ],\n",
       "       [  3.6861587 ],\n",
       "       [  0.65464926],\n",
       "       [  3.6797435 ],\n",
       "       [  2.6487472 ],\n",
       "       [  2.7257512 ],\n",
       "       [  4.789107  ],\n",
       "       [ -9.582741  ],\n",
       "       [  3.533818  ],\n",
       "       [  0.4898161 ],\n",
       "       [  4.2077675 ],\n",
       "       [  1.7615831 ],\n",
       "       [ -4.150785  ],\n",
       "       [  2.4320924 ],\n",
       "       [ -1.6833923 ]], dtype=float32)"
      ]
     },
     "execution_count": 21,
     "metadata": {},
     "output_type": "execute_result"
    }
   ],
   "source": [
    "model_instance.model.predict(test_dataset.take(1))"
   ]
  },
  {
   "cell_type": "code",
   "execution_count": null,
   "id": "fd084d82-8b94-4e01-a4e5-35936e6e7f25",
   "metadata": {},
   "outputs": [],
   "source": []
  }
 ],
 "metadata": {
  "kernelspec": {
   "display_name": "Python 3 (ipykernel)",
   "language": "python",
   "name": "python3"
  },
  "language_info": {
   "codemirror_mode": {
    "name": "ipython",
    "version": 3
   },
   "file_extension": ".py",
   "mimetype": "text/x-python",
   "name": "python",
   "nbconvert_exporter": "python",
   "pygments_lexer": "ipython3",
   "version": "3.9.21"
  }
 },
 "nbformat": 4,
 "nbformat_minor": 5
}
