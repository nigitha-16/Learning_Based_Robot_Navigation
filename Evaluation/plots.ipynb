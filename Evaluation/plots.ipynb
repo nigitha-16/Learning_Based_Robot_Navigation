{
 "cells": [
  {
   "cell_type": "code",
   "execution_count": 1,
   "metadata": {},
   "outputs": [],
   "source": [
    "import pandas as pd\n",
    "import os\n",
    "import matplotlib.pyplot as plt"
   ]
  },
  {
   "cell_type": "code",
   "execution_count": 2,
   "metadata": {},
   "outputs": [],
   "source": [
    "current_directory = os.getcwd()\n",
    "dir = os.path.join(current_directory, 'plots_data')\n",
    "\n",
    "laser_train_loss = pd.read_csv(os.path.join(dir, 'loss_laser_train.csv'))['Value']\n",
    "laser_img_train_loss = pd.read_csv(os.path.join(dir, 'loss_img_laser_train.csv'))['Value']\n",
    "img_train_loss = pd.read_csv(os.path.join(dir, 'loss_img_train.csv'))['Value']\n",
    "\n",
    "laser_validation_loss = pd.read_csv(os.path.join(dir, 'loss_laser_validation.csv'))['Value']\n",
    "laser_img_validation_loss = pd.read_csv(os.path.join(dir, 'loss_img_laser_validation.csv'))['Value']\n",
    "img_validation_loss = pd.read_csv(os.path.join(dir, 'loss_img_validation.csv'))['Value']\n",
    "\n",
    "laser_lr = pd.read_csv(os.path.join(dir, 'lr_laser.csv'))['Value']\n",
    "laser_img_train_lr = pd.read_csv(os.path.join(dir, 'lr_img_laser.csv'))['Value']\n",
    "img_train_lr = pd.read_csv(os.path.join(dir, 'lr_img.csv'))['Value']\n"
   ]
  },
  {
   "cell_type": "code",
   "execution_count": 4,
   "metadata": {},
   "outputs": [
    {
     "data": {
      "application/vnd.plotly.v1+json": {
       "config": {
        "plotlyServerURL": "https://plot.ly"
       },
       "data": [
        {
         "mode": "lines",
         "name": "Laser Training Loss",
         "type": "scatter",
         "x": [
          0,
          1,
          2,
          3,
          4,
          5,
          6,
          7,
          8,
          9,
          10,
          11,
          12,
          13,
          14,
          15,
          16,
          17,
          18,
          19,
          20,
          21,
          22,
          23,
          24,
          25,
          26,
          27,
          28,
          29,
          30,
          31,
          32,
          33,
          34,
          35,
          36,
          37,
          38,
          39,
          40,
          41,
          42,
          43,
          44,
          45,
          46,
          47,
          48,
          49,
          50,
          51,
          52,
          53,
          54,
          55,
          56,
          57,
          58,
          59,
          60,
          61,
          62,
          63,
          64,
          65,
          66,
          67,
          68,
          69,
          70,
          71,
          72,
          73,
          74,
          75,
          76,
          77,
          78,
          79,
          80,
          81,
          82,
          83,
          84,
          85,
          86,
          87,
          88,
          89,
          90,
          91,
          92,
          93,
          94,
          95,
          96,
          97,
          98,
          99,
          100,
          101,
          102,
          103,
          104,
          105,
          106,
          107,
          108,
          109,
          110,
          111,
          112,
          113,
          114,
          115,
          116,
          117,
          118,
          119,
          120,
          121,
          122,
          123,
          124,
          125,
          126,
          127,
          128,
          129,
          130,
          131,
          132,
          133,
          134,
          135,
          136,
          137,
          138,
          139,
          140,
          141,
          142,
          143,
          144,
          145,
          146,
          147,
          148,
          149,
          150,
          151,
          152,
          153,
          154,
          155,
          156,
          157,
          158,
          159,
          160,
          161,
          162,
          163,
          164,
          165,
          166,
          167,
          168,
          169,
          170,
          171,
          172,
          173,
          174,
          175,
          176,
          177,
          178,
          179,
          180,
          181,
          182,
          183,
          184,
          185,
          186,
          187,
          188,
          189,
          190,
          191,
          192,
          193,
          194,
          195,
          196,
          197,
          198,
          199
         ],
         "y": {
          "bdata": "xv//XyBGcT+q+/+fql44P8T+/z/sCjI/X/3/31sCKz9n+v/fVQomP+7z/38AtSE/WuP/X1JEHj////+fJt8ZPwAAAOAbVhY/AAAAIJxTFT8AAACgBL4SPwAAAGAzlhA/AAAAoOSXDz8AAAAgFIwMPwAAACBm7gk/AAAAoGbLCD8AAADAlvIFPwAAAMCu8gQ/AAAAIOcCAz8AAABA6AcBPwAAAEDW8f8+AAAAYDYf/T4AAACA4q/8PgAAAICJhvs+AAAAwDmT+T4AAAAARvD4PgEAAEA9J/c+AAAAIBBP9j4AAADgoqH2PgAAAMBtsPc+AQAAIMj+8z4AAAAAXzX0PgAAAMDO2/I+AAAAQDjp8j4AAABgt5rzPgAAACAaevE+AAAAQIWr8j4AAADAuZXxPgAAAKDPVPA+AAAA4Oxx8T4AAACAztLwPgAAACCoUfA+AAAAIDqa7j4AAABAxbbuPv///3+Xt+8+AQAA4Cuy7j4AAACgdm3sPgAAAMBl1u4+AAAAYL5Q7D4AAABA8prsPgAAAECb1+s+AAAAAHy96z4AAABgxOnqPgAAAIBR1uo+AAAAAPtN6T4AAAAgaOnqPgAAACC5U+k+////3x236D7///9fUsTpPv///99r0Og+AQAAoIqr5z4AAAAAscHnPgAAAADhNeg+AQAAoO5Z5z4AAADAKVbnPgAAAEAKueY+AAAAoJ1H6D4BAACAm33oPgAAAAAXVeY+AAAAgB8Z5z4AAADguszlPgAAAODwO+U+AAAAgJ+55T4AAABgAHLkPgEAAODSfOU+AAAAYIt25D4AAADAyKXjPgAAAMDzveQ+AAAAoIEf5j4BAAAgz3flPgAAAOBtteM+AAAAAISz5D4AAACARpXjPgAAAOCw6+I+AAAAQJTB4z4AAACAG4XjPgAAAKCVwuI+AQAAgA474z4AAACAzoPiPgAAAGC21OI+AAAAQD3m4T4AAABg4EfiPgAAAAB9ieI+AAAAQLTH4T4AAAAg3JnhPgAAAKD5IeE+AAAAwCDv4T4AAADgeSbhPgAAAIAIOeE+////H0f34j4AAAAAQNvgPgAAAKAh9OA+AAAAYNMh4T4AAACAs7HgPgAAAACSb+A+AAAAoAzQ4T4AAACgQWPgPgAAAGAtuOE+AAAAQE4L4T4AAAAA8TfgPgAAACBM198+AAAAwKoB3z4AAABg4ovfPgAAAECeneI+AAAAIMov4D4AAAAAPhbfPv///z8Dkd4+AAAAwDy33j4AAABA5lvfPgAAAMCRgt4+AAAAgHew3T4AAABg6KThPgAAAEDhhd4+AAAAwKhg3T4AAACA517dPgAAAKBeEd4+AAAAgOSn3D4AAACg0PjcPgAAACAmJN0+AQAAAI0R3T4AAABgfhncPgAAAADLO9w+AAAA4DTE3D4AAADgnNzcPgAAAMAshtw+AAAAoGzg2z4AAABgohDcPgAAAMDMH9s+AAAAQASM3D4AAACANEjbPgAAAIDf7ds+AQAAYNm62j4AAABgaH3aPgAAAOBXU9s+AAAAIAz12j4AAACAJ8vZPgAAAOCrido+AAAAgFT+2T4AAABgC0XaPgAAAAAvBNw+AAAAACLo2D4AAAAAiPTYPgAAAEDem9k+AAAAYAQ72T4AAACgAFDaPgAAAKB7e9k+AAAA4IdB2T4AAAAAjC/aPgAAAOCz09g+AAAAAN3k2D4AAAAAp9fXPgAAAEBNAtg+AAAAYI4K2D4AAACA7VvYPgAAAMCHJtc+AAAAwONX2D4AAADgRSTYPgEAAICRWNc+AAAAYP302T4AAAAgdVjXPgAAAABCrNc+AAAAYMI/1z4AAABgo07XPgAAACB7aNg+AAAA4PhU1z4BAADAC7PVPgAAAACu19c+AAAAoCn11j4AAACA//DWPgAAAOCevtY+AAAAYObA1T4AAABgbCLWPgAAAODG7dc+AAAAQE1v1T4AAACgfv7VPgEAAIAmo9s+AAAAwGFs1z4AAADAiWLYPgAAAKD7StY+AAAAwCir1T4AAAAg213VPgAAAABRbtU+AAAAwEx41T4AAADAHyvXPgAAACDPktU+AQAAQOe61T4AAABg9H3VPgAAAGBC2dQ+AAAA4DOy1j4AAABAdE/UPg==",
          "dtype": "f8"
         }
        },
        {
         "mode": "lines",
         "name": "Laser + Image Training Loss",
         "type": "scatter",
         "x": [
          0,
          1,
          2,
          3,
          4,
          5,
          6,
          7,
          8,
          9,
          10,
          11,
          12,
          13,
          14,
          15,
          16,
          17,
          18,
          19,
          20,
          21,
          22,
          23,
          24,
          25,
          26,
          27,
          28,
          29,
          30,
          31,
          32,
          33,
          34,
          35,
          36,
          37,
          38,
          39,
          40,
          41,
          42,
          43,
          44,
          45,
          46,
          47,
          48,
          49,
          50,
          51,
          52,
          53,
          54,
          55,
          56,
          57,
          58,
          59,
          60,
          61,
          62,
          63,
          64,
          65,
          66,
          67,
          68,
          69,
          70,
          71,
          72,
          73,
          74,
          75,
          76,
          77,
          78,
          79,
          80,
          81,
          82,
          83,
          84,
          85,
          86,
          87,
          88,
          89,
          90,
          91,
          92,
          93,
          94,
          95,
          96,
          97,
          98,
          99,
          100,
          101,
          102,
          103,
          104,
          105,
          106,
          107,
          108,
          109,
          110,
          111,
          112,
          113,
          114,
          115,
          116,
          117,
          118,
          119,
          120,
          121,
          122,
          123,
          124,
          125,
          126,
          127,
          128,
          129,
          130,
          131,
          132,
          133,
          134,
          135,
          136,
          137,
          138,
          139,
          140,
          141,
          142,
          143,
          144,
          145,
          146,
          147,
          148,
          149,
          150,
          151,
          152,
          153,
          154,
          155,
          156,
          157,
          158,
          159,
          160,
          161,
          162,
          163,
          164,
          165,
          166,
          167,
          168,
          169,
          170,
          171,
          172,
          173,
          174,
          175,
          176,
          177,
          178,
          179,
          180,
          181,
          182,
          183,
          184,
          185,
          186,
          187,
          188,
          189,
          190,
          191,
          192,
          193,
          194,
          195,
          196,
          197,
          198,
          199
         ],
         "y": {
          "bdata": "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",
          "dtype": "f8"
         }
        },
        {
         "mode": "lines",
         "name": "Image Training Loss",
         "type": "scatter",
         "x": [
          0,
          1,
          2,
          3,
          4,
          5,
          6,
          7,
          8,
          9,
          10,
          11,
          12,
          13,
          14,
          15,
          16,
          17,
          18,
          19,
          20,
          21,
          22,
          23,
          24,
          25,
          26,
          27,
          28,
          29,
          30,
          31,
          32,
          33,
          34,
          35,
          36,
          37,
          38,
          39,
          40,
          41,
          42,
          43,
          44,
          45,
          46,
          47,
          48,
          49,
          50,
          51,
          52,
          53,
          54,
          55,
          56,
          57,
          58,
          59,
          60,
          61,
          62,
          63,
          64,
          65,
          66,
          67,
          68,
          69,
          70,
          71,
          72,
          73,
          74,
          75,
          76,
          77,
          78,
          79,
          80,
          81,
          82,
          83,
          84,
          85,
          86,
          87,
          88,
          89,
          90,
          91,
          92,
          93,
          94,
          95,
          96,
          97,
          98,
          99,
          100,
          101,
          102,
          103,
          104,
          105,
          106,
          107,
          108,
          109,
          110,
          111,
          112,
          113,
          114,
          115,
          116,
          117,
          118,
          119,
          120,
          121,
          122,
          123,
          124,
          125,
          126,
          127,
          128,
          129,
          130,
          131,
          132,
          133,
          134,
          135,
          136,
          137,
          138,
          139,
          140,
          141,
          142,
          143,
          144,
          145,
          146,
          147,
          148,
          149,
          150,
          151,
          152,
          153,
          154,
          155,
          156,
          157,
          158,
          159,
          160,
          161,
          162,
          163,
          164,
          165,
          166,
          167,
          168,
          169,
          170,
          171,
          172,
          173,
          174,
          175,
          176,
          177,
          178,
          179,
          180,
          181,
          182,
          183,
          184,
          185,
          186,
          187,
          188,
          189,
          190,
          191,
          192,
          193,
          194,
          195,
          196,
          197,
          198,
          199
         ],
         "y": {
          "bdata": "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",
          "dtype": "f8"
         }
        }
       ],
       "layout": {
        "height": 700,
        "hovermode": "x",
        "legend": {
         "bgcolor": "rgba(255, 255, 255, 0.7)",
         "bordercolor": "black",
         "borderwidth": 1,
         "font": {
          "size": 22
         },
         "x": 1,
         "xanchor": "right",
         "y": 1,
         "yanchor": "top"
        },
        "template": {
         "data": {
          "bar": [
           {
            "error_x": {
             "color": "#2a3f5f"
            },
            "error_y": {
             "color": "#2a3f5f"
            },
            "marker": {
             "line": {
              "color": "white",
              "width": 0.5
             },
             "pattern": {
              "fillmode": "overlay",
              "size": 10,
              "solidity": 0.2
             }
            },
            "type": "bar"
           }
          ],
          "barpolar": [
           {
            "marker": {
             "line": {
              "color": "white",
              "width": 0.5
             },
             "pattern": {
              "fillmode": "overlay",
              "size": 10,
              "solidity": 0.2
             }
            },
            "type": "barpolar"
           }
          ],
          "carpet": [
           {
            "aaxis": {
             "endlinecolor": "#2a3f5f",
             "gridcolor": "#C8D4E3",
             "linecolor": "#C8D4E3",
             "minorgridcolor": "#C8D4E3",
             "startlinecolor": "#2a3f5f"
            },
            "baxis": {
             "endlinecolor": "#2a3f5f",
             "gridcolor": "#C8D4E3",
             "linecolor": "#C8D4E3",
             "minorgridcolor": "#C8D4E3",
             "startlinecolor": "#2a3f5f"
            },
            "type": "carpet"
           }
          ],
          "choropleth": [
           {
            "colorbar": {
             "outlinewidth": 0,
             "ticks": ""
            },
            "type": "choropleth"
           }
          ],
          "contour": [
           {
            "colorbar": {
             "outlinewidth": 0,
             "ticks": ""
            },
            "colorscale": [
             [
              0,
              "#0d0887"
             ],
             [
              0.1111111111111111,
              "#46039f"
             ],
             [
              0.2222222222222222,
              "#7201a8"
             ],
             [
              0.3333333333333333,
              "#9c179e"
             ],
             [
              0.4444444444444444,
              "#bd3786"
             ],
             [
              0.5555555555555556,
              "#d8576b"
             ],
             [
              0.6666666666666666,
              "#ed7953"
             ],
             [
              0.7777777777777778,
              "#fb9f3a"
             ],
             [
              0.8888888888888888,
              "#fdca26"
             ],
             [
              1,
              "#f0f921"
             ]
            ],
            "type": "contour"
           }
          ],
          "contourcarpet": [
           {
            "colorbar": {
             "outlinewidth": 0,
             "ticks": ""
            },
            "type": "contourcarpet"
           }
          ],
          "heatmap": [
           {
            "colorbar": {
             "outlinewidth": 0,
             "ticks": ""
            },
            "colorscale": [
             [
              0,
              "#0d0887"
             ],
             [
              0.1111111111111111,
              "#46039f"
             ],
             [
              0.2222222222222222,
              "#7201a8"
             ],
             [
              0.3333333333333333,
              "#9c179e"
             ],
             [
              0.4444444444444444,
              "#bd3786"
             ],
             [
              0.5555555555555556,
              "#d8576b"
             ],
             [
              0.6666666666666666,
              "#ed7953"
             ],
             [
              0.7777777777777778,
              "#fb9f3a"
             ],
             [
              0.8888888888888888,
              "#fdca26"
             ],
             [
              1,
              "#f0f921"
             ]
            ],
            "type": "heatmap"
           }
          ],
          "histogram": [
           {
            "marker": {
             "pattern": {
              "fillmode": "overlay",
              "size": 10,
              "solidity": 0.2
             }
            },
            "type": "histogram"
           }
          ],
          "histogram2d": [
           {
            "colorbar": {
             "outlinewidth": 0,
             "ticks": ""
            },
            "colorscale": [
             [
              0,
              "#0d0887"
             ],
             [
              0.1111111111111111,
              "#46039f"
             ],
             [
              0.2222222222222222,
              "#7201a8"
             ],
             [
              0.3333333333333333,
              "#9c179e"
             ],
             [
              0.4444444444444444,
              "#bd3786"
             ],
             [
              0.5555555555555556,
              "#d8576b"
             ],
             [
              0.6666666666666666,
              "#ed7953"
             ],
             [
              0.7777777777777778,
              "#fb9f3a"
             ],
             [
              0.8888888888888888,
              "#fdca26"
             ],
             [
              1,
              "#f0f921"
             ]
            ],
            "type": "histogram2d"
           }
          ],
          "histogram2dcontour": [
           {
            "colorbar": {
             "outlinewidth": 0,
             "ticks": ""
            },
            "colorscale": [
             [
              0,
              "#0d0887"
             ],
             [
              0.1111111111111111,
              "#46039f"
             ],
             [
              0.2222222222222222,
              "#7201a8"
             ],
             [
              0.3333333333333333,
              "#9c179e"
             ],
             [
              0.4444444444444444,
              "#bd3786"
             ],
             [
              0.5555555555555556,
              "#d8576b"
             ],
             [
              0.6666666666666666,
              "#ed7953"
             ],
             [
              0.7777777777777778,
              "#fb9f3a"
             ],
             [
              0.8888888888888888,
              "#fdca26"
             ],
             [
              1,
              "#f0f921"
             ]
            ],
            "type": "histogram2dcontour"
           }
          ],
          "mesh3d": [
           {
            "colorbar": {
             "outlinewidth": 0,
             "ticks": ""
            },
            "type": "mesh3d"
           }
          ],
          "parcoords": [
           {
            "line": {
             "colorbar": {
              "outlinewidth": 0,
              "ticks": ""
             }
            },
            "type": "parcoords"
           }
          ],
          "pie": [
           {
            "automargin": true,
            "type": "pie"
           }
          ],
          "scatter": [
           {
            "fillpattern": {
             "fillmode": "overlay",
             "size": 10,
             "solidity": 0.2
            },
            "type": "scatter"
           }
          ],
          "scatter3d": [
           {
            "line": {
             "colorbar": {
              "outlinewidth": 0,
              "ticks": ""
             }
            },
            "marker": {
             "colorbar": {
              "outlinewidth": 0,
              "ticks": ""
             }
            },
            "type": "scatter3d"
           }
          ],
          "scattercarpet": [
           {
            "marker": {
             "colorbar": {
              "outlinewidth": 0,
              "ticks": ""
             }
            },
            "type": "scattercarpet"
           }
          ],
          "scattergeo": [
           {
            "marker": {
             "colorbar": {
              "outlinewidth": 0,
              "ticks": ""
             }
            },
            "type": "scattergeo"
           }
          ],
          "scattergl": [
           {
            "marker": {
             "colorbar": {
              "outlinewidth": 0,
              "ticks": ""
             }
            },
            "type": "scattergl"
           }
          ],
          "scattermap": [
           {
            "marker": {
             "colorbar": {
              "outlinewidth": 0,
              "ticks": ""
             }
            },
            "type": "scattermap"
           }
          ],
          "scattermapbox": [
           {
            "marker": {
             "colorbar": {
              "outlinewidth": 0,
              "ticks": ""
             }
            },
            "type": "scattermapbox"
           }
          ],
          "scatterpolar": [
           {
            "marker": {
             "colorbar": {
              "outlinewidth": 0,
              "ticks": ""
             }
            },
            "type": "scatterpolar"
           }
          ],
          "scatterpolargl": [
           {
            "marker": {
             "colorbar": {
              "outlinewidth": 0,
              "ticks": ""
             }
            },
            "type": "scatterpolargl"
           }
          ],
          "scatterternary": [
           {
            "marker": {
             "colorbar": {
              "outlinewidth": 0,
              "ticks": ""
             }
            },
            "type": "scatterternary"
           }
          ],
          "surface": [
           {
            "colorbar": {
             "outlinewidth": 0,
             "ticks": ""
            },
            "colorscale": [
             [
              0,
              "#0d0887"
             ],
             [
              0.1111111111111111,
              "#46039f"
             ],
             [
              0.2222222222222222,
              "#7201a8"
             ],
             [
              0.3333333333333333,
              "#9c179e"
             ],
             [
              0.4444444444444444,
              "#bd3786"
             ],
             [
              0.5555555555555556,
              "#d8576b"
             ],
             [
              0.6666666666666666,
              "#ed7953"
             ],
             [
              0.7777777777777778,
              "#fb9f3a"
             ],
             [
              0.8888888888888888,
              "#fdca26"
             ],
             [
              1,
              "#f0f921"
             ]
            ],
            "type": "surface"
           }
          ],
          "table": [
           {
            "cells": {
             "fill": {
              "color": "#EBF0F8"
             },
             "line": {
              "color": "white"
             }
            },
            "header": {
             "fill": {
              "color": "#C8D4E3"
             },
             "line": {
              "color": "white"
             }
            },
            "type": "table"
           }
          ]
         },
         "layout": {
          "annotationdefaults": {
           "arrowcolor": "#2a3f5f",
           "arrowhead": 0,
           "arrowwidth": 1
          },
          "autotypenumbers": "strict",
          "coloraxis": {
           "colorbar": {
            "outlinewidth": 0,
            "ticks": ""
           }
          },
          "colorscale": {
           "diverging": [
            [
             0,
             "#8e0152"
            ],
            [
             0.1,
             "#c51b7d"
            ],
            [
             0.2,
             "#de77ae"
            ],
            [
             0.3,
             "#f1b6da"
            ],
            [
             0.4,
             "#fde0ef"
            ],
            [
             0.5,
             "#f7f7f7"
            ],
            [
             0.6,
             "#e6f5d0"
            ],
            [
             0.7,
             "#b8e186"
            ],
            [
             0.8,
             "#7fbc41"
            ],
            [
             0.9,
             "#4d9221"
            ],
            [
             1,
             "#276419"
            ]
           ],
           "sequential": [
            [
             0,
             "#0d0887"
            ],
            [
             0.1111111111111111,
             "#46039f"
            ],
            [
             0.2222222222222222,
             "#7201a8"
            ],
            [
             0.3333333333333333,
             "#9c179e"
            ],
            [
             0.4444444444444444,
             "#bd3786"
            ],
            [
             0.5555555555555556,
             "#d8576b"
            ],
            [
             0.6666666666666666,
             "#ed7953"
            ],
            [
             0.7777777777777778,
             "#fb9f3a"
            ],
            [
             0.8888888888888888,
             "#fdca26"
            ],
            [
             1,
             "#f0f921"
            ]
           ],
           "sequentialminus": [
            [
             0,
             "#0d0887"
            ],
            [
             0.1111111111111111,
             "#46039f"
            ],
            [
             0.2222222222222222,
             "#7201a8"
            ],
            [
             0.3333333333333333,
             "#9c179e"
            ],
            [
             0.4444444444444444,
             "#bd3786"
            ],
            [
             0.5555555555555556,
             "#d8576b"
            ],
            [
             0.6666666666666666,
             "#ed7953"
            ],
            [
             0.7777777777777778,
             "#fb9f3a"
            ],
            [
             0.8888888888888888,
             "#fdca26"
            ],
            [
             1,
             "#f0f921"
            ]
           ]
          },
          "colorway": [
           "#636efa",
           "#EF553B",
           "#00cc96",
           "#ab63fa",
           "#FFA15A",
           "#19d3f3",
           "#FF6692",
           "#B6E880",
           "#FF97FF",
           "#FECB52"
          ],
          "font": {
           "color": "#2a3f5f"
          },
          "geo": {
           "bgcolor": "white",
           "lakecolor": "white",
           "landcolor": "white",
           "showlakes": true,
           "showland": true,
           "subunitcolor": "#C8D4E3"
          },
          "hoverlabel": {
           "align": "left"
          },
          "hovermode": "closest",
          "mapbox": {
           "style": "light"
          },
          "paper_bgcolor": "white",
          "plot_bgcolor": "white",
          "polar": {
           "angularaxis": {
            "gridcolor": "#EBF0F8",
            "linecolor": "#EBF0F8",
            "ticks": ""
           },
           "bgcolor": "white",
           "radialaxis": {
            "gridcolor": "#EBF0F8",
            "linecolor": "#EBF0F8",
            "ticks": ""
           }
          },
          "scene": {
           "xaxis": {
            "backgroundcolor": "white",
            "gridcolor": "#DFE8F3",
            "gridwidth": 2,
            "linecolor": "#EBF0F8",
            "showbackground": true,
            "ticks": "",
            "zerolinecolor": "#EBF0F8"
           },
           "yaxis": {
            "backgroundcolor": "white",
            "gridcolor": "#DFE8F3",
            "gridwidth": 2,
            "linecolor": "#EBF0F8",
            "showbackground": true,
            "ticks": "",
            "zerolinecolor": "#EBF0F8"
           },
           "zaxis": {
            "backgroundcolor": "white",
            "gridcolor": "#DFE8F3",
            "gridwidth": 2,
            "linecolor": "#EBF0F8",
            "showbackground": true,
            "ticks": "",
            "zerolinecolor": "#EBF0F8"
           }
          },
          "shapedefaults": {
           "line": {
            "color": "#2a3f5f"
           }
          },
          "ternary": {
           "aaxis": {
            "gridcolor": "#DFE8F3",
            "linecolor": "#A2B1C6",
            "ticks": ""
           },
           "baxis": {
            "gridcolor": "#DFE8F3",
            "linecolor": "#A2B1C6",
            "ticks": ""
           },
           "bgcolor": "white",
           "caxis": {
            "gridcolor": "#DFE8F3",
            "linecolor": "#A2B1C6",
            "ticks": ""
           }
          },
          "title": {
           "x": 0.05
          },
          "xaxis": {
           "automargin": true,
           "gridcolor": "#EBF0F8",
           "linecolor": "#EBF0F8",
           "ticks": "",
           "title": {
            "standoff": 15
           },
           "zerolinecolor": "#EBF0F8",
           "zerolinewidth": 2
          },
          "yaxis": {
           "automargin": true,
           "gridcolor": "#EBF0F8",
           "linecolor": "#EBF0F8",
           "ticks": "",
           "title": {
            "standoff": 15
           },
           "zerolinecolor": "#EBF0F8",
           "zerolinewidth": 2
          }
         }
        },
        "title": {
         "font": {
          "size": 28
         },
         "text": "Training Loss",
         "x": 0.5,
         "xanchor": "center"
        },
        "width": 800,
        "xaxis": {
         "tickfont": {
          "size": 18
         },
         "title": {
          "font": {
           "size": 24
          },
          "text": "Epochs"
         }
        },
        "yaxis": {
         "tickfont": {
          "size": 18
         },
         "title": {
          "font": {
           "size": 24
          },
          "text": "Loss"
         }
        }
       }
      }
     },
     "metadata": {},
     "output_type": "display_data"
    },
    {
     "data": {
      "application/vnd.plotly.v1+json": {
       "config": {
        "plotlyServerURL": "https://plot.ly"
       },
       "data": [
        {
         "mode": "lines",
         "name": "Laser Validation Loss",
         "type": "scatter",
         "x": [
          0,
          1,
          2,
          3,
          4,
          5,
          6,
          7,
          8,
          9,
          10,
          11,
          12,
          13,
          14,
          15,
          16,
          17,
          18,
          19,
          20,
          21,
          22,
          23,
          24,
          25,
          26,
          27,
          28,
          29,
          30,
          31,
          32,
          33,
          34,
          35,
          36,
          37,
          38,
          39,
          40,
          41,
          42,
          43,
          44,
          45,
          46,
          47,
          48,
          49,
          50,
          51,
          52,
          53,
          54,
          55,
          56,
          57,
          58,
          59,
          60,
          61,
          62,
          63,
          64,
          65,
          66,
          67,
          68,
          69,
          70,
          71,
          72,
          73,
          74,
          75,
          76,
          77,
          78,
          79,
          80,
          81,
          82,
          83,
          84,
          85,
          86,
          87,
          88,
          89,
          90,
          91,
          92,
          93,
          94,
          95,
          96,
          97,
          98,
          99,
          100,
          101,
          102,
          103,
          104,
          105,
          106,
          107,
          108,
          109,
          110,
          111,
          112,
          113,
          114,
          115,
          116,
          117,
          118,
          119,
          120,
          121,
          122,
          123,
          124,
          125,
          126,
          127,
          128,
          129,
          130,
          131,
          132,
          133,
          134,
          135,
          136,
          137,
          138,
          139,
          140,
          141,
          142,
          143,
          144,
          145,
          146,
          147,
          148,
          149,
          150,
          151,
          152,
          153,
          154,
          155,
          156,
          157,
          158,
          159,
          160,
          161,
          162,
          163,
          164,
          165,
          166,
          167,
          168,
          169,
          170,
          171,
          172,
          173,
          174,
          175,
          176,
          177,
          178,
          179,
          180,
          181,
          182,
          183,
          184,
          185,
          186,
          187,
          188,
          189,
          190,
          191,
          192,
          193,
          194,
          195,
          196,
          197,
          198,
          199
         ],
         "y": {
          "bdata": "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",
          "dtype": "f8"
         }
        },
        {
         "mode": "lines",
         "name": "Laser + Image Validation Loss",
         "type": "scatter",
         "x": [
          0,
          1,
          2,
          3,
          4,
          5,
          6,
          7,
          8,
          9,
          10,
          11,
          12,
          13,
          14,
          15,
          16,
          17,
          18,
          19,
          20,
          21,
          22,
          23,
          24,
          25,
          26,
          27,
          28,
          29,
          30,
          31,
          32,
          33,
          34,
          35,
          36,
          37,
          38,
          39,
          40,
          41,
          42,
          43,
          44,
          45,
          46,
          47,
          48,
          49,
          50,
          51,
          52,
          53,
          54,
          55,
          56,
          57,
          58,
          59,
          60,
          61,
          62,
          63,
          64,
          65,
          66,
          67,
          68,
          69,
          70,
          71,
          72,
          73,
          74,
          75,
          76,
          77,
          78,
          79,
          80,
          81,
          82,
          83,
          84,
          85,
          86,
          87,
          88,
          89,
          90,
          91,
          92,
          93,
          94,
          95,
          96,
          97,
          98,
          99,
          100,
          101,
          102,
          103,
          104,
          105,
          106,
          107,
          108,
          109,
          110,
          111,
          112,
          113,
          114,
          115,
          116,
          117,
          118,
          119,
          120,
          121,
          122,
          123,
          124,
          125,
          126,
          127,
          128,
          129,
          130,
          131,
          132,
          133,
          134,
          135,
          136,
          137,
          138,
          139,
          140,
          141,
          142,
          143,
          144,
          145,
          146,
          147,
          148,
          149,
          150,
          151,
          152,
          153,
          154,
          155,
          156,
          157,
          158,
          159,
          160,
          161,
          162,
          163,
          164,
          165,
          166,
          167,
          168,
          169,
          170,
          171,
          172,
          173,
          174,
          175,
          176,
          177,
          178,
          179,
          180,
          181,
          182,
          183,
          184,
          185,
          186,
          187,
          188,
          189,
          190,
          191,
          192,
          193,
          194,
          195,
          196,
          197,
          198,
          199
         ],
         "y": {
          "bdata": "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",
          "dtype": "f8"
         }
        },
        {
         "mode": "lines",
         "name": "Image Validation Loss",
         "type": "scatter",
         "x": [
          0,
          1,
          2,
          3,
          4,
          5,
          6,
          7,
          8,
          9,
          10,
          11,
          12,
          13,
          14,
          15,
          16,
          17,
          18,
          19,
          20,
          21,
          22,
          23,
          24,
          25,
          26,
          27,
          28,
          29,
          30,
          31,
          32,
          33,
          34,
          35,
          36,
          37,
          38,
          39,
          40,
          41,
          42,
          43,
          44,
          45,
          46,
          47,
          48,
          49,
          50,
          51,
          52,
          53,
          54,
          55,
          56,
          57,
          58,
          59,
          60,
          61,
          62,
          63,
          64,
          65,
          66,
          67,
          68,
          69,
          70,
          71,
          72,
          73,
          74,
          75,
          76,
          77,
          78,
          79,
          80,
          81,
          82,
          83,
          84,
          85,
          86,
          87,
          88,
          89,
          90,
          91,
          92,
          93,
          94,
          95,
          96,
          97,
          98,
          99,
          100,
          101,
          102,
          103,
          104,
          105,
          106,
          107,
          108,
          109,
          110,
          111,
          112,
          113,
          114,
          115,
          116,
          117,
          118,
          119,
          120,
          121,
          122,
          123,
          124,
          125,
          126,
          127,
          128,
          129,
          130,
          131,
          132,
          133,
          134,
          135,
          136,
          137,
          138,
          139,
          140,
          141,
          142,
          143,
          144,
          145,
          146,
          147,
          148,
          149,
          150,
          151,
          152,
          153,
          154,
          155,
          156,
          157,
          158,
          159,
          160,
          161,
          162,
          163,
          164,
          165,
          166,
          167,
          168,
          169,
          170,
          171,
          172,
          173,
          174,
          175,
          176,
          177,
          178,
          179,
          180,
          181,
          182,
          183,
          184,
          185,
          186,
          187,
          188,
          189,
          190,
          191,
          192,
          193,
          194,
          195,
          196,
          197,
          198,
          199
         ],
         "y": {
          "bdata": "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",
          "dtype": "f8"
         }
        }
       ],
       "layout": {
        "height": 700,
        "hovermode": "x",
        "legend": {
         "bgcolor": "rgba(255, 255, 255, 0.7)",
         "bordercolor": "black",
         "borderwidth": 1,
         "font": {
          "size": 22
         },
         "x": 1,
         "xanchor": "right",
         "y": 1,
         "yanchor": "top"
        },
        "template": {
         "data": {
          "bar": [
           {
            "error_x": {
             "color": "#2a3f5f"
            },
            "error_y": {
             "color": "#2a3f5f"
            },
            "marker": {
             "line": {
              "color": "white",
              "width": 0.5
             },
             "pattern": {
              "fillmode": "overlay",
              "size": 10,
              "solidity": 0.2
             }
            },
            "type": "bar"
           }
          ],
          "barpolar": [
           {
            "marker": {
             "line": {
              "color": "white",
              "width": 0.5
             },
             "pattern": {
              "fillmode": "overlay",
              "size": 10,
              "solidity": 0.2
             }
            },
            "type": "barpolar"
           }
          ],
          "carpet": [
           {
            "aaxis": {
             "endlinecolor": "#2a3f5f",
             "gridcolor": "#C8D4E3",
             "linecolor": "#C8D4E3",
             "minorgridcolor": "#C8D4E3",
             "startlinecolor": "#2a3f5f"
            },
            "baxis": {
             "endlinecolor": "#2a3f5f",
             "gridcolor": "#C8D4E3",
             "linecolor": "#C8D4E3",
             "minorgridcolor": "#C8D4E3",
             "startlinecolor": "#2a3f5f"
            },
            "type": "carpet"
           }
          ],
          "choropleth": [
           {
            "colorbar": {
             "outlinewidth": 0,
             "ticks": ""
            },
            "type": "choropleth"
           }
          ],
          "contour": [
           {
            "colorbar": {
             "outlinewidth": 0,
             "ticks": ""
            },
            "colorscale": [
             [
              0,
              "#0d0887"
             ],
             [
              0.1111111111111111,
              "#46039f"
             ],
             [
              0.2222222222222222,
              "#7201a8"
             ],
             [
              0.3333333333333333,
              "#9c179e"
             ],
             [
              0.4444444444444444,
              "#bd3786"
             ],
             [
              0.5555555555555556,
              "#d8576b"
             ],
             [
              0.6666666666666666,
              "#ed7953"
             ],
             [
              0.7777777777777778,
              "#fb9f3a"
             ],
             [
              0.8888888888888888,
              "#fdca26"
             ],
             [
              1,
              "#f0f921"
             ]
            ],
            "type": "contour"
           }
          ],
          "contourcarpet": [
           {
            "colorbar": {
             "outlinewidth": 0,
             "ticks": ""
            },
            "type": "contourcarpet"
           }
          ],
          "heatmap": [
           {
            "colorbar": {
             "outlinewidth": 0,
             "ticks": ""
            },
            "colorscale": [
             [
              0,
              "#0d0887"
             ],
             [
              0.1111111111111111,
              "#46039f"
             ],
             [
              0.2222222222222222,
              "#7201a8"
             ],
             [
              0.3333333333333333,
              "#9c179e"
             ],
             [
              0.4444444444444444,
              "#bd3786"
             ],
             [
              0.5555555555555556,
              "#d8576b"
             ],
             [
              0.6666666666666666,
              "#ed7953"
             ],
             [
              0.7777777777777778,
              "#fb9f3a"
             ],
             [
              0.8888888888888888,
              "#fdca26"
             ],
             [
              1,
              "#f0f921"
             ]
            ],
            "type": "heatmap"
           }
          ],
          "histogram": [
           {
            "marker": {
             "pattern": {
              "fillmode": "overlay",
              "size": 10,
              "solidity": 0.2
             }
            },
            "type": "histogram"
           }
          ],
          "histogram2d": [
           {
            "colorbar": {
             "outlinewidth": 0,
             "ticks": ""
            },
            "colorscale": [
             [
              0,
              "#0d0887"
             ],
             [
              0.1111111111111111,
              "#46039f"
             ],
             [
              0.2222222222222222,
              "#7201a8"
             ],
             [
              0.3333333333333333,
              "#9c179e"
             ],
             [
              0.4444444444444444,
              "#bd3786"
             ],
             [
              0.5555555555555556,
              "#d8576b"
             ],
             [
              0.6666666666666666,
              "#ed7953"
             ],
             [
              0.7777777777777778,
              "#fb9f3a"
             ],
             [
              0.8888888888888888,
              "#fdca26"
             ],
             [
              1,
              "#f0f921"
             ]
            ],
            "type": "histogram2d"
           }
          ],
          "histogram2dcontour": [
           {
            "colorbar": {
             "outlinewidth": 0,
             "ticks": ""
            },
            "colorscale": [
             [
              0,
              "#0d0887"
             ],
             [
              0.1111111111111111,
              "#46039f"
             ],
             [
              0.2222222222222222,
              "#7201a8"
             ],
             [
              0.3333333333333333,
              "#9c179e"
             ],
             [
              0.4444444444444444,
              "#bd3786"
             ],
             [
              0.5555555555555556,
              "#d8576b"
             ],
             [
              0.6666666666666666,
              "#ed7953"
             ],
             [
              0.7777777777777778,
              "#fb9f3a"
             ],
             [
              0.8888888888888888,
              "#fdca26"
             ],
             [
              1,
              "#f0f921"
             ]
            ],
            "type": "histogram2dcontour"
           }
          ],
          "mesh3d": [
           {
            "colorbar": {
             "outlinewidth": 0,
             "ticks": ""
            },
            "type": "mesh3d"
           }
          ],
          "parcoords": [
           {
            "line": {
             "colorbar": {
              "outlinewidth": 0,
              "ticks": ""
             }
            },
            "type": "parcoords"
           }
          ],
          "pie": [
           {
            "automargin": true,
            "type": "pie"
           }
          ],
          "scatter": [
           {
            "fillpattern": {
             "fillmode": "overlay",
             "size": 10,
             "solidity": 0.2
            },
            "type": "scatter"
           }
          ],
          "scatter3d": [
           {
            "line": {
             "colorbar": {
              "outlinewidth": 0,
              "ticks": ""
             }
            },
            "marker": {
             "colorbar": {
              "outlinewidth": 0,
              "ticks": ""
             }
            },
            "type": "scatter3d"
           }
          ],
          "scattercarpet": [
           {
            "marker": {
             "colorbar": {
              "outlinewidth": 0,
              "ticks": ""
             }
            },
            "type": "scattercarpet"
           }
          ],
          "scattergeo": [
           {
            "marker": {
             "colorbar": {
              "outlinewidth": 0,
              "ticks": ""
             }
            },
            "type": "scattergeo"
           }
          ],
          "scattergl": [
           {
            "marker": {
             "colorbar": {
              "outlinewidth": 0,
              "ticks": ""
             }
            },
            "type": "scattergl"
           }
          ],
          "scattermap": [
           {
            "marker": {
             "colorbar": {
              "outlinewidth": 0,
              "ticks": ""
             }
            },
            "type": "scattermap"
           }
          ],
          "scattermapbox": [
           {
            "marker": {
             "colorbar": {
              "outlinewidth": 0,
              "ticks": ""
             }
            },
            "type": "scattermapbox"
           }
          ],
          "scatterpolar": [
           {
            "marker": {
             "colorbar": {
              "outlinewidth": 0,
              "ticks": ""
             }
            },
            "type": "scatterpolar"
           }
          ],
          "scatterpolargl": [
           {
            "marker": {
             "colorbar": {
              "outlinewidth": 0,
              "ticks": ""
             }
            },
            "type": "scatterpolargl"
           }
          ],
          "scatterternary": [
           {
            "marker": {
             "colorbar": {
              "outlinewidth": 0,
              "ticks": ""
             }
            },
            "type": "scatterternary"
           }
          ],
          "surface": [
           {
            "colorbar": {
             "outlinewidth": 0,
             "ticks": ""
            },
            "colorscale": [
             [
              0,
              "#0d0887"
             ],
             [
              0.1111111111111111,
              "#46039f"
             ],
             [
              0.2222222222222222,
              "#7201a8"
             ],
             [
              0.3333333333333333,
              "#9c179e"
             ],
             [
              0.4444444444444444,
              "#bd3786"
             ],
             [
              0.5555555555555556,
              "#d8576b"
             ],
             [
              0.6666666666666666,
              "#ed7953"
             ],
             [
              0.7777777777777778,
              "#fb9f3a"
             ],
             [
              0.8888888888888888,
              "#fdca26"
             ],
             [
              1,
              "#f0f921"
             ]
            ],
            "type": "surface"
           }
          ],
          "table": [
           {
            "cells": {
             "fill": {
              "color": "#EBF0F8"
             },
             "line": {
              "color": "white"
             }
            },
            "header": {
             "fill": {
              "color": "#C8D4E3"
             },
             "line": {
              "color": "white"
             }
            },
            "type": "table"
           }
          ]
         },
         "layout": {
          "annotationdefaults": {
           "arrowcolor": "#2a3f5f",
           "arrowhead": 0,
           "arrowwidth": 1
          },
          "autotypenumbers": "strict",
          "coloraxis": {
           "colorbar": {
            "outlinewidth": 0,
            "ticks": ""
           }
          },
          "colorscale": {
           "diverging": [
            [
             0,
             "#8e0152"
            ],
            [
             0.1,
             "#c51b7d"
            ],
            [
             0.2,
             "#de77ae"
            ],
            [
             0.3,
             "#f1b6da"
            ],
            [
             0.4,
             "#fde0ef"
            ],
            [
             0.5,
             "#f7f7f7"
            ],
            [
             0.6,
             "#e6f5d0"
            ],
            [
             0.7,
             "#b8e186"
            ],
            [
             0.8,
             "#7fbc41"
            ],
            [
             0.9,
             "#4d9221"
            ],
            [
             1,
             "#276419"
            ]
           ],
           "sequential": [
            [
             0,
             "#0d0887"
            ],
            [
             0.1111111111111111,
             "#46039f"
            ],
            [
             0.2222222222222222,
             "#7201a8"
            ],
            [
             0.3333333333333333,
             "#9c179e"
            ],
            [
             0.4444444444444444,
             "#bd3786"
            ],
            [
             0.5555555555555556,
             "#d8576b"
            ],
            [
             0.6666666666666666,
             "#ed7953"
            ],
            [
             0.7777777777777778,
             "#fb9f3a"
            ],
            [
             0.8888888888888888,
             "#fdca26"
            ],
            [
             1,
             "#f0f921"
            ]
           ],
           "sequentialminus": [
            [
             0,
             "#0d0887"
            ],
            [
             0.1111111111111111,
             "#46039f"
            ],
            [
             0.2222222222222222,
             "#7201a8"
            ],
            [
             0.3333333333333333,
             "#9c179e"
            ],
            [
             0.4444444444444444,
             "#bd3786"
            ],
            [
             0.5555555555555556,
             "#d8576b"
            ],
            [
             0.6666666666666666,
             "#ed7953"
            ],
            [
             0.7777777777777778,
             "#fb9f3a"
            ],
            [
             0.8888888888888888,
             "#fdca26"
            ],
            [
             1,
             "#f0f921"
            ]
           ]
          },
          "colorway": [
           "#636efa",
           "#EF553B",
           "#00cc96",
           "#ab63fa",
           "#FFA15A",
           "#19d3f3",
           "#FF6692",
           "#B6E880",
           "#FF97FF",
           "#FECB52"
          ],
          "font": {
           "color": "#2a3f5f"
          },
          "geo": {
           "bgcolor": "white",
           "lakecolor": "white",
           "landcolor": "white",
           "showlakes": true,
           "showland": true,
           "subunitcolor": "#C8D4E3"
          },
          "hoverlabel": {
           "align": "left"
          },
          "hovermode": "closest",
          "mapbox": {
           "style": "light"
          },
          "paper_bgcolor": "white",
          "plot_bgcolor": "white",
          "polar": {
           "angularaxis": {
            "gridcolor": "#EBF0F8",
            "linecolor": "#EBF0F8",
            "ticks": ""
           },
           "bgcolor": "white",
           "radialaxis": {
            "gridcolor": "#EBF0F8",
            "linecolor": "#EBF0F8",
            "ticks": ""
           }
          },
          "scene": {
           "xaxis": {
            "backgroundcolor": "white",
            "gridcolor": "#DFE8F3",
            "gridwidth": 2,
            "linecolor": "#EBF0F8",
            "showbackground": true,
            "ticks": "",
            "zerolinecolor": "#EBF0F8"
           },
           "yaxis": {
            "backgroundcolor": "white",
            "gridcolor": "#DFE8F3",
            "gridwidth": 2,
            "linecolor": "#EBF0F8",
            "showbackground": true,
            "ticks": "",
            "zerolinecolor": "#EBF0F8"
           },
           "zaxis": {
            "backgroundcolor": "white",
            "gridcolor": "#DFE8F3",
            "gridwidth": 2,
            "linecolor": "#EBF0F8",
            "showbackground": true,
            "ticks": "",
            "zerolinecolor": "#EBF0F8"
           }
          },
          "shapedefaults": {
           "line": {
            "color": "#2a3f5f"
           }
          },
          "ternary": {
           "aaxis": {
            "gridcolor": "#DFE8F3",
            "linecolor": "#A2B1C6",
            "ticks": ""
           },
           "baxis": {
            "gridcolor": "#DFE8F3",
            "linecolor": "#A2B1C6",
            "ticks": ""
           },
           "bgcolor": "white",
           "caxis": {
            "gridcolor": "#DFE8F3",
            "linecolor": "#A2B1C6",
            "ticks": ""
           }
          },
          "title": {
           "x": 0.05
          },
          "xaxis": {
           "automargin": true,
           "gridcolor": "#EBF0F8",
           "linecolor": "#EBF0F8",
           "ticks": "",
           "title": {
            "standoff": 15
           },
           "zerolinecolor": "#EBF0F8",
           "zerolinewidth": 2
          },
          "yaxis": {
           "automargin": true,
           "gridcolor": "#EBF0F8",
           "linecolor": "#EBF0F8",
           "ticks": "",
           "title": {
            "standoff": 15
           },
           "zerolinecolor": "#EBF0F8",
           "zerolinewidth": 2
          }
         }
        },
        "title": {
         "font": {
          "size": 28
         },
         "text": "Validation Loss",
         "x": 0.5,
         "xanchor": "center"
        },
        "width": 800,
        "xaxis": {
         "tickfont": {
          "size": 18
         },
         "title": {
          "font": {
           "size": 24
          },
          "text": "Epochs"
         }
        },
        "yaxis": {
         "tickfont": {
          "size": 18
         },
         "title": {
          "font": {
           "size": 24
          },
          "text": "Loss"
         }
        }
       }
      }
     },
     "metadata": {},
     "output_type": "display_data"
    },
    {
     "data": {
      "application/vnd.plotly.v1+json": {
       "config": {
        "plotlyServerURL": "https://plot.ly"
       },
       "data": [
        {
         "mode": "lines",
         "name": "Laser LR",
         "type": "scatter",
         "x": [
          0,
          1,
          2,
          3,
          4,
          5,
          6,
          7,
          8,
          9,
          10,
          11,
          12,
          13,
          14,
          15,
          16,
          17,
          18,
          19,
          20,
          21,
          22,
          23,
          24,
          25,
          26,
          27,
          28,
          29,
          30,
          31,
          32,
          33,
          34,
          35,
          36,
          37,
          38,
          39,
          40,
          41,
          42,
          43,
          44,
          45,
          46,
          47,
          48,
          49,
          50,
          51,
          52,
          53,
          54,
          55,
          56,
          57,
          58,
          59,
          60,
          61,
          62,
          63,
          64,
          65,
          66,
          67,
          68,
          69,
          70,
          71,
          72,
          73,
          74,
          75,
          76,
          77,
          78,
          79,
          80,
          81,
          82,
          83,
          84,
          85,
          86,
          87,
          88,
          89,
          90,
          91,
          92,
          93,
          94,
          95,
          96,
          97,
          98,
          99,
          100,
          101,
          102,
          103,
          104,
          105,
          106,
          107,
          108,
          109,
          110,
          111,
          112,
          113,
          114,
          115,
          116,
          117,
          118,
          119,
          120,
          121,
          122,
          123,
          124,
          125,
          126,
          127,
          128,
          129,
          130,
          131,
          132,
          133,
          134,
          135,
          136,
          137,
          138,
          139,
          140,
          141,
          142,
          143,
          144,
          145,
          146,
          147,
          148,
          149,
          150,
          151,
          152,
          153,
          154,
          155,
          156,
          157,
          158,
          159,
          160,
          161,
          162,
          163,
          164,
          165,
          166,
          167,
          168,
          169,
          170,
          171,
          172,
          173,
          174,
          175,
          176,
          177,
          178,
          179,
          180,
          181,
          182,
          183,
          184,
          185,
          186,
          187,
          188,
          189,
          190,
          191,
          192,
          193,
          194,
          195,
          196,
          197,
          198,
          199
         ],
         "y": {
          "bdata": "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",
          "dtype": "f8"
         }
        },
        {
         "mode": "lines",
         "name": "Laser + Image LR",
         "type": "scatter",
         "x": [
          0,
          1,
          2,
          3,
          4,
          5,
          6,
          7,
          8,
          9,
          10,
          11,
          12,
          13,
          14,
          15,
          16,
          17,
          18,
          19,
          20,
          21,
          22,
          23,
          24,
          25,
          26,
          27,
          28,
          29,
          30,
          31,
          32,
          33,
          34,
          35,
          36,
          37,
          38,
          39,
          40,
          41,
          42,
          43,
          44,
          45,
          46,
          47,
          48,
          49,
          50,
          51,
          52,
          53,
          54,
          55,
          56,
          57,
          58,
          59,
          60,
          61,
          62,
          63,
          64,
          65,
          66,
          67,
          68,
          69,
          70,
          71,
          72,
          73,
          74,
          75,
          76,
          77,
          78,
          79,
          80,
          81,
          82,
          83,
          84,
          85,
          86,
          87,
          88,
          89,
          90,
          91,
          92,
          93,
          94,
          95,
          96,
          97,
          98,
          99,
          100,
          101,
          102,
          103,
          104,
          105,
          106,
          107,
          108,
          109,
          110,
          111,
          112,
          113,
          114,
          115,
          116,
          117,
          118,
          119,
          120,
          121,
          122,
          123,
          124,
          125,
          126,
          127,
          128,
          129,
          130,
          131,
          132,
          133,
          134,
          135,
          136,
          137,
          138,
          139,
          140,
          141,
          142,
          143,
          144,
          145,
          146,
          147,
          148,
          149,
          150,
          151,
          152,
          153,
          154,
          155,
          156,
          157,
          158,
          159,
          160,
          161,
          162,
          163,
          164,
          165,
          166,
          167,
          168,
          169,
          170,
          171,
          172,
          173,
          174,
          175,
          176,
          177,
          178,
          179,
          180,
          181,
          182,
          183,
          184,
          185,
          186,
          187,
          188,
          189,
          190,
          191,
          192,
          193,
          194,
          195,
          196,
          197,
          198,
          199
         ],
         "y": {
          "bdata": "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",
          "dtype": "f8"
         }
        },
        {
         "mode": "lines",
         "name": "Image LR",
         "type": "scatter",
         "x": [
          0,
          1,
          2,
          3,
          4,
          5,
          6,
          7,
          8,
          9,
          10,
          11,
          12,
          13,
          14,
          15,
          16,
          17,
          18,
          19,
          20,
          21,
          22,
          23,
          24,
          25,
          26,
          27,
          28,
          29,
          30,
          31,
          32,
          33,
          34,
          35,
          36,
          37,
          38,
          39,
          40,
          41,
          42,
          43,
          44,
          45,
          46,
          47,
          48,
          49,
          50,
          51,
          52,
          53,
          54,
          55,
          56,
          57,
          58,
          59,
          60,
          61,
          62,
          63,
          64,
          65,
          66,
          67,
          68,
          69,
          70,
          71,
          72,
          73,
          74,
          75,
          76,
          77,
          78,
          79,
          80,
          81,
          82,
          83,
          84,
          85,
          86,
          87,
          88,
          89,
          90,
          91,
          92,
          93,
          94,
          95,
          96,
          97,
          98,
          99,
          100,
          101,
          102,
          103,
          104,
          105,
          106,
          107,
          108,
          109,
          110,
          111,
          112,
          113,
          114,
          115,
          116,
          117,
          118,
          119,
          120,
          121,
          122,
          123,
          124,
          125,
          126,
          127,
          128,
          129,
          130,
          131,
          132,
          133,
          134,
          135,
          136,
          137,
          138,
          139,
          140,
          141,
          142,
          143,
          144,
          145,
          146,
          147,
          148,
          149,
          150,
          151,
          152,
          153,
          154,
          155,
          156,
          157,
          158,
          159,
          160,
          161,
          162,
          163,
          164,
          165,
          166,
          167,
          168,
          169,
          170,
          171,
          172,
          173,
          174,
          175,
          176,
          177,
          178,
          179,
          180,
          181,
          182,
          183,
          184,
          185,
          186,
          187,
          188,
          189,
          190,
          191,
          192,
          193,
          194,
          195,
          196,
          197,
          198,
          199
         ],
         "y": {
          "bdata": "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",
          "dtype": "f8"
         }
        }
       ],
       "layout": {
        "height": 700,
        "hovermode": "x",
        "legend": {
         "bgcolor": "rgba(255, 255, 255, 0.7)",
         "bordercolor": "black",
         "borderwidth": 1,
         "font": {
          "size": 22
         },
         "x": 1,
         "xanchor": "right",
         "y": 1,
         "yanchor": "top"
        },
        "template": {
         "data": {
          "bar": [
           {
            "error_x": {
             "color": "#2a3f5f"
            },
            "error_y": {
             "color": "#2a3f5f"
            },
            "marker": {
             "line": {
              "color": "white",
              "width": 0.5
             },
             "pattern": {
              "fillmode": "overlay",
              "size": 10,
              "solidity": 0.2
             }
            },
            "type": "bar"
           }
          ],
          "barpolar": [
           {
            "marker": {
             "line": {
              "color": "white",
              "width": 0.5
             },
             "pattern": {
              "fillmode": "overlay",
              "size": 10,
              "solidity": 0.2
             }
            },
            "type": "barpolar"
           }
          ],
          "carpet": [
           {
            "aaxis": {
             "endlinecolor": "#2a3f5f",
             "gridcolor": "#C8D4E3",
             "linecolor": "#C8D4E3",
             "minorgridcolor": "#C8D4E3",
             "startlinecolor": "#2a3f5f"
            },
            "baxis": {
             "endlinecolor": "#2a3f5f",
             "gridcolor": "#C8D4E3",
             "linecolor": "#C8D4E3",
             "minorgridcolor": "#C8D4E3",
             "startlinecolor": "#2a3f5f"
            },
            "type": "carpet"
           }
          ],
          "choropleth": [
           {
            "colorbar": {
             "outlinewidth": 0,
             "ticks": ""
            },
            "type": "choropleth"
           }
          ],
          "contour": [
           {
            "colorbar": {
             "outlinewidth": 0,
             "ticks": ""
            },
            "colorscale": [
             [
              0,
              "#0d0887"
             ],
             [
              0.1111111111111111,
              "#46039f"
             ],
             [
              0.2222222222222222,
              "#7201a8"
             ],
             [
              0.3333333333333333,
              "#9c179e"
             ],
             [
              0.4444444444444444,
              "#bd3786"
             ],
             [
              0.5555555555555556,
              "#d8576b"
             ],
             [
              0.6666666666666666,
              "#ed7953"
             ],
             [
              0.7777777777777778,
              "#fb9f3a"
             ],
             [
              0.8888888888888888,
              "#fdca26"
             ],
             [
              1,
              "#f0f921"
             ]
            ],
            "type": "contour"
           }
          ],
          "contourcarpet": [
           {
            "colorbar": {
             "outlinewidth": 0,
             "ticks": ""
            },
            "type": "contourcarpet"
           }
          ],
          "heatmap": [
           {
            "colorbar": {
             "outlinewidth": 0,
             "ticks": ""
            },
            "colorscale": [
             [
              0,
              "#0d0887"
             ],
             [
              0.1111111111111111,
              "#46039f"
             ],
             [
              0.2222222222222222,
              "#7201a8"
             ],
             [
              0.3333333333333333,
              "#9c179e"
             ],
             [
              0.4444444444444444,
              "#bd3786"
             ],
             [
              0.5555555555555556,
              "#d8576b"
             ],
             [
              0.6666666666666666,
              "#ed7953"
             ],
             [
              0.7777777777777778,
              "#fb9f3a"
             ],
             [
              0.8888888888888888,
              "#fdca26"
             ],
             [
              1,
              "#f0f921"
             ]
            ],
            "type": "heatmap"
           }
          ],
          "histogram": [
           {
            "marker": {
             "pattern": {
              "fillmode": "overlay",
              "size": 10,
              "solidity": 0.2
             }
            },
            "type": "histogram"
           }
          ],
          "histogram2d": [
           {
            "colorbar": {
             "outlinewidth": 0,
             "ticks": ""
            },
            "colorscale": [
             [
              0,
              "#0d0887"
             ],
             [
              0.1111111111111111,
              "#46039f"
             ],
             [
              0.2222222222222222,
              "#7201a8"
             ],
             [
              0.3333333333333333,
              "#9c179e"
             ],
             [
              0.4444444444444444,
              "#bd3786"
             ],
             [
              0.5555555555555556,
              "#d8576b"
             ],
             [
              0.6666666666666666,
              "#ed7953"
             ],
             [
              0.7777777777777778,
              "#fb9f3a"
             ],
             [
              0.8888888888888888,
              "#fdca26"
             ],
             [
              1,
              "#f0f921"
             ]
            ],
            "type": "histogram2d"
           }
          ],
          "histogram2dcontour": [
           {
            "colorbar": {
             "outlinewidth": 0,
             "ticks": ""
            },
            "colorscale": [
             [
              0,
              "#0d0887"
             ],
             [
              0.1111111111111111,
              "#46039f"
             ],
             [
              0.2222222222222222,
              "#7201a8"
             ],
             [
              0.3333333333333333,
              "#9c179e"
             ],
             [
              0.4444444444444444,
              "#bd3786"
             ],
             [
              0.5555555555555556,
              "#d8576b"
             ],
             [
              0.6666666666666666,
              "#ed7953"
             ],
             [
              0.7777777777777778,
              "#fb9f3a"
             ],
             [
              0.8888888888888888,
              "#fdca26"
             ],
             [
              1,
              "#f0f921"
             ]
            ],
            "type": "histogram2dcontour"
           }
          ],
          "mesh3d": [
           {
            "colorbar": {
             "outlinewidth": 0,
             "ticks": ""
            },
            "type": "mesh3d"
           }
          ],
          "parcoords": [
           {
            "line": {
             "colorbar": {
              "outlinewidth": 0,
              "ticks": ""
             }
            },
            "type": "parcoords"
           }
          ],
          "pie": [
           {
            "automargin": true,
            "type": "pie"
           }
          ],
          "scatter": [
           {
            "fillpattern": {
             "fillmode": "overlay",
             "size": 10,
             "solidity": 0.2
            },
            "type": "scatter"
           }
          ],
          "scatter3d": [
           {
            "line": {
             "colorbar": {
              "outlinewidth": 0,
              "ticks": ""
             }
            },
            "marker": {
             "colorbar": {
              "outlinewidth": 0,
              "ticks": ""
             }
            },
            "type": "scatter3d"
           }
          ],
          "scattercarpet": [
           {
            "marker": {
             "colorbar": {
              "outlinewidth": 0,
              "ticks": ""
             }
            },
            "type": "scattercarpet"
           }
          ],
          "scattergeo": [
           {
            "marker": {
             "colorbar": {
              "outlinewidth": 0,
              "ticks": ""
             }
            },
            "type": "scattergeo"
           }
          ],
          "scattergl": [
           {
            "marker": {
             "colorbar": {
              "outlinewidth": 0,
              "ticks": ""
             }
            },
            "type": "scattergl"
           }
          ],
          "scattermap": [
           {
            "marker": {
             "colorbar": {
              "outlinewidth": 0,
              "ticks": ""
             }
            },
            "type": "scattermap"
           }
          ],
          "scattermapbox": [
           {
            "marker": {
             "colorbar": {
              "outlinewidth": 0,
              "ticks": ""
             }
            },
            "type": "scattermapbox"
           }
          ],
          "scatterpolar": [
           {
            "marker": {
             "colorbar": {
              "outlinewidth": 0,
              "ticks": ""
             }
            },
            "type": "scatterpolar"
           }
          ],
          "scatterpolargl": [
           {
            "marker": {
             "colorbar": {
              "outlinewidth": 0,
              "ticks": ""
             }
            },
            "type": "scatterpolargl"
           }
          ],
          "scatterternary": [
           {
            "marker": {
             "colorbar": {
              "outlinewidth": 0,
              "ticks": ""
             }
            },
            "type": "scatterternary"
           }
          ],
          "surface": [
           {
            "colorbar": {
             "outlinewidth": 0,
             "ticks": ""
            },
            "colorscale": [
             [
              0,
              "#0d0887"
             ],
             [
              0.1111111111111111,
              "#46039f"
             ],
             [
              0.2222222222222222,
              "#7201a8"
             ],
             [
              0.3333333333333333,
              "#9c179e"
             ],
             [
              0.4444444444444444,
              "#bd3786"
             ],
             [
              0.5555555555555556,
              "#d8576b"
             ],
             [
              0.6666666666666666,
              "#ed7953"
             ],
             [
              0.7777777777777778,
              "#fb9f3a"
             ],
             [
              0.8888888888888888,
              "#fdca26"
             ],
             [
              1,
              "#f0f921"
             ]
            ],
            "type": "surface"
           }
          ],
          "table": [
           {
            "cells": {
             "fill": {
              "color": "#EBF0F8"
             },
             "line": {
              "color": "white"
             }
            },
            "header": {
             "fill": {
              "color": "#C8D4E3"
             },
             "line": {
              "color": "white"
             }
            },
            "type": "table"
           }
          ]
         },
         "layout": {
          "annotationdefaults": {
           "arrowcolor": "#2a3f5f",
           "arrowhead": 0,
           "arrowwidth": 1
          },
          "autotypenumbers": "strict",
          "coloraxis": {
           "colorbar": {
            "outlinewidth": 0,
            "ticks": ""
           }
          },
          "colorscale": {
           "diverging": [
            [
             0,
             "#8e0152"
            ],
            [
             0.1,
             "#c51b7d"
            ],
            [
             0.2,
             "#de77ae"
            ],
            [
             0.3,
             "#f1b6da"
            ],
            [
             0.4,
             "#fde0ef"
            ],
            [
             0.5,
             "#f7f7f7"
            ],
            [
             0.6,
             "#e6f5d0"
            ],
            [
             0.7,
             "#b8e186"
            ],
            [
             0.8,
             "#7fbc41"
            ],
            [
             0.9,
             "#4d9221"
            ],
            [
             1,
             "#276419"
            ]
           ],
           "sequential": [
            [
             0,
             "#0d0887"
            ],
            [
             0.1111111111111111,
             "#46039f"
            ],
            [
             0.2222222222222222,
             "#7201a8"
            ],
            [
             0.3333333333333333,
             "#9c179e"
            ],
            [
             0.4444444444444444,
             "#bd3786"
            ],
            [
             0.5555555555555556,
             "#d8576b"
            ],
            [
             0.6666666666666666,
             "#ed7953"
            ],
            [
             0.7777777777777778,
             "#fb9f3a"
            ],
            [
             0.8888888888888888,
             "#fdca26"
            ],
            [
             1,
             "#f0f921"
            ]
           ],
           "sequentialminus": [
            [
             0,
             "#0d0887"
            ],
            [
             0.1111111111111111,
             "#46039f"
            ],
            [
             0.2222222222222222,
             "#7201a8"
            ],
            [
             0.3333333333333333,
             "#9c179e"
            ],
            [
             0.4444444444444444,
             "#bd3786"
            ],
            [
             0.5555555555555556,
             "#d8576b"
            ],
            [
             0.6666666666666666,
             "#ed7953"
            ],
            [
             0.7777777777777778,
             "#fb9f3a"
            ],
            [
             0.8888888888888888,
             "#fdca26"
            ],
            [
             1,
             "#f0f921"
            ]
           ]
          },
          "colorway": [
           "#636efa",
           "#EF553B",
           "#00cc96",
           "#ab63fa",
           "#FFA15A",
           "#19d3f3",
           "#FF6692",
           "#B6E880",
           "#FF97FF",
           "#FECB52"
          ],
          "font": {
           "color": "#2a3f5f"
          },
          "geo": {
           "bgcolor": "white",
           "lakecolor": "white",
           "landcolor": "white",
           "showlakes": true,
           "showland": true,
           "subunitcolor": "#C8D4E3"
          },
          "hoverlabel": {
           "align": "left"
          },
          "hovermode": "closest",
          "mapbox": {
           "style": "light"
          },
          "paper_bgcolor": "white",
          "plot_bgcolor": "white",
          "polar": {
           "angularaxis": {
            "gridcolor": "#EBF0F8",
            "linecolor": "#EBF0F8",
            "ticks": ""
           },
           "bgcolor": "white",
           "radialaxis": {
            "gridcolor": "#EBF0F8",
            "linecolor": "#EBF0F8",
            "ticks": ""
           }
          },
          "scene": {
           "xaxis": {
            "backgroundcolor": "white",
            "gridcolor": "#DFE8F3",
            "gridwidth": 2,
            "linecolor": "#EBF0F8",
            "showbackground": true,
            "ticks": "",
            "zerolinecolor": "#EBF0F8"
           },
           "yaxis": {
            "backgroundcolor": "white",
            "gridcolor": "#DFE8F3",
            "gridwidth": 2,
            "linecolor": "#EBF0F8",
            "showbackground": true,
            "ticks": "",
            "zerolinecolor": "#EBF0F8"
           },
           "zaxis": {
            "backgroundcolor": "white",
            "gridcolor": "#DFE8F3",
            "gridwidth": 2,
            "linecolor": "#EBF0F8",
            "showbackground": true,
            "ticks": "",
            "zerolinecolor": "#EBF0F8"
           }
          },
          "shapedefaults": {
           "line": {
            "color": "#2a3f5f"
           }
          },
          "ternary": {
           "aaxis": {
            "gridcolor": "#DFE8F3",
            "linecolor": "#A2B1C6",
            "ticks": ""
           },
           "baxis": {
            "gridcolor": "#DFE8F3",
            "linecolor": "#A2B1C6",
            "ticks": ""
           },
           "bgcolor": "white",
           "caxis": {
            "gridcolor": "#DFE8F3",
            "linecolor": "#A2B1C6",
            "ticks": ""
           }
          },
          "title": {
           "x": 0.05
          },
          "xaxis": {
           "automargin": true,
           "gridcolor": "#EBF0F8",
           "linecolor": "#EBF0F8",
           "ticks": "",
           "title": {
            "standoff": 15
           },
           "zerolinecolor": "#EBF0F8",
           "zerolinewidth": 2
          },
          "yaxis": {
           "automargin": true,
           "gridcolor": "#EBF0F8",
           "linecolor": "#EBF0F8",
           "ticks": "",
           "title": {
            "standoff": 15
           },
           "zerolinecolor": "#EBF0F8",
           "zerolinewidth": 2
          }
         }
        },
        "title": {
         "font": {
          "size": 28
         },
         "text": "Learning Rate Schedule",
         "x": 0.5,
         "xanchor": "center"
        },
        "width": 800,
        "xaxis": {
         "tickfont": {
          "size": 18
         },
         "title": {
          "font": {
           "size": 24
          },
          "text": "Epochs"
         }
        },
        "yaxis": {
         "tickfont": {
          "size": 18
         },
         "title": {
          "font": {
           "size": 24
          },
          "text": "Learning Rate"
         }
        }
       }
      }
     },
     "metadata": {},
     "output_type": "display_data"
    }
   ],
   "source": [
    "import os\n",
    "import pandas as pd\n",
    "import plotly.graph_objects as go\n",
    "\n",
    "epochs = list(range(200))  # First 200 epochs\n",
    "\n",
    "def plot_interactive(title, y_data, labels, y_axis_label):\n",
    "    fig = go.Figure()\n",
    "    for data, label in zip(y_data, labels):\n",
    "        fig.add_trace(go.Scatter(x=epochs, y=data, mode='lines', name=label))  # No markers\n",
    "\n",
    "    fig.update_layout(\n",
    "        title={\n",
    "            'text': title,  # Title text\n",
    "            'x': 0.5,  # Center the title horizontally\n",
    "            'xanchor': 'center',  # Anchor the title to the center\n",
    "            'font': {'size': 28},  # Increase title font size\n",
    "        },\n",
    "        xaxis_title=\"Epochs\",\n",
    "        yaxis_title=y_axis_label,\n",
    "        hovermode=\"x\",\n",
    "        width=800,  # Set the figure width (in pixels)\n",
    "        height=700,\n",
    "        template=\"plotly_white\",  # Light mode\n",
    "        \n",
    "        # Positioning the legend in the top-right corner\n",
    "        legend=dict(\n",
    "            x=1,  # Right edge of the plot\n",
    "            y=1,  # Top edge of the plot\n",
    "            xanchor='right',  # Align the legend to the right\n",
    "            yanchor='top',  # Align the legend to the top\n",
    "            bgcolor='rgba(255, 255, 255, 0.7)',  # Semi-transparent background\n",
    "            bordercolor='black',  # Border color\n",
    "            borderwidth=1,  # Border width\n",
    "            font={'size': 22}  # Increase legend font size\n",
    "        ),\n",
    "        xaxis=dict(\n",
    "            title=\"Epochs\",\n",
    "            title_font=dict(size=24),  # Increase x-axis label font size\n",
    "            tickfont=dict(size=18)  # Increase x-axis tick font size\n",
    "        ),\n",
    "        yaxis=dict(\n",
    "            title=y_axis_label,\n",
    "            title_font=dict(size=24),  # Increase y-axis label font size\n",
    "            tickfont=dict(size=18)  # Increase y-axis tick font size\n",
    "        )\n",
    "    )\n",
    "    \n",
    "    fig.show()\n",
    "\n",
    "# Interactive plots\n",
    "plot_interactive(\"Training Loss\", \n",
    "                 [laser_train_loss, laser_img_train_loss, img_train_loss], \n",
    "                 [\"Laser Training Loss\", \"Laser + Image Training Loss\", \"Image Training Loss\"], \n",
    "                 \"Loss\")\n",
    "\n",
    "plot_interactive(\"Validation Loss\", \n",
    "                 [laser_validation_loss, laser_img_validation_loss, img_validation_loss], \n",
    "                 [\"Laser Validation Loss\", \"Laser + Image Validation Loss\", \"Image Validation Loss\"], \n",
    "                 \"Loss\")\n",
    "\n",
    "plot_interactive(\"Learning Rate Schedule\", \n",
    "                 [laser_lr, laser_img_train_lr, img_train_lr], \n",
    "                 [\"Laser LR\", \"Laser + Image LR\", \"Image LR\"], \n",
    "                 \"Learning Rate\")\n"
   ]
  },
  {
   "cell_type": "markdown",
   "metadata": {},
   "source": [
    "# RL plots"
   ]
  },
  {
   "cell_type": "code",
   "execution_count": 2,
   "metadata": {},
   "outputs": [],
   "source": [
    "current_directory = os.getcwd()\n",
    "dir = os.path.join(current_directory, 'plots_data')\n",
    "pretraining_loss = pd.read_csv(os.path.join(dir, 'critic_pretraining.csv'))['Value']\n",
    "rewards = pd.read_csv(os.path.join(dir, 'episode_reward.csv'))['Value']\n",
    "\n"
   ]
  },
  {
   "cell_type": "code",
   "execution_count": 4,
   "metadata": {},
   "outputs": [
    {
     "data": {
      "application/vnd.plotly.v1+json": {
       "config": {
        "plotlyServerURL": "https://plot.ly"
       },
       "data": [
        {
         "line": {
          "color": "rgba(0, 0, 255, 0.7)"
         },
         "mode": "lines",
         "type": "scatter",
         "x": [
          0,
          1,
          2,
          3,
          4,
          5,
          6,
          7,
          8,
          9,
          10,
          11,
          12,
          13,
          14,
          15,
          16,
          17,
          18,
          19,
          20,
          21,
          22,
          23,
          24,
          25,
          26,
          27,
          28,
          29,
          30,
          31,
          32,
          33,
          34,
          35,
          36,
          37,
          38,
          39,
          40,
          41,
          42,
          43,
          44,
          45,
          46,
          47,
          48,
          49,
          50,
          51,
          52,
          53,
          54,
          55,
          56,
          57,
          58,
          59,
          60,
          61,
          62,
          63,
          64,
          65,
          66,
          67,
          68,
          69,
          70,
          71,
          72,
          73,
          74,
          75,
          76,
          77,
          78,
          79,
          80,
          81,
          82,
          83,
          84,
          85,
          86,
          87,
          88,
          89,
          90,
          91,
          92,
          93,
          94,
          95,
          96,
          97,
          98,
          99,
          100,
          101,
          102,
          103,
          104,
          105,
          106,
          107,
          108,
          109,
          110,
          111,
          112,
          113,
          114,
          115,
          116,
          117,
          118,
          119,
          120,
          121,
          122,
          123,
          124,
          125,
          126,
          127,
          128,
          129,
          130,
          131,
          132,
          133,
          134,
          135,
          136,
          137,
          138,
          139,
          140,
          141,
          142,
          143,
          144,
          145,
          146,
          147,
          148,
          149,
          150,
          151,
          152,
          153,
          154,
          155,
          156,
          157,
          158,
          159,
          160,
          161,
          162,
          163,
          164,
          165,
          166,
          167,
          168,
          169,
          170,
          171,
          172,
          173,
          174,
          175,
          176,
          177,
          178,
          179,
          180,
          181,
          182,
          183,
          184,
          185,
          186,
          187,
          188,
          189,
          190,
          191,
          192,
          193,
          194,
          195,
          196,
          197,
          198,
          199,
          200,
          201,
          202,
          203,
          204,
          205,
          206,
          207,
          208,
          209,
          210,
          211,
          212,
          213,
          214,
          215,
          216,
          217,
          218,
          219,
          220,
          221,
          222,
          223,
          224,
          225,
          226,
          227,
          228,
          229,
          230,
          231,
          232,
          233,
          234,
          235,
          236,
          237,
          238,
          239,
          240,
          241,
          242,
          243,
          244,
          245,
          246,
          247,
          248,
          249,
          250,
          251,
          252,
          253,
          254,
          255,
          256,
          257,
          258,
          259,
          260,
          261,
          262,
          263,
          264,
          265,
          266,
          267,
          268,
          269,
          270,
          271,
          272,
          273,
          274,
          275,
          276,
          277,
          278,
          279,
          280,
          281,
          282,
          283,
          284,
          285,
          286,
          287,
          288,
          289,
          290,
          291,
          292,
          293,
          294,
          295,
          296,
          297,
          298,
          299,
          300,
          301,
          302,
          303,
          304,
          305,
          306,
          307,
          308,
          309,
          310,
          311,
          312,
          313,
          314,
          315,
          316,
          317,
          318,
          319,
          320,
          321,
          322,
          323,
          324,
          325,
          326,
          327,
          328,
          329,
          330,
          331,
          332,
          333,
          334,
          335,
          336,
          337,
          338,
          339,
          340,
          341,
          342,
          343,
          344,
          345,
          346,
          347,
          348,
          349,
          350,
          351,
          352,
          353,
          354,
          355,
          356,
          357,
          358,
          359,
          360,
          361,
          362,
          363,
          364,
          365,
          366,
          367,
          368,
          369,
          370,
          371,
          372,
          373,
          374,
          375,
          376,
          377,
          378,
          379,
          380,
          381,
          382,
          383,
          384,
          385,
          386,
          387,
          388,
          389,
          390,
          391,
          392,
          393,
          394,
          395,
          396,
          397,
          398,
          399,
          400,
          401,
          402,
          403,
          404,
          405,
          406,
          407,
          408,
          409,
          410,
          411,
          412,
          413,
          414,
          415,
          416,
          417,
          418,
          419,
          420,
          421,
          422,
          423,
          424,
          425,
          426,
          427,
          428,
          429,
          430,
          431,
          432,
          433,
          434,
          435,
          436,
          437,
          438,
          439,
          440,
          441,
          442,
          443,
          444,
          445,
          446,
          447,
          448,
          449,
          450,
          451,
          452,
          453,
          454,
          455,
          456,
          457,
          458,
          459,
          460,
          461,
          462,
          463,
          464,
          465,
          466,
          467,
          468,
          469,
          470,
          471,
          472,
          473,
          474,
          475,
          476,
          477,
          478,
          479,
          480,
          481,
          482,
          483,
          484,
          485,
          486,
          487,
          488,
          489,
          490,
          491,
          492,
          493,
          494,
          495,
          496,
          497,
          498,
          499,
          500,
          501,
          502,
          503,
          504,
          505,
          506,
          507,
          508,
          509,
          510,
          511,
          512,
          513,
          514,
          515,
          516,
          517,
          518,
          519,
          520,
          521,
          522,
          523,
          524,
          525,
          526,
          527,
          528,
          529,
          530,
          531,
          532,
          533,
          534,
          535,
          536,
          537,
          538,
          539,
          540,
          541,
          542,
          543,
          544,
          545,
          546,
          547,
          548,
          549,
          550,
          551,
          552,
          553,
          554,
          555,
          556,
          557,
          558,
          559,
          560,
          561,
          562,
          563,
          564,
          565,
          566,
          567,
          568,
          569,
          570,
          571,
          572,
          573,
          574,
          575,
          576,
          577,
          578,
          579,
          580,
          581,
          582,
          583,
          584,
          585,
          586,
          587,
          588,
          589,
          590,
          591,
          592,
          593,
          594,
          595,
          596,
          597,
          598,
          599,
          600,
          601,
          602,
          603,
          604,
          605,
          606,
          607,
          608,
          609,
          610,
          611,
          612,
          613,
          614,
          615,
          616,
          617,
          618,
          619,
          620,
          621,
          622,
          623,
          624,
          625,
          626,
          627,
          628,
          629,
          630,
          631,
          632,
          633,
          634,
          635,
          636,
          637,
          638,
          639,
          640,
          641,
          642,
          643,
          644,
          645,
          646,
          647,
          648,
          649,
          650,
          651,
          652,
          653,
          654,
          655,
          656,
          657,
          658,
          659,
          660,
          661,
          662,
          663,
          664,
          665,
          666,
          667,
          668,
          669,
          670,
          671,
          672,
          673,
          674,
          675,
          676,
          677,
          678,
          679,
          680,
          681,
          682,
          683,
          684,
          685,
          686,
          687,
          688,
          689,
          690,
          691,
          692,
          693,
          694,
          695,
          696,
          697,
          698,
          699,
          700,
          701,
          702,
          703,
          704,
          705,
          706,
          707,
          708,
          709,
          710,
          711,
          712,
          713,
          714,
          715,
          716,
          717,
          718,
          719,
          720,
          721,
          722,
          723,
          724,
          725,
          726,
          727,
          728,
          729,
          730,
          731,
          732,
          733,
          734,
          735,
          736,
          737,
          738,
          739,
          740,
          741,
          742,
          743,
          744,
          745,
          746,
          747,
          748,
          749,
          750,
          751,
          752,
          753,
          754,
          755,
          756,
          757,
          758,
          759,
          760,
          761,
          762,
          763,
          764,
          765,
          766,
          767,
          768,
          769,
          770,
          771,
          772,
          773,
          774,
          775,
          776,
          777,
          778,
          779,
          780,
          781,
          782,
          783,
          784,
          785,
          786,
          787,
          788,
          789,
          790,
          791,
          792,
          793,
          794,
          795,
          796,
          797,
          798,
          799,
          800,
          801,
          802,
          803,
          804,
          805,
          806,
          807,
          808,
          809,
          810,
          811,
          812,
          813,
          814,
          815,
          816,
          817,
          818,
          819,
          820,
          821,
          822,
          823,
          824,
          825,
          826,
          827,
          828,
          829,
          830,
          831,
          832,
          833,
          834,
          835,
          836,
          837,
          838,
          839,
          840,
          841,
          842,
          843,
          844,
          845,
          846,
          847,
          848,
          849,
          850,
          851,
          852,
          853,
          854,
          855,
          856,
          857,
          858,
          859,
          860,
          861,
          862,
          863,
          864,
          865,
          866,
          867,
          868,
          869,
          870,
          871,
          872,
          873,
          874,
          875,
          876,
          877,
          878,
          879,
          880,
          881,
          882,
          883,
          884,
          885,
          886,
          887,
          888,
          889,
          890,
          891,
          892,
          893,
          894,
          895,
          896,
          897,
          898,
          899,
          900,
          901,
          902,
          903,
          904,
          905,
          906,
          907,
          908,
          909,
          910,
          911,
          912,
          913,
          914,
          915,
          916,
          917,
          918,
          919,
          920,
          921,
          922,
          923,
          924,
          925,
          926,
          927,
          928,
          929,
          930,
          931,
          932,
          933,
          934,
          935,
          936,
          937,
          938,
          939,
          940,
          941,
          942,
          943,
          944,
          945,
          946,
          947,
          948,
          949,
          950,
          951,
          952,
          953,
          954,
          955,
          956,
          957,
          958,
          959,
          960,
          961,
          962,
          963,
          964,
          965,
          966,
          967,
          968,
          969,
          970,
          971,
          972,
          973,
          974,
          975,
          976,
          977,
          978,
          979,
          980,
          981,
          982,
          983,
          984,
          985,
          986,
          987,
          988,
          989,
          990,
          991,
          992,
          993,
          994,
          995,
          996,
          997,
          998,
          999
         ],
         "y": {
          "bdata": "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",
          "dtype": "f8"
         }
        }
       ],
       "layout": {
        "height": 700,
        "hovermode": "x",
        "showlegend": false,
        "template": {
         "data": {
          "bar": [
           {
            "error_x": {
             "color": "#2a3f5f"
            },
            "error_y": {
             "color": "#2a3f5f"
            },
            "marker": {
             "line": {
              "color": "white",
              "width": 0.5
             },
             "pattern": {
              "fillmode": "overlay",
              "size": 10,
              "solidity": 0.2
             }
            },
            "type": "bar"
           }
          ],
          "barpolar": [
           {
            "marker": {
             "line": {
              "color": "white",
              "width": 0.5
             },
             "pattern": {
              "fillmode": "overlay",
              "size": 10,
              "solidity": 0.2
             }
            },
            "type": "barpolar"
           }
          ],
          "carpet": [
           {
            "aaxis": {
             "endlinecolor": "#2a3f5f",
             "gridcolor": "#C8D4E3",
             "linecolor": "#C8D4E3",
             "minorgridcolor": "#C8D4E3",
             "startlinecolor": "#2a3f5f"
            },
            "baxis": {
             "endlinecolor": "#2a3f5f",
             "gridcolor": "#C8D4E3",
             "linecolor": "#C8D4E3",
             "minorgridcolor": "#C8D4E3",
             "startlinecolor": "#2a3f5f"
            },
            "type": "carpet"
           }
          ],
          "choropleth": [
           {
            "colorbar": {
             "outlinewidth": 0,
             "ticks": ""
            },
            "type": "choropleth"
           }
          ],
          "contour": [
           {
            "colorbar": {
             "outlinewidth": 0,
             "ticks": ""
            },
            "colorscale": [
             [
              0,
              "#0d0887"
             ],
             [
              0.1111111111111111,
              "#46039f"
             ],
             [
              0.2222222222222222,
              "#7201a8"
             ],
             [
              0.3333333333333333,
              "#9c179e"
             ],
             [
              0.4444444444444444,
              "#bd3786"
             ],
             [
              0.5555555555555556,
              "#d8576b"
             ],
             [
              0.6666666666666666,
              "#ed7953"
             ],
             [
              0.7777777777777778,
              "#fb9f3a"
             ],
             [
              0.8888888888888888,
              "#fdca26"
             ],
             [
              1,
              "#f0f921"
             ]
            ],
            "type": "contour"
           }
          ],
          "contourcarpet": [
           {
            "colorbar": {
             "outlinewidth": 0,
             "ticks": ""
            },
            "type": "contourcarpet"
           }
          ],
          "heatmap": [
           {
            "colorbar": {
             "outlinewidth": 0,
             "ticks": ""
            },
            "colorscale": [
             [
              0,
              "#0d0887"
             ],
             [
              0.1111111111111111,
              "#46039f"
             ],
             [
              0.2222222222222222,
              "#7201a8"
             ],
             [
              0.3333333333333333,
              "#9c179e"
             ],
             [
              0.4444444444444444,
              "#bd3786"
             ],
             [
              0.5555555555555556,
              "#d8576b"
             ],
             [
              0.6666666666666666,
              "#ed7953"
             ],
             [
              0.7777777777777778,
              "#fb9f3a"
             ],
             [
              0.8888888888888888,
              "#fdca26"
             ],
             [
              1,
              "#f0f921"
             ]
            ],
            "type": "heatmap"
           }
          ],
          "histogram": [
           {
            "marker": {
             "pattern": {
              "fillmode": "overlay",
              "size": 10,
              "solidity": 0.2
             }
            },
            "type": "histogram"
           }
          ],
          "histogram2d": [
           {
            "colorbar": {
             "outlinewidth": 0,
             "ticks": ""
            },
            "colorscale": [
             [
              0,
              "#0d0887"
             ],
             [
              0.1111111111111111,
              "#46039f"
             ],
             [
              0.2222222222222222,
              "#7201a8"
             ],
             [
              0.3333333333333333,
              "#9c179e"
             ],
             [
              0.4444444444444444,
              "#bd3786"
             ],
             [
              0.5555555555555556,
              "#d8576b"
             ],
             [
              0.6666666666666666,
              "#ed7953"
             ],
             [
              0.7777777777777778,
              "#fb9f3a"
             ],
             [
              0.8888888888888888,
              "#fdca26"
             ],
             [
              1,
              "#f0f921"
             ]
            ],
            "type": "histogram2d"
           }
          ],
          "histogram2dcontour": [
           {
            "colorbar": {
             "outlinewidth": 0,
             "ticks": ""
            },
            "colorscale": [
             [
              0,
              "#0d0887"
             ],
             [
              0.1111111111111111,
              "#46039f"
             ],
             [
              0.2222222222222222,
              "#7201a8"
             ],
             [
              0.3333333333333333,
              "#9c179e"
             ],
             [
              0.4444444444444444,
              "#bd3786"
             ],
             [
              0.5555555555555556,
              "#d8576b"
             ],
             [
              0.6666666666666666,
              "#ed7953"
             ],
             [
              0.7777777777777778,
              "#fb9f3a"
             ],
             [
              0.8888888888888888,
              "#fdca26"
             ],
             [
              1,
              "#f0f921"
             ]
            ],
            "type": "histogram2dcontour"
           }
          ],
          "mesh3d": [
           {
            "colorbar": {
             "outlinewidth": 0,
             "ticks": ""
            },
            "type": "mesh3d"
           }
          ],
          "parcoords": [
           {
            "line": {
             "colorbar": {
              "outlinewidth": 0,
              "ticks": ""
             }
            },
            "type": "parcoords"
           }
          ],
          "pie": [
           {
            "automargin": true,
            "type": "pie"
           }
          ],
          "scatter": [
           {
            "fillpattern": {
             "fillmode": "overlay",
             "size": 10,
             "solidity": 0.2
            },
            "type": "scatter"
           }
          ],
          "scatter3d": [
           {
            "line": {
             "colorbar": {
              "outlinewidth": 0,
              "ticks": ""
             }
            },
            "marker": {
             "colorbar": {
              "outlinewidth": 0,
              "ticks": ""
             }
            },
            "type": "scatter3d"
           }
          ],
          "scattercarpet": [
           {
            "marker": {
             "colorbar": {
              "outlinewidth": 0,
              "ticks": ""
             }
            },
            "type": "scattercarpet"
           }
          ],
          "scattergeo": [
           {
            "marker": {
             "colorbar": {
              "outlinewidth": 0,
              "ticks": ""
             }
            },
            "type": "scattergeo"
           }
          ],
          "scattergl": [
           {
            "marker": {
             "colorbar": {
              "outlinewidth": 0,
              "ticks": ""
             }
            },
            "type": "scattergl"
           }
          ],
          "scattermap": [
           {
            "marker": {
             "colorbar": {
              "outlinewidth": 0,
              "ticks": ""
             }
            },
            "type": "scattermap"
           }
          ],
          "scattermapbox": [
           {
            "marker": {
             "colorbar": {
              "outlinewidth": 0,
              "ticks": ""
             }
            },
            "type": "scattermapbox"
           }
          ],
          "scatterpolar": [
           {
            "marker": {
             "colorbar": {
              "outlinewidth": 0,
              "ticks": ""
             }
            },
            "type": "scatterpolar"
           }
          ],
          "scatterpolargl": [
           {
            "marker": {
             "colorbar": {
              "outlinewidth": 0,
              "ticks": ""
             }
            },
            "type": "scatterpolargl"
           }
          ],
          "scatterternary": [
           {
            "marker": {
             "colorbar": {
              "outlinewidth": 0,
              "ticks": ""
             }
            },
            "type": "scatterternary"
           }
          ],
          "surface": [
           {
            "colorbar": {
             "outlinewidth": 0,
             "ticks": ""
            },
            "colorscale": [
             [
              0,
              "#0d0887"
             ],
             [
              0.1111111111111111,
              "#46039f"
             ],
             [
              0.2222222222222222,
              "#7201a8"
             ],
             [
              0.3333333333333333,
              "#9c179e"
             ],
             [
              0.4444444444444444,
              "#bd3786"
             ],
             [
              0.5555555555555556,
              "#d8576b"
             ],
             [
              0.6666666666666666,
              "#ed7953"
             ],
             [
              0.7777777777777778,
              "#fb9f3a"
             ],
             [
              0.8888888888888888,
              "#fdca26"
             ],
             [
              1,
              "#f0f921"
             ]
            ],
            "type": "surface"
           }
          ],
          "table": [
           {
            "cells": {
             "fill": {
              "color": "#EBF0F8"
             },
             "line": {
              "color": "white"
             }
            },
            "header": {
             "fill": {
              "color": "#C8D4E3"
             },
             "line": {
              "color": "white"
             }
            },
            "type": "table"
           }
          ]
         },
         "layout": {
          "annotationdefaults": {
           "arrowcolor": "#2a3f5f",
           "arrowhead": 0,
           "arrowwidth": 1
          },
          "autotypenumbers": "strict",
          "coloraxis": {
           "colorbar": {
            "outlinewidth": 0,
            "ticks": ""
           }
          },
          "colorscale": {
           "diverging": [
            [
             0,
             "#8e0152"
            ],
            [
             0.1,
             "#c51b7d"
            ],
            [
             0.2,
             "#de77ae"
            ],
            [
             0.3,
             "#f1b6da"
            ],
            [
             0.4,
             "#fde0ef"
            ],
            [
             0.5,
             "#f7f7f7"
            ],
            [
             0.6,
             "#e6f5d0"
            ],
            [
             0.7,
             "#b8e186"
            ],
            [
             0.8,
             "#7fbc41"
            ],
            [
             0.9,
             "#4d9221"
            ],
            [
             1,
             "#276419"
            ]
           ],
           "sequential": [
            [
             0,
             "#0d0887"
            ],
            [
             0.1111111111111111,
             "#46039f"
            ],
            [
             0.2222222222222222,
             "#7201a8"
            ],
            [
             0.3333333333333333,
             "#9c179e"
            ],
            [
             0.4444444444444444,
             "#bd3786"
            ],
            [
             0.5555555555555556,
             "#d8576b"
            ],
            [
             0.6666666666666666,
             "#ed7953"
            ],
            [
             0.7777777777777778,
             "#fb9f3a"
            ],
            [
             0.8888888888888888,
             "#fdca26"
            ],
            [
             1,
             "#f0f921"
            ]
           ],
           "sequentialminus": [
            [
             0,
             "#0d0887"
            ],
            [
             0.1111111111111111,
             "#46039f"
            ],
            [
             0.2222222222222222,
             "#7201a8"
            ],
            [
             0.3333333333333333,
             "#9c179e"
            ],
            [
             0.4444444444444444,
             "#bd3786"
            ],
            [
             0.5555555555555556,
             "#d8576b"
            ],
            [
             0.6666666666666666,
             "#ed7953"
            ],
            [
             0.7777777777777778,
             "#fb9f3a"
            ],
            [
             0.8888888888888888,
             "#fdca26"
            ],
            [
             1,
             "#f0f921"
            ]
           ]
          },
          "colorway": [
           "#636efa",
           "#EF553B",
           "#00cc96",
           "#ab63fa",
           "#FFA15A",
           "#19d3f3",
           "#FF6692",
           "#B6E880",
           "#FF97FF",
           "#FECB52"
          ],
          "font": {
           "color": "#2a3f5f"
          },
          "geo": {
           "bgcolor": "white",
           "lakecolor": "white",
           "landcolor": "white",
           "showlakes": true,
           "showland": true,
           "subunitcolor": "#C8D4E3"
          },
          "hoverlabel": {
           "align": "left"
          },
          "hovermode": "closest",
          "mapbox": {
           "style": "light"
          },
          "paper_bgcolor": "white",
          "plot_bgcolor": "white",
          "polar": {
           "angularaxis": {
            "gridcolor": "#EBF0F8",
            "linecolor": "#EBF0F8",
            "ticks": ""
           },
           "bgcolor": "white",
           "radialaxis": {
            "gridcolor": "#EBF0F8",
            "linecolor": "#EBF0F8",
            "ticks": ""
           }
          },
          "scene": {
           "xaxis": {
            "backgroundcolor": "white",
            "gridcolor": "#DFE8F3",
            "gridwidth": 2,
            "linecolor": "#EBF0F8",
            "showbackground": true,
            "ticks": "",
            "zerolinecolor": "#EBF0F8"
           },
           "yaxis": {
            "backgroundcolor": "white",
            "gridcolor": "#DFE8F3",
            "gridwidth": 2,
            "linecolor": "#EBF0F8",
            "showbackground": true,
            "ticks": "",
            "zerolinecolor": "#EBF0F8"
           },
           "zaxis": {
            "backgroundcolor": "white",
            "gridcolor": "#DFE8F3",
            "gridwidth": 2,
            "linecolor": "#EBF0F8",
            "showbackground": true,
            "ticks": "",
            "zerolinecolor": "#EBF0F8"
           }
          },
          "shapedefaults": {
           "line": {
            "color": "#2a3f5f"
           }
          },
          "ternary": {
           "aaxis": {
            "gridcolor": "#DFE8F3",
            "linecolor": "#A2B1C6",
            "ticks": ""
           },
           "baxis": {
            "gridcolor": "#DFE8F3",
            "linecolor": "#A2B1C6",
            "ticks": ""
           },
           "bgcolor": "white",
           "caxis": {
            "gridcolor": "#DFE8F3",
            "linecolor": "#A2B1C6",
            "ticks": ""
           }
          },
          "title": {
           "x": 0.05
          },
          "xaxis": {
           "automargin": true,
           "gridcolor": "#EBF0F8",
           "linecolor": "#EBF0F8",
           "ticks": "",
           "title": {
            "standoff": 15
           },
           "zerolinecolor": "#EBF0F8",
           "zerolinewidth": 2
          },
          "yaxis": {
           "automargin": true,
           "gridcolor": "#EBF0F8",
           "linecolor": "#EBF0F8",
           "ticks": "",
           "title": {
            "standoff": 15
           },
           "zerolinecolor": "#EBF0F8",
           "zerolinewidth": 2
          }
         }
        },
        "title": {
         "font": {
          "size": 24
         },
         "text": "Critic Pre-Training Loss",
         "x": 0.5,
         "xanchor": "center"
        },
        "width": 800,
        "xaxis": {
         "tickfont": {
          "size": 18
         },
         "title": {
          "font": {
           "size": 22
          },
          "text": "Training Steps"
         }
        },
        "yaxis": {
         "tickfont": {
          "size": 18
         },
         "title": {
          "font": {
           "size": 22
          },
          "text": "Critic Loss"
         }
        }
       }
      }
     },
     "metadata": {},
     "output_type": "display_data"
    },
    {
     "data": {
      "application/vnd.plotly.v1+json": {
       "config": {
        "plotlyServerURL": "https://plot.ly"
       },
       "data": [
        {
         "line": {
          "color": "rgba(0, 0, 255, 0.7)"
         },
         "mode": "lines",
         "type": "scatter",
         "x": [
          0,
          1,
          2,
          3,
          4,
          5,
          6,
          7,
          8,
          9,
          10,
          11,
          12,
          13,
          14,
          15,
          16,
          17,
          18,
          19,
          20,
          21,
          22,
          23,
          24,
          25,
          26,
          27,
          28,
          29,
          30,
          31,
          32,
          33
         ],
         "y": {
          "bdata": "AAAAIGOuikAzMzNp2nCHQLgeBZdutoVAHVrEwhasgEBlGVri2W6AQPj3ZaC00HxAJb8TN3g6bEBwZGhn67pwQPHdl3eu6WtAQBbB/K7KZ0AdhgqqQbtjQDOsd0tOBXBA8NexFnEYaUDyXUoDdpluQNrPmG/jJ2JA+D0eVPpZJkDeWKbCk7I1wKKArLP+A0VAV20fPXYyQkDwHMFQ6ypHQBh5uGj3gF9ARADoEp6hZEAGzV6AJtNhQIpc1AR6yV5AD7XnhEaAXEAAzhN3DKE1QNP9frNH9VzA8JUk9sACdMA/TNJkdEpwwAToy0ENQGTAbApB3gcJX8BqBaHFsNdywGcR/AfWG3PAL7dfOsPoZMA=",
          "dtype": "f8"
         }
        },
        {
         "line": {
          "color": "rgba(0, 0, 255, 0.2)"
         },
         "mode": "lines",
         "type": "scatter",
         "x": [
          0,
          1,
          2,
          3,
          4,
          5,
          6,
          7,
          8,
          9,
          10,
          11,
          12,
          13,
          14,
          15,
          16,
          17,
          18,
          19,
          20,
          21,
          22,
          23,
          24,
          25,
          26,
          27,
          28,
          29,
          30,
          31,
          32,
          33
         ],
         "y": {
          "bdata": "AAAAIGOuikAAAAAgpFBkQAAAAODB1ndAAAAA4LXHd8AAAACArCd+QAAAAKCQcVdAAAAAYEZMkcABAADAzI1/QAEAAGAGLzzAAQAAgCYXDEAAAAAApDY6wAAAAKASc4lAAAAAgLWHXMAAAACg8+R+QAAAAEDYLXrAAAAAIHhkh8ABAAAgWf9pwAEAAECTMnlAAAAAQDLOEUAAAABgwapZQAAAAIBFDIJAAAAAwAUkeED///8fZL0uQAAAAODI2ylAAAAAYEUYT0AAAABgSV1/wAAAAKBA9ovAAAAA4GIYl8AAAACgoCdTQAAAAGBn0HhAAAAAILeZVkAAAACAnmmUwAAAAID+nXTAAAAAYO5Kg0A=",
          "dtype": "f8"
         }
        }
       ],
       "layout": {
        "height": 700,
        "hovermode": "x",
        "showlegend": false,
        "template": {
         "data": {
          "bar": [
           {
            "error_x": {
             "color": "#2a3f5f"
            },
            "error_y": {
             "color": "#2a3f5f"
            },
            "marker": {
             "line": {
              "color": "white",
              "width": 0.5
             },
             "pattern": {
              "fillmode": "overlay",
              "size": 10,
              "solidity": 0.2
             }
            },
            "type": "bar"
           }
          ],
          "barpolar": [
           {
            "marker": {
             "line": {
              "color": "white",
              "width": 0.5
             },
             "pattern": {
              "fillmode": "overlay",
              "size": 10,
              "solidity": 0.2
             }
            },
            "type": "barpolar"
           }
          ],
          "carpet": [
           {
            "aaxis": {
             "endlinecolor": "#2a3f5f",
             "gridcolor": "#C8D4E3",
             "linecolor": "#C8D4E3",
             "minorgridcolor": "#C8D4E3",
             "startlinecolor": "#2a3f5f"
            },
            "baxis": {
             "endlinecolor": "#2a3f5f",
             "gridcolor": "#C8D4E3",
             "linecolor": "#C8D4E3",
             "minorgridcolor": "#C8D4E3",
             "startlinecolor": "#2a3f5f"
            },
            "type": "carpet"
           }
          ],
          "choropleth": [
           {
            "colorbar": {
             "outlinewidth": 0,
             "ticks": ""
            },
            "type": "choropleth"
           }
          ],
          "contour": [
           {
            "colorbar": {
             "outlinewidth": 0,
             "ticks": ""
            },
            "colorscale": [
             [
              0,
              "#0d0887"
             ],
             [
              0.1111111111111111,
              "#46039f"
             ],
             [
              0.2222222222222222,
              "#7201a8"
             ],
             [
              0.3333333333333333,
              "#9c179e"
             ],
             [
              0.4444444444444444,
              "#bd3786"
             ],
             [
              0.5555555555555556,
              "#d8576b"
             ],
             [
              0.6666666666666666,
              "#ed7953"
             ],
             [
              0.7777777777777778,
              "#fb9f3a"
             ],
             [
              0.8888888888888888,
              "#fdca26"
             ],
             [
              1,
              "#f0f921"
             ]
            ],
            "type": "contour"
           }
          ],
          "contourcarpet": [
           {
            "colorbar": {
             "outlinewidth": 0,
             "ticks": ""
            },
            "type": "contourcarpet"
           }
          ],
          "heatmap": [
           {
            "colorbar": {
             "outlinewidth": 0,
             "ticks": ""
            },
            "colorscale": [
             [
              0,
              "#0d0887"
             ],
             [
              0.1111111111111111,
              "#46039f"
             ],
             [
              0.2222222222222222,
              "#7201a8"
             ],
             [
              0.3333333333333333,
              "#9c179e"
             ],
             [
              0.4444444444444444,
              "#bd3786"
             ],
             [
              0.5555555555555556,
              "#d8576b"
             ],
             [
              0.6666666666666666,
              "#ed7953"
             ],
             [
              0.7777777777777778,
              "#fb9f3a"
             ],
             [
              0.8888888888888888,
              "#fdca26"
             ],
             [
              1,
              "#f0f921"
             ]
            ],
            "type": "heatmap"
           }
          ],
          "histogram": [
           {
            "marker": {
             "pattern": {
              "fillmode": "overlay",
              "size": 10,
              "solidity": 0.2
             }
            },
            "type": "histogram"
           }
          ],
          "histogram2d": [
           {
            "colorbar": {
             "outlinewidth": 0,
             "ticks": ""
            },
            "colorscale": [
             [
              0,
              "#0d0887"
             ],
             [
              0.1111111111111111,
              "#46039f"
             ],
             [
              0.2222222222222222,
              "#7201a8"
             ],
             [
              0.3333333333333333,
              "#9c179e"
             ],
             [
              0.4444444444444444,
              "#bd3786"
             ],
             [
              0.5555555555555556,
              "#d8576b"
             ],
             [
              0.6666666666666666,
              "#ed7953"
             ],
             [
              0.7777777777777778,
              "#fb9f3a"
             ],
             [
              0.8888888888888888,
              "#fdca26"
             ],
             [
              1,
              "#f0f921"
             ]
            ],
            "type": "histogram2d"
           }
          ],
          "histogram2dcontour": [
           {
            "colorbar": {
             "outlinewidth": 0,
             "ticks": ""
            },
            "colorscale": [
             [
              0,
              "#0d0887"
             ],
             [
              0.1111111111111111,
              "#46039f"
             ],
             [
              0.2222222222222222,
              "#7201a8"
             ],
             [
              0.3333333333333333,
              "#9c179e"
             ],
             [
              0.4444444444444444,
              "#bd3786"
             ],
             [
              0.5555555555555556,
              "#d8576b"
             ],
             [
              0.6666666666666666,
              "#ed7953"
             ],
             [
              0.7777777777777778,
              "#fb9f3a"
             ],
             [
              0.8888888888888888,
              "#fdca26"
             ],
             [
              1,
              "#f0f921"
             ]
            ],
            "type": "histogram2dcontour"
           }
          ],
          "mesh3d": [
           {
            "colorbar": {
             "outlinewidth": 0,
             "ticks": ""
            },
            "type": "mesh3d"
           }
          ],
          "parcoords": [
           {
            "line": {
             "colorbar": {
              "outlinewidth": 0,
              "ticks": ""
             }
            },
            "type": "parcoords"
           }
          ],
          "pie": [
           {
            "automargin": true,
            "type": "pie"
           }
          ],
          "scatter": [
           {
            "fillpattern": {
             "fillmode": "overlay",
             "size": 10,
             "solidity": 0.2
            },
            "type": "scatter"
           }
          ],
          "scatter3d": [
           {
            "line": {
             "colorbar": {
              "outlinewidth": 0,
              "ticks": ""
             }
            },
            "marker": {
             "colorbar": {
              "outlinewidth": 0,
              "ticks": ""
             }
            },
            "type": "scatter3d"
           }
          ],
          "scattercarpet": [
           {
            "marker": {
             "colorbar": {
              "outlinewidth": 0,
              "ticks": ""
             }
            },
            "type": "scattercarpet"
           }
          ],
          "scattergeo": [
           {
            "marker": {
             "colorbar": {
              "outlinewidth": 0,
              "ticks": ""
             }
            },
            "type": "scattergeo"
           }
          ],
          "scattergl": [
           {
            "marker": {
             "colorbar": {
              "outlinewidth": 0,
              "ticks": ""
             }
            },
            "type": "scattergl"
           }
          ],
          "scattermap": [
           {
            "marker": {
             "colorbar": {
              "outlinewidth": 0,
              "ticks": ""
             }
            },
            "type": "scattermap"
           }
          ],
          "scattermapbox": [
           {
            "marker": {
             "colorbar": {
              "outlinewidth": 0,
              "ticks": ""
             }
            },
            "type": "scattermapbox"
           }
          ],
          "scatterpolar": [
           {
            "marker": {
             "colorbar": {
              "outlinewidth": 0,
              "ticks": ""
             }
            },
            "type": "scatterpolar"
           }
          ],
          "scatterpolargl": [
           {
            "marker": {
             "colorbar": {
              "outlinewidth": 0,
              "ticks": ""
             }
            },
            "type": "scatterpolargl"
           }
          ],
          "scatterternary": [
           {
            "marker": {
             "colorbar": {
              "outlinewidth": 0,
              "ticks": ""
             }
            },
            "type": "scatterternary"
           }
          ],
          "surface": [
           {
            "colorbar": {
             "outlinewidth": 0,
             "ticks": ""
            },
            "colorscale": [
             [
              0,
              "#0d0887"
             ],
             [
              0.1111111111111111,
              "#46039f"
             ],
             [
              0.2222222222222222,
              "#7201a8"
             ],
             [
              0.3333333333333333,
              "#9c179e"
             ],
             [
              0.4444444444444444,
              "#bd3786"
             ],
             [
              0.5555555555555556,
              "#d8576b"
             ],
             [
              0.6666666666666666,
              "#ed7953"
             ],
             [
              0.7777777777777778,
              "#fb9f3a"
             ],
             [
              0.8888888888888888,
              "#fdca26"
             ],
             [
              1,
              "#f0f921"
             ]
            ],
            "type": "surface"
           }
          ],
          "table": [
           {
            "cells": {
             "fill": {
              "color": "#EBF0F8"
             },
             "line": {
              "color": "white"
             }
            },
            "header": {
             "fill": {
              "color": "#C8D4E3"
             },
             "line": {
              "color": "white"
             }
            },
            "type": "table"
           }
          ]
         },
         "layout": {
          "annotationdefaults": {
           "arrowcolor": "#2a3f5f",
           "arrowhead": 0,
           "arrowwidth": 1
          },
          "autotypenumbers": "strict",
          "coloraxis": {
           "colorbar": {
            "outlinewidth": 0,
            "ticks": ""
           }
          },
          "colorscale": {
           "diverging": [
            [
             0,
             "#8e0152"
            ],
            [
             0.1,
             "#c51b7d"
            ],
            [
             0.2,
             "#de77ae"
            ],
            [
             0.3,
             "#f1b6da"
            ],
            [
             0.4,
             "#fde0ef"
            ],
            [
             0.5,
             "#f7f7f7"
            ],
            [
             0.6,
             "#e6f5d0"
            ],
            [
             0.7,
             "#b8e186"
            ],
            [
             0.8,
             "#7fbc41"
            ],
            [
             0.9,
             "#4d9221"
            ],
            [
             1,
             "#276419"
            ]
           ],
           "sequential": [
            [
             0,
             "#0d0887"
            ],
            [
             0.1111111111111111,
             "#46039f"
            ],
            [
             0.2222222222222222,
             "#7201a8"
            ],
            [
             0.3333333333333333,
             "#9c179e"
            ],
            [
             0.4444444444444444,
             "#bd3786"
            ],
            [
             0.5555555555555556,
             "#d8576b"
            ],
            [
             0.6666666666666666,
             "#ed7953"
            ],
            [
             0.7777777777777778,
             "#fb9f3a"
            ],
            [
             0.8888888888888888,
             "#fdca26"
            ],
            [
             1,
             "#f0f921"
            ]
           ],
           "sequentialminus": [
            [
             0,
             "#0d0887"
            ],
            [
             0.1111111111111111,
             "#46039f"
            ],
            [
             0.2222222222222222,
             "#7201a8"
            ],
            [
             0.3333333333333333,
             "#9c179e"
            ],
            [
             0.4444444444444444,
             "#bd3786"
            ],
            [
             0.5555555555555556,
             "#d8576b"
            ],
            [
             0.6666666666666666,
             "#ed7953"
            ],
            [
             0.7777777777777778,
             "#fb9f3a"
            ],
            [
             0.8888888888888888,
             "#fdca26"
            ],
            [
             1,
             "#f0f921"
            ]
           ]
          },
          "colorway": [
           "#636efa",
           "#EF553B",
           "#00cc96",
           "#ab63fa",
           "#FFA15A",
           "#19d3f3",
           "#FF6692",
           "#B6E880",
           "#FF97FF",
           "#FECB52"
          ],
          "font": {
           "color": "#2a3f5f"
          },
          "geo": {
           "bgcolor": "white",
           "lakecolor": "white",
           "landcolor": "white",
           "showlakes": true,
           "showland": true,
           "subunitcolor": "#C8D4E3"
          },
          "hoverlabel": {
           "align": "left"
          },
          "hovermode": "closest",
          "mapbox": {
           "style": "light"
          },
          "paper_bgcolor": "white",
          "plot_bgcolor": "white",
          "polar": {
           "angularaxis": {
            "gridcolor": "#EBF0F8",
            "linecolor": "#EBF0F8",
            "ticks": ""
           },
           "bgcolor": "white",
           "radialaxis": {
            "gridcolor": "#EBF0F8",
            "linecolor": "#EBF0F8",
            "ticks": ""
           }
          },
          "scene": {
           "xaxis": {
            "backgroundcolor": "white",
            "gridcolor": "#DFE8F3",
            "gridwidth": 2,
            "linecolor": "#EBF0F8",
            "showbackground": true,
            "ticks": "",
            "zerolinecolor": "#EBF0F8"
           },
           "yaxis": {
            "backgroundcolor": "white",
            "gridcolor": "#DFE8F3",
            "gridwidth": 2,
            "linecolor": "#EBF0F8",
            "showbackground": true,
            "ticks": "",
            "zerolinecolor": "#EBF0F8"
           },
           "zaxis": {
            "backgroundcolor": "white",
            "gridcolor": "#DFE8F3",
            "gridwidth": 2,
            "linecolor": "#EBF0F8",
            "showbackground": true,
            "ticks": "",
            "zerolinecolor": "#EBF0F8"
           }
          },
          "shapedefaults": {
           "line": {
            "color": "#2a3f5f"
           }
          },
          "ternary": {
           "aaxis": {
            "gridcolor": "#DFE8F3",
            "linecolor": "#A2B1C6",
            "ticks": ""
           },
           "baxis": {
            "gridcolor": "#DFE8F3",
            "linecolor": "#A2B1C6",
            "ticks": ""
           },
           "bgcolor": "white",
           "caxis": {
            "gridcolor": "#DFE8F3",
            "linecolor": "#A2B1C6",
            "ticks": ""
           }
          },
          "title": {
           "x": 0.05
          },
          "xaxis": {
           "automargin": true,
           "gridcolor": "#EBF0F8",
           "linecolor": "#EBF0F8",
           "ticks": "",
           "title": {
            "standoff": 15
           },
           "zerolinecolor": "#EBF0F8",
           "zerolinewidth": 2
          },
          "yaxis": {
           "automargin": true,
           "gridcolor": "#EBF0F8",
           "linecolor": "#EBF0F8",
           "ticks": "",
           "title": {
            "standoff": 15
           },
           "zerolinecolor": "#EBF0F8",
           "zerolinewidth": 2
          }
         }
        },
        "title": {
         "font": {
          "size": 24
         },
         "text": "Episode Reward",
         "x": 0.5,
         "xanchor": "center"
        },
        "width": 800,
        "xaxis": {
         "tickfont": {
          "size": 18
         },
         "title": {
          "font": {
           "size": 22
          },
          "text": "Episodes"
         }
        },
        "yaxis": {
         "tickfont": {
          "size": 18
         },
         "title": {
          "font": {
           "size": 22
          },
          "text": "Reward"
         }
        }
       }
      }
     },
     "metadata": {},
     "output_type": "display_data"
    }
   ],
   "source": [
    "import os\n",
    "import pandas as pd\n",
    "import plotly.graph_objects as go\n",
    "import numpy as np\n",
    "from scipy.ndimage import gaussian_filter1d\n",
    "\n",
    "def ema_smooth(data, alpha=0.6):\n",
    "    smoothed = np.zeros_like(data)\n",
    "    smoothed[0] = data[0]\n",
    "    for t in range(1, len(data)):\n",
    "        smoothed[t] = alpha * data[t] + (1 - alpha) * smoothed[t - 1]\n",
    "    return smoothed\n",
    "\n",
    "\n",
    "\n",
    "def plot_interactive(title, y_data, labels, x_axis_label, y_axis_label, smooth_window=None):\n",
    "    fig = go.Figure()\n",
    "    for data, label in zip(y_data, labels):\n",
    "        steps = list(range(len(data)))\n",
    "        if smooth_window is not None:\n",
    "            smoothed_data = ema_smooth(data, smooth_window)\n",
    "            fig.add_trace(go.Scatter(x=steps, y=smoothed_data, mode='lines', line=dict(color='rgba(0, 0, 255, 0.7)')))\n",
    "            fig.add_trace(go.Scatter(x=steps, y=data, mode='lines', line=dict(color='rgba(0, 0, 255, 0.2)'))) # No markers\n",
    "        else:\n",
    "            fig.add_trace(go.Scatter(x=steps, y=data, mode='lines', line=dict(color='rgba(0, 0, 255, 0.7)'))) \n",
    "\n",
    "    fig.update_layout(\n",
    "        title={\n",
    "            'text': title,  # Title text\n",
    "            'x': 0.5,  # Center the title horizontally\n",
    "            'xanchor': 'center',  # Anchor the title to the center\n",
    "            'font': {'size': 24},  # Increase title font size\n",
    "        },\n",
    "        xaxis_title=x_axis_label,\n",
    "        yaxis_title=y_axis_label,\n",
    "        hovermode=\"x\",\n",
    "        width=800,  # Set the figure width (in pixels)\n",
    "        height=700,\n",
    "        template=\"plotly_white\",  # Light mode\n",
    "        \n",
    "      \n",
    "        xaxis=dict(\n",
    "            title=x_axis_label,\n",
    "            title_font=dict(size=22),  # Increase x-axis label font size\n",
    "            tickfont=dict(size=18)  # Increase x-axis tick font size\n",
    "        ),\n",
    "        yaxis=dict(\n",
    "            title=y_axis_label,\n",
    "            title_font=dict(size=22),  # Increase y-axis label font size\n",
    "            tickfont=dict(size=18)  # Increase y-axis tick font size\n",
    "        ),\n",
    "        showlegend=False  \n",
    "    )\n",
    "    \n",
    "    fig.show()\n",
    "\n",
    "# Interactive plots\n",
    "plot_interactive(\"Critic Pre-Training Loss\", \n",
    "                 [pretraining_loss], \n",
    "                 [\"Critic Loss\"], \n",
    "                 \"Training Steps\",\n",
    "                 \"Critic Loss\")\n",
    "\n",
    "plot_interactive(\"Episode Reward\", \n",
    "                 [rewards], \n",
    "                 [\"Reward\"], \n",
    "                 \"Episodes\",\n",
    "                 \"Reward\", smooth_window=0.15)\n",
    "\n",
    "\n",
    "\n"
   ]
  },
  {
   "cell_type": "code",
   "execution_count": null,
   "metadata": {},
   "outputs": [],
   "source": []
  },
  {
   "cell_type": "code",
   "execution_count": null,
   "metadata": {},
   "outputs": [],
   "source": []
  }
 ],
 "metadata": {
  "kernelspec": {
   "display_name": "ros2_rnd_venv",
   "language": "python",
   "name": "python3"
  },
  "language_info": {
   "codemirror_mode": {
    "name": "ipython",
    "version": 3
   },
   "file_extension": ".py",
   "mimetype": "text/x-python",
   "name": "python",
   "nbconvert_exporter": "python",
   "pygments_lexer": "ipython3",
   "version": "3.10.12"
  }
 },
 "nbformat": 4,
 "nbformat_minor": 2
}
